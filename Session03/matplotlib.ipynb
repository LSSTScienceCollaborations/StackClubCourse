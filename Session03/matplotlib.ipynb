{
 "cells": [
  {
   "cell_type": "markdown",
   "metadata": {},
   "source": [
    "# Session 03: Intro to Matplotlib Plotting on the Science Platform\n",
    "\n",
    "<br>Owner(s): **Keith Bechtol** ([@bechtol](https://github.com/LSSTScienceCollaborations/StackClub/issues/new?body=@bechtol))\n",
    "<br>Last Verified to Run: **2020-05-19**\n",
    "<br>Verified Stack Release: **w_2020_19**\n",
    "\n",
    "This notebook is intended as a warm-up to the Visualization lesson (Lesson 3), providing a brief introduction to data visualization with [matplotlib](https://matplotlib.org/). Matplotlib is one of the most widely used libraries for data visualization in astrophysics, and extensive documentation as well as many [examples](https://matplotlib.org/gallery/index.html) can be found with a quick websearch. Matplotlib is also part of the [PyViz](https://pyviz.org/) suite of visualization tools for python. This notebook walks through a few examples to get you started quickly plotting data from Rubin Observatory and precursor datasets.\n",
    "\n",
    "Today we'll cover:\n",
    "* How to create a few common types of plots for tabular data (histograms, scatter plots)\n",
    "* How to customize plot style, e.g., colors, markerstyle, axis labels, legends, etc.\n",
    "\n",
    "We'll use the same datasets "
   ]
  },
  {
   "cell_type": "code",
   "execution_count": null,
   "metadata": {},
   "outputs": [],
   "source": [
    "# What version of the Stack am I using?\n",
    "! echo $HOSTNAME\n",
    "! eups list -s lsst_distrib"
   ]
  },
  {
   "cell_type": "markdown",
   "metadata": {},
   "source": [
    "## Preliminaries"
   ]
  },
  {
   "cell_type": "markdown",
   "metadata": {},
   "source": [
    "Let's begin by importing plotting packages. Right away, we are faced with a choice as to which [backend](https://matplotlib.org/faq/usage_faq.html#what-is-a-backend) to use for plotting. For this demo, we'll use the [ipympl](https://github.com/matplotlib/ipympl) backend that allows us to create interactive plots (e.g., pan, zoom, and resize canvas capability) in a JupyterLab notebook. This option is enabled with the line\n",
    "\n",
    "```%matplotlib widget```\n",
    "\n",
    "Once the backend is set, one needs to restart the kernel to select a different backend. Alternatively, one could use the *inline* backend, if no user interactivity is required.\n",
    "\n",
    "```%matplotlib inline```\n",
    "\n",
    "It appears that the *inline* backend is used by default on the Science Platform.\n",
    "\n",
    "Some discussion on the relationship between matplotlib, pyplot, and pylab [here](https://matplotlib.org/faq/usage_faq.html#matplotlib-pyplot-and-pylab-how-are-they-related)."
   ]
  },
  {
   "cell_type": "code",
   "execution_count": null,
   "metadata": {},
   "outputs": [],
   "source": [
    "# Non-interactive plots\n",
    "#%matplotlib inline\n",
    "# Enable interactive plots\n",
    "%matplotlib widget \n",
    "#%matplotlib ipympl\n",
    "\n",
    "import numpy as np\n",
    "import matplotlib\n",
    "import matplotlib.pyplot as plt"
   ]
  },
  {
   "cell_type": "markdown",
   "metadata": {},
   "source": [
    "We can [customize plotting style with matplotlib](https://matplotlib.org/3.2.1/tutorials/introductory/customizing.html) by setting default parameters. This is an optional step if you are fine with the default style."
   ]
  },
  {
   "cell_type": "code",
   "execution_count": null,
   "metadata": {},
   "outputs": [],
   "source": [
    "matplotlib.rcParams[\"figure.figsize\"] = (6, 4)\n",
    "matplotlib.rcParams[\"font.size\"] = 10\n",
    "matplotlib.rcParams[\"figure.dpi\"] = 120"
   ]
  },
  {
   "cell_type": "markdown",
   "metadata": {},
   "source": [
    "## Abstract Example\n",
    "\n",
    "Let's do one completely abstract example just to illustration purposes. First, make some simple data."
   ]
  },
  {
   "cell_type": "code",
   "execution_count": null,
   "metadata": {},
   "outputs": [],
   "source": [
    "x = np.linspace(0, 2 * np.pi, 100)\n",
    "y1 = x\n",
    "y2 = x**3\n",
    "y3 = np.cos(x)\n",
    "y4 = np.sin(x)"
   ]
  },
  {
   "cell_type": "markdown",
   "metadata": {},
   "source": [
    "Now, we can very quickly get started. \n",
    "\n",
    "**Exercise:** Use the interactive widgets to pan and zoom, and to adjust the canvas size. The \"Home\" button should bring you back to the original figure."
   ]
  },
  {
   "cell_type": "code",
   "execution_count": null,
   "metadata": {},
   "outputs": [],
   "source": [
    "plt.figure()\n",
    "plt.scatter(x, y4)"
   ]
  },
  {
   "cell_type": "markdown",
   "metadata": {},
   "source": [
    "We can enhance the figure with various labels and adjust the visual appearance.\n",
    "\n",
    "**Exercise:** modify the cell below to change the plotting style."
   ]
  },
  {
   "cell_type": "code",
   "execution_count": null,
   "metadata": {},
   "outputs": [],
   "source": [
    "plt.figure()\n",
    "plt.plot(x, y1, \n",
    "         label='y1')\n",
    "plt.plot(x, y2, \n",
    "         lw=2, label='y2')\n",
    "plt.plot(x, y3, \n",
    "         ls='--', label='y3')\n",
    "plt.scatter(x, y4, \n",
    "            c='black')\n",
    "plt.plot(x, y4, label='y4')\n",
    "plt.xlabel('The horizontal axis')\n",
    "plt.ylabel('The vertical axis')\n",
    "plt.title('My Plot')\n",
    "plt.xlim(0., 2 * np.pi)\n",
    "plt.ylim(-2, 2.)\n",
    "plt.legend(loc='upper right')"
   ]
  },
  {
   "cell_type": "markdown",
   "metadata": {},
   "source": [
    "The MATLAB style used above is suitable for quick plotting, but for more involved applications, it is advised to use the more verbose pyplot style. The example below is directly inspired by the example [here](https://matplotlib.org/faq/usage_faq.html#coding-styles)."
   ]
  },
  {
   "cell_type": "code",
   "execution_count": null,
   "metadata": {},
   "outputs": [],
   "source": [
    "def my_plotter(ax, data1, data2, param_dict):\n",
    "    \"\"\"\n",
    "    A helper function to make a graph\n",
    "\n",
    "    Parameters\n",
    "    ----------\n",
    "    ax : Axes\n",
    "        The axes to draw to\n",
    "\n",
    "    data1 : array\n",
    "       The x data\n",
    "\n",
    "    data2 : array\n",
    "       The y data\n",
    "\n",
    "    param_dict : dict\n",
    "       Dictionary of kwargs to pass to ax.plot\n",
    "\n",
    "    Returns\n",
    "    -------\n",
    "    out : list\n",
    "        list of artists added\n",
    "    \"\"\"\n",
    "    out = ax.plot(data1, data2, **param_dict)\n",
    "    ax.legend()\n",
    "    return out"
   ]
  },
  {
   "cell_type": "markdown",
   "metadata": {},
   "source": [
    "Re-create the earlier example in the pyplot style."
   ]
  },
  {
   "cell_type": "code",
   "execution_count": null,
   "metadata": {},
   "outputs": [],
   "source": [
    "fig, ax = plt.subplots(1, 1)\n",
    "my_plotter(ax, x, y4, {'marker':'o', 'label':'y1'})\n",
    "ax.set_xlabel('The Horizontal Axis')\n",
    "ax.set_ylabel('The Vertical Axis')\n",
    "ax.set_xlim(0, 2. * np.pi)"
   ]
  },
  {
   "cell_type": "markdown",
   "metadata": {},
   "source": [
    "In the example above, we have specified which `axes` to draw the plot on. A single figure can own multiple axes, as can be seen in the example below. We see the power of the more object-oriented pyplot style as we create more complex visualizations."
   ]
  },
  {
   "cell_type": "code",
   "execution_count": null,
   "metadata": {},
   "outputs": [],
   "source": [
    "fig, ax = plt.subplots(2, 2)\n",
    "my_plotter(ax[0][0], x, y1, {'marker':'x', 'label':'y1'})\n",
    "my_plotter(ax[0][1], x, y2, {'marker':'o', 'label':'y2'})\n",
    "my_plotter(ax[1][0], x, y3, {'color':'red', 'label':'y3'})\n",
    "my_plotter(ax[1][1], x, y4, {'ls':'--', 'label':'y4'})\n",
    "#plt.subplots_adjust(hspace=0, left=0.25) # Optionally adjust the layout"
   ]
  },
  {
   "cell_type": "markdown",
   "metadata": {},
   "source": [
    "Before moving on, a quick histogram example."
   ]
  },
  {
   "cell_type": "code",
   "execution_count": null,
   "metadata": {},
   "outputs": [],
   "source": [
    "# Generate 1M random points from a normal distribution\n",
    "z = np.random.normal(size=1000000)\n",
    "\n",
    "# Specify the binning\n",
    "bins = np.linspace(-5., 5, 101)\n",
    "\n",
    "# Now create the figure\n",
    "plt.figure()\n",
    "plt.hist(z, bins=bins)\n",
    "plt.xlabel('Value')\n",
    "plt.ylabel('Counts')"
   ]
  },
  {
   "cell_type": "markdown",
   "metadata": {},
   "source": [
    "## Access HSC Data"
   ]
  },
  {
   "cell_type": "markdown",
   "metadata": {},
   "source": [
    "The cell below typically takes roughly a minute to run.\n",
    "\n",
    "Now let's access some data, specifically we'll use a utility function to assemble a catalog of good quality coadd objects from a few neighboring patches in the HSC RC2 dataset used for continuous integration testing. The function returns a python dictionary of pandas [DataFrames](https://pandas.pydata.org/pandas-docs/stable/reference/api/pandas.DataFrame.html), with one DataFrame per band. DataFrames are general purpose tools for working with tabular data and have no specific connection to astronomy or the software stack. The process to create this catalog is inspired by the Stack tutorial [here](https://pipelines.lsst.io/getting-started/multiband-analysis.html). "
   ]
  },
  {
   "cell_type": "code",
   "execution_count": null,
   "metadata": {},
   "outputs": [],
   "source": [
    "%%time\n",
    "\n",
    "import utils\n",
    "data = utils.getData()"
   ]
  },
  {
   "cell_type": "code",
   "execution_count": null,
   "metadata": {},
   "outputs": [],
   "source": [
    "# In case we need to modify the utility function\n",
    "#import importlib\n",
    "#importlib.reload(utils)"
   ]
  },
  {
   "cell_type": "markdown",
   "metadata": {},
   "source": [
    "Let's look at the dictionary object returned. Notice that we added columns for the PSF and CModel magnitudes."
   ]
  },
  {
   "cell_type": "code",
   "execution_count": null,
   "metadata": {},
   "outputs": [],
   "source": [
    "# Show the keys\n",
    "print(data.keys())\n",
    "# Show one of the DataFrames, in this, corresponding to the HSC i band\n",
    "data['HSC-I'].head()"
   ]
  },
  {
   "cell_type": "markdown",
   "metadata": {},
   "source": [
    "If you are curious to explore the coadd forced object catalog further, here's the forced source catalog for a single band and single patch. Remembering what Yusra showed last week, we can access a specific data product by using the Butler with a specific `dataId` (which is similar to a SQL `where` statement)."
   ]
  },
  {
   "cell_type": "code",
   "execution_count": null,
   "metadata": {},
   "outputs": [],
   "source": [
    "from lsst.daf.persistence import Butler\n",
    "REPO = '/datasets/hsc/repo/rerun/RC/w_2020_19/DM-24822'\n",
    "butler = Butler(REPO)\n",
    "\n",
    "# Available tracts: 9615  9697  9813\n",
    "dataid = {'filter':'HSC-I', 'tract':9697, 'patch':'0,0'}\n",
    "coadd_forced_src = butler.get('deepCoadd_forced_src', dataId=dataid)\n",
    "\n",
    "# Full list of columns\n",
    "#coadd_forced_src.getSchema().getNames()"
   ]
  },
  {
   "cell_type": "markdown",
   "metadata": {},
   "source": [
    "## Scatter Plot Example"
   ]
  },
  {
   "cell_type": "markdown",
   "metadata": {},
   "source": [
    "First a sanity check plot to show that the same set of matched sources is found in the three bands. Notice that `coord_ra` and `coord_dec` are given in radians. We can zoom in and pan around to confirm that the measurements in the three bands correspond to a single matched set of objects."
   ]
  },
  {
   "cell_type": "code",
   "execution_count": null,
   "metadata": {},
   "outputs": [],
   "source": [
    "plt.figure()\n",
    "plt.scatter(data['HSC-G']['coord_ra'], data['HSC-G']['coord_dec'], marker='+', label='G')\n",
    "plt.scatter(data['HSC-R']['coord_ra'], data['HSC-R']['coord_dec'], marker='x', label='R')\n",
    "plt.scatter(data['HSC-I']['coord_ra'], data['HSC-I']['coord_dec'], marker='2', label='I')\n",
    "plt.legend()\n",
    "plt.xlabel('RA')\n",
    "plt.ylabel('Dec')"
   ]
  },
  {
   "cell_type": "markdown",
   "metadata": {},
   "source": [
    "Often when exploring a multidimensional space, it is helpful to visualize three or more quantities simulataneously using color-coded markers on scatter plots. Note that it is also possible to pass an array of marker sizes to the `scatter` function to plot points with different size values. Below is a color-color diagram with the points color-coded according to their consistency with a PSF model: unresolved stars will have concentration values near zero, while morphologically extended objects like resolved galaxies will have positive concentration values."
   ]
  },
  {
   "cell_type": "code",
   "execution_count": null,
   "metadata": {},
   "outputs": [],
   "source": [
    "# Variables to plot\n",
    "concentration = data['HSC-I']['psf_mag'] - data['HSC-I']['cm_mag']\n",
    "gr = data['HSC-G']['cm_mag'] - data['HSC-R']['cm_mag']\n",
    "ri = data['HSC-R']['cm_mag'] - data['HSC-I']['cm_mag']\n",
    "\n",
    "plt.figure()\n",
    "# The vmin and vmax control the colorbar range \n",
    "# We're using a smaller point-like marker \".\"\n",
    "# The \"s\" keywork argument controls the marker size\n",
    "plt.scatter(gr, ri, \n",
    "            c=concentration, \n",
    "            vmin=-0.02, vmax=0.2,\n",
    "            marker='.',s=1)\n",
    "# Notice that we can use LaTeX math syntax in the plot labels\n",
    "plt.xlabel('$g - r$')\n",
    "plt.ylabel('$r - i$')\n",
    "plt.colorbar(label='Concentration')"
   ]
  },
  {
   "cell_type": "markdown",
   "metadata": {},
   "source": [
    "Let's separate the stars and galaxies and compare their colors and morphology."
   ]
  },
  {
   "cell_type": "code",
   "execution_count": null,
   "metadata": {},
   "outputs": [],
   "source": [
    "ext = (data['HSC-I']['base_ClassificationExtendedness_value'] == 1.)\n",
    "\n",
    "# Single-panel figure\n",
    "#plt.figure()\n",
    "#plt.scatter(gr[ext], ri[ext],\n",
    "#            marker='.', label='Galaxies')\n",
    "#plt.scatter(gr[~ext], ri[~ext],\n",
    "#            marker='.', label='Stars')\n",
    "#plt.legend(loc='upper left')\n",
    "#plt.xlabel('$g - r$')\n",
    "#plt.ylabel('$r - i$')\n",
    "\n",
    "# Two-panel figure\n",
    "fig, ax = plt.subplots(1, 2, figsize=(10, 5))\n",
    "ax[0].scatter(gr[ext], ri[ext],\n",
    "              marker='.', label='Galaxies')\n",
    "ax[0].scatter(gr[~ext], ri[~ext],\n",
    "              marker='.', label='Stars')\n",
    "ax[0].legend(loc='upper left')\n",
    "ax[0].set_xlabel('$g - r$')\n",
    "ax[0].set_ylabel('$r - i$')\n",
    "ax[1].scatter(data['HSC-I']['cm_mag'][ext], \n",
    "              concentration[ext],\n",
    "              marker='.', label='Galaxies')\n",
    "ax[1].scatter(data['HSC-I']['cm_mag'][~ext], \n",
    "              concentration[~ext],\n",
    "              marker='.', label='Stars')\n",
    "ax[1].legend(loc='upper left')\n",
    "ax[1].set_xlabel('$i$')\n",
    "ax[1].set_ylabel('Concentration')\n",
    "ax[1].set_ylim(-0.2, 1.)\n",
    "plt.subplots_adjust(wspace=0.3, left=0.075)"
   ]
  },
  {
   "cell_type": "markdown",
   "metadata": {},
   "source": [
    "## Histogram Example"
   ]
  },
  {
   "cell_type": "markdown",
   "metadata": {},
   "source": [
    "Next we compare the flux distribution of stars and galaxies using histograms."
   ]
  },
  {
   "cell_type": "code",
   "execution_count": null,
   "metadata": {},
   "outputs": [],
   "source": [
    "bins = np.arange(16., 30., 0.5)\n",
    "\n",
    "plt.figure()\n",
    "plt.yscale('log')\n",
    "kwargs = {'bins': bins,\n",
    "          'histtype': 'step',\n",
    "          'lw': 2}\n",
    "plt.hist(data['HSC-I']['cm_mag'], **kwargs, label='All')\n",
    "plt.hist(data['HSC-I']['cm_mag'][ext], **kwargs, label='Galaxies')\n",
    "plt.hist(data['HSC-I']['cm_mag'][~ext], **kwargs, label='Stars')\n",
    "plt.xlim(18., 26.)\n",
    "plt.legend(loc='upper left')"
   ]
  },
  {
   "cell_type": "markdown",
   "metadata": {},
   "source": [
    "## Two-dimensional Histograms\n",
    "\n",
    "Two-dimensional histograms are useful as we increase the number of data points to plot. The example below (based on this [demo](https://matplotlib.org/examples/pylab_examples/hist2d_log_demo.html)) shows how to use a logarithmic colorscale. In this example, we have used one of the perceptually uniform [colormaps](https://matplotlib.org/tutorials/colors/colormaps.html?highlight=colormaps) that are more colorblind friendly and convert better to grayscale."
   ]
  },
  {
   "cell_type": "code",
   "execution_count": null,
   "metadata": {},
   "outputs": [],
   "source": [
    "plt.figure()\n",
    "plt.hist2d(gr[~ext], ri[~ext], \n",
    "           norm=matplotlib.colors.LogNorm(),\n",
    "           bins=51, cmap='plasma')\n",
    "plt.colorbar(label='Counts')\n",
    "plt.xlabel('$g - r$')\n",
    "plt.ylabel('$r - i$')\n",
    "plt.xlim(-0.5, 2.5)\n",
    "plt.ylim(-0.5, 2.5)"
   ]
  },
  {
   "cell_type": "markdown",
   "metadata": {},
   "source": [
    "We might want to compare two different distributions, sometimes it is useful to draw two sets of contours instead of a two-dimensional histogram. First define a helper function to draw the contours. (Notice that we apply a Gaussian KDE to the data so that the contours are smooth.)"
   ]
  },
  {
   "cell_type": "code",
   "execution_count": null,
   "metadata": {},
   "outputs": [],
   "source": [
    "from scipy.stats import kde\n",
    "\n",
    "def contour(ax, x, y, nbins=51, **kwargs):\n",
    "    data = np.vstack([x, y])\n",
    "    k = kde.gaussian_kde(data)\n",
    "    xi, yi = np.mgrid[x.min():x.max():nbins*1j, y.min():y.max():nbins*1j]\n",
    "    zi = k(np.vstack([xi.flatten(), yi.flatten()]))\n",
    "    ax.contour(xi, yi, zi.reshape(xi.shape), **kwargs)"
   ]
  },
  {
   "cell_type": "markdown",
   "metadata": {},
   "source": [
    "Now create the figure and plot."
   ]
  },
  {
   "cell_type": "code",
   "execution_count": null,
   "metadata": {},
   "outputs": [],
   "source": [
    "fig, ax = plt.subplots(1,1)\n",
    "#contour(ax, gr[ext], ri[ext], cmap='Reds')\n",
    "#contour(ax, gr[~ext], ri[~ext], cmap='Blues')\n",
    "ax.scatter(gr[ext], ri[ext], s=1, edgecolor='none', c='black', alpha=0.5)\n",
    "ax.scatter(gr[~ext], ri[~ext], s=1, edgecolor='none', c='red', alpha=0.5)\n",
    "contour(ax, gr[ext], ri[ext], colors='black')\n",
    "contour(ax, gr[~ext], ri[~ext], colors='red')\n",
    "#ax.legend()\n",
    "ax.set_xlabel('$g - r$')\n",
    "ax.set_ylabel('$r - i$')\n",
    "ax.set_xlim(-0.5, 2.5)\n",
    "ax.set_ylim(-0.5, 2.5)"
   ]
  },
  {
   "cell_type": "markdown",
   "metadata": {},
   "source": [
    "## Wrap-up"
   ]
  },
  {
   "cell_type": "markdown",
   "metadata": {},
   "source": [
    "There is much more to learn about visualization with matplotlib, but that should be enough to get started exploring precursor and simulated Rubin Observatory datasets for this Stack Club course. If you want to see more examples of cool matplotlib figures, check out the [matplotlib image gallery](https://matplotlib.org/gallery/index.html).\n",
    "\n",
    "**Exercise:** Create your own figure to explore this small HSC dataset. For example, try creating a stellar color-magnitude diagram with [error bars](https://matplotlib.org/3.2.1/api/_as_gen/matplotlib.pyplot.errorbar.html) in the pyplot style.\n",
    "\n",
    "Hint: The magnitude uncertainty can be computed as \n",
    "\n",
    "$\\sigma_{\\rm mag} \\approx 2.5 \\log_{10} \\left(1 + \\rm{SNR}^{-1} \\right)$\n",
    "\n",
    "with signal-to-noise evaluated as\n",
    "\n",
    "$\\rm{SNR} = \\frac{\\rm{flux}}{\\sigma_{\\rm flux}}$."
   ]
  },
  {
   "cell_type": "code",
   "execution_count": null,
   "metadata": {},
   "outputs": [],
   "source": [
    "def magnitudeError(flux, flux_err):\n",
    "    snr = data['HSC-I']['base_PsfFlux_instFlux'] / data['HSC-I']['base_PsfFlux_instFluxErr']\n",
    "    mag_err = 2.5 * np.log10(1. + snr**-1)\n",
    "    return mag_err"
   ]
  },
  {
   "cell_type": "code",
   "execution_count": null,
   "metadata": {},
   "outputs": [],
   "source": [
    "magnitudeError(data['HSC-I']['base_PsfFlux_instFlux'], data['HSC-I']['base_PsfFlux_instFluxErr'])"
   ]
  },
  {
   "cell_type": "code",
   "execution_count": null,
   "metadata": {},
   "outputs": [],
   "source": []
  }
 ],
 "metadata": {
  "kernelspec": {
   "display_name": "LSST",
   "language": "python",
   "name": "lsst"
  },
  "language_info": {
   "codemirror_mode": {
    "name": "ipython",
    "version": 3
   },
   "file_extension": ".py",
   "mimetype": "text/x-python",
   "name": "python",
   "nbconvert_exporter": "python",
   "pygments_lexer": "ipython3",
   "version": "3.7.6"
  },
  "toc-autonumbering": false,
  "toc-showcode": false,
  "toc-showmarkdowntxt": false,
  "toc-showtags": false
 },
 "nbformat": 4,
 "nbformat_minor": 4
}
