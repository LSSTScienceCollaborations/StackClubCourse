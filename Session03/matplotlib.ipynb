{
 "cells": [
  {
   "cell_type": "markdown",
   "metadata": {},
   "source": [
    "# Session 03: Intro to Matplotlib Plotting on the Science Platform\n",
    "\n",
    "<br>Owner(s): **Keith Bechtol** ([@bechtol](https://github.com/LSSTScienceCollaborations/StackClub/issues/new?body=@bechtol))\n",
    "<br>Last Verified to Run: **2020-05-17?**\n",
    "<br>Verified Stack Release: **19.0?**\n",
    "\n",
    "This notebook is intended as a warm-up to the Visualization lesson (Lesson 3), providing a brief introduction to data visualization with matplotlib. Matplotlib is one of the most widely used libraries for data visualization in astrophysics, and extensive documentation and many examples can be found with a quick websearch. This notebook walks through a few examples to get you started quickly.\n",
    "\n",
    "Today we'll cover:\n",
    "* How to create a few common types of plots (histograms, scatter plots)\n",
    "* How to modify plot style, e.g., colors, markerstyle, axis labels, legends, etc.\n",
    "\n",
    "We'll use the same datasets "
   ]
  },
  {
   "cell_type": "code",
   "execution_count": null,
   "metadata": {},
   "outputs": [],
   "source": [
    "# What version of the Stack am I using?\n",
    "! echo $HOSTNAME\n",
    "! eups list -s lsst_distrib"
   ]
  },
  {
   "cell_type": "markdown",
   "metadata": {},
   "source": [
    "## Preliminaries"
   ]
  },
  {
   "cell_type": "markdown",
   "metadata": {},
   "source": [
    "Let's begin by importing plotting packages. Right away, we are faced with a choice as to which [backend](https://matplotlib.org/faq/usage_faq.html#what-is-a-backend) to use for plotting. For this demo, we'll use the [ipympl](https://github.com/matplotlib/ipympl) backend that allows us to create interactive plots (e.g., pan, zoom, and resize canvas capability) in a JupyterLab notebook. This option is enabled with the line\n",
    "\n",
    "```%matplotlib widget```\n",
    "\n",
    "Once the backend is set, one needs to restart the kernel to select a different backend. Alternatively, one could use the *inline* backend, if no user interactivity is required.\n",
    "\n",
    "```%matplotlib inline```\n",
    "\n",
    "It appears that the *inline* backend is used by default on the Science Platform.\n",
    "\n",
    "Some discussion on the relationship between matplotlib, pyplot, and pylab [here](https://matplotlib.org/faq/usage_faq.html#matplotlib-pyplot-and-pylab-how-are-they-related)."
   ]
  },
  {
   "cell_type": "code",
   "execution_count": null,
   "metadata": {},
   "outputs": [],
   "source": [
    "# Non-interactive plots\n",
    "#%matplotlib inline \n",
    "#%matplotlib ipympl\n",
    "# Enable interactive plots\n",
    "%matplotlib widget \n",
    "\n",
    "import numpy as np\n",
    "import matplotlib\n",
    "import matplotlib.pyplot as plt\n",
    "\n",
    "#%matplotlib widget\n",
    "#%matplotlib notebook\n",
    "#plt.ion()\n",
    "#import pylab\n",
    "#pylab.ion()"
   ]
  },
  {
   "cell_type": "markdown",
   "metadata": {},
   "source": [
    "We can [customize plotting style with matplotlib](https://matplotlib.org/3.2.1/tutorials/introductory/customizing.html) by setting default parameters. This is an optional step if you are fine with the default style."
   ]
  },
  {
   "cell_type": "code",
   "execution_count": null,
   "metadata": {},
   "outputs": [],
   "source": [
    "matplotlib.rcParams[\"figure.figsize\"] = (6, 4)\n",
    "matplotlib.rcParams[\"font.size\"] = 10\n",
    "matplotlib.rcParams[\"figure.dpi\"] = 120"
   ]
  },
  {
   "cell_type": "markdown",
   "metadata": {},
   "source": [
    "## Abstract Example\n",
    "\n",
    "Let's do one completely abstract example just to illustration purposes. First, make some simple data."
   ]
  },
  {
   "cell_type": "code",
   "execution_count": null,
   "metadata": {},
   "outputs": [],
   "source": [
    "x = np.linspace(0, 2 * np.pi, 100)\n",
    "y1 = x\n",
    "y2 = x**3\n",
    "y3 = np.cos(x)\n",
    "y4 = np.sin(x)"
   ]
  },
  {
   "cell_type": "markdown",
   "metadata": {},
   "source": [
    "Now, we can very quickly get started. \n",
    "\n",
    "**Exercise:** Use the interactive widgets to pan and zoom, and to adjust the canvas size. The \"Home\" button should bring you back to the original figure."
   ]
  },
  {
   "cell_type": "code",
   "execution_count": null,
   "metadata": {},
   "outputs": [],
   "source": [
    "plt.figure()\n",
    "plt.scatter(x, y4)"
   ]
  },
  {
   "cell_type": "markdown",
   "metadata": {},
   "source": [
    "We can enhance the figure with various labels and adjust the visual appearance.\n",
    "\n",
    "**Exercise:** modify the cell below to change the plotting style."
   ]
  },
  {
   "cell_type": "code",
   "execution_count": null,
   "metadata": {},
   "outputs": [],
   "source": [
    "plt.figure()\n",
    "plt.plot(x, y1, \n",
    "         label='y1')\n",
    "plt.plot(x, y2, \n",
    "         lw=2, label='y2')\n",
    "plt.plot(x, y3, \n",
    "         ls='--', label='y3')\n",
    "plt.scatter(x, y4, \n",
    "            c='black')\n",
    "plt.plot(x, y4, label='y4')\n",
    "plt.xlabel('The horizontal axis')\n",
    "plt.ylabel('The vertical axis')\n",
    "plt.title('My Plot')\n",
    "plt.xlim(0., 2 * np.pi)\n",
    "plt.ylim(-2, 2.)\n",
    "plt.legend(loc='upper right')"
   ]
  },
  {
   "cell_type": "markdown",
   "metadata": {},
   "source": [
    "The MATLAB style used above is suitable for quick plotting, but for more involved applications, it is advised to use the more verbose pyplot style. The example below is directly inspired by the example [here](https://matplotlib.org/faq/usage_faq.html#coding-styles)."
   ]
  },
  {
   "cell_type": "code",
   "execution_count": null,
   "metadata": {},
   "outputs": [],
   "source": [
    "def my_plotter(ax, data1, data2, param_dict):\n",
    "    \"\"\"\n",
    "    A helper function to make a graph\n",
    "\n",
    "    Parameters\n",
    "    ----------\n",
    "    ax : Axes\n",
    "        The axes to draw to\n",
    "\n",
    "    data1 : array\n",
    "       The x data\n",
    "\n",
    "    data2 : array\n",
    "       The y data\n",
    "\n",
    "    param_dict : dict\n",
    "       Dictionary of kwargs to pass to ax.plot\n",
    "\n",
    "    Returns\n",
    "    -------\n",
    "    out : list\n",
    "        list of artists added\n",
    "    \"\"\"\n",
    "    out = ax.plot(data1, data2, **param_dict)\n",
    "    ax.legend()\n",
    "    return out"
   ]
  },
  {
   "cell_type": "markdown",
   "metadata": {},
   "source": [
    "Re-create the earlier example in the pyplot style."
   ]
  },
  {
   "cell_type": "code",
   "execution_count": null,
   "metadata": {},
   "outputs": [],
   "source": [
    "fig, ax = plt.subplots(1, 1)\n",
    "my_plotter(ax, x, y4, {'marker':'o', 'label':'y1'})\n",
    "ax.set_xlabel('The Horizontal Axis')\n",
    "ax.set_ylabel('The Vertical Axis')\n",
    "ax.set_xlim(0, 2. * np.pi)"
   ]
  },
  {
   "cell_type": "markdown",
   "metadata": {},
   "source": [
    "We see the power of the more object-oriented pyplot style as we create more complex visualizations."
   ]
  },
  {
   "cell_type": "code",
   "execution_count": null,
   "metadata": {},
   "outputs": [],
   "source": [
    "fig, ax = plt.subplots(2, 2)\n",
    "my_plotter(ax[0][0], x, y1, {'marker':'x', 'label':'y1'})\n",
    "my_plotter(ax[0][1], x, y2, {'marker':'o', 'label':'y2'})\n",
    "my_plotter(ax[1][0], x, y3, {'color':'red', 'label':'y3'})\n",
    "my_plotter(ax[1][1], x, y4, {'ls':'--', 'label':'y4'})\n",
    "#plt.subplots_adjust(hspace=0, left=0.25) # Optionally adjust the layout"
   ]
  },
  {
   "cell_type": "code",
   "execution_count": null,
   "metadata": {},
   "outputs": [],
   "source": [
    "# Probably not needed\n",
    "#import lsst.afw.display as afw_display"
   ]
  },
  {
   "cell_type": "markdown",
   "metadata": {},
   "source": [
    "## Access HSC Data"
   ]
  },
  {
   "cell_type": "markdown",
   "metadata": {},
   "source": [
    "Now let's access some data, specifically the same source catalog we accessed in Lesson 2."
   ]
  },
  {
   "cell_type": "code",
   "execution_count": null,
   "metadata": {},
   "outputs": [],
   "source": [
    "%%time\n",
    "\n",
    "import utils\n",
    "data = utils.getData()"
   ]
  },
  {
   "cell_type": "code",
   "execution_count": null,
   "metadata": {},
   "outputs": [],
   "source": [
    "import importlib\n",
    "importlib.reload(utils)"
   ]
  },
  {
   "cell_type": "code",
   "execution_count": null,
   "metadata": {},
   "outputs": [],
   "source": [
    "REPO = '/datasets/hsc/repo/rerun/RC/w_2020_19/DM-24822'  \n",
    "from lsst.daf.persistence import Butler\n",
    "butler = Butler(REPO)\n",
    "\n",
    "VISIT = 34464\n",
    "CCD = 81\n",
    "src = butler.get('src', visit=VISIT, ccd=CCD)\n",
    "src"
   ]
  },
  {
   "cell_type": "code",
   "execution_count": null,
   "metadata": {},
   "outputs": [],
   "source": [
    "#9615  9697  9813\n",
    "dataid = {'filter':'HSC-I', 'tract':9697, 'patch':'0,0'}\n",
    "coadd_meas = butler.get('deepCoadd_meas', dataId=dataid)"
   ]
  },
  {
   "cell_type": "code",
   "execution_count": null,
   "metadata": {},
   "outputs": [],
   "source": [
    "#coadd_meas.getSchema().getNames()"
   ]
  },
  {
   "cell_type": "code",
   "execution_count": null,
   "metadata": {},
   "outputs": [],
   "source": [
    "#src.getSchema().getNames()"
   ]
  },
  {
   "cell_type": "code",
   "execution_count": null,
   "metadata": {},
   "outputs": [],
   "source": [
    "#help(coadd_meas.asAstropy().to_pandas().loc)"
   ]
  },
  {
   "cell_type": "code",
   "execution_count": null,
   "metadata": {},
   "outputs": [],
   "source": [
    "#columns = ['coord_ra','coord_dec']\n",
    "columns = ['id',\n",
    "           'coord_ra', \n",
    "           'coord_dec',\n",
    "           'modelfit_CModel_instFlux',\n",
    "           'modelfit_CModel_instFluxErr',\n",
    "           'base_PsfFlux_instFlux',\n",
    "           'base_PsfFlux_instFluxErr',\n",
    "           'base_ClassificationExtendedness_flag',\n",
    "           'base_ClassificationExtendedness_value'\n",
    "          ]\n",
    "           #'base_SdssCentroid_x',\n",
    "           #'base_SdssCentroid_y',\n",
    "           #'calib_psfCandidate',\n",
    "           #'calib_psfUsed',\n",
    "           #'base_ClassificationExtendedness_value',\n",
    "           #'base_ClassificationExtendedness_flag',\n",
    "           #'slot_Centroid_x',\n",
    "           #'slot_Centroid_y',\n",
    "           #'slot_Shape_xx',\n",
    "           #'slot_Shape_yy',\n",
    "           #'slot_Shape_xy',\n",
    "           #'slot_PsfShape_xx',\n",
    "           #'slot_PsfShape_yy',\n",
    "           #'slot_PsfShape_xy',\n",
    "           #'slot_ModelFlux_flux',\n",
    "           #'slot_ModelFlux_fluxSigma',\n",
    "           #'slot_PsfFlux_flux',\n",
    "           #'slot_PsfFlux_fluxSigma']\n",
    "#coadd_meas.asAstropy().to_pandas().loc[:,['coord_ra','coord_dec']]\n",
    "coadd_meas.asAstropy().to_pandas().loc[:,columns]"
   ]
  },
  {
   "cell_type": "markdown",
   "metadata": {},
   "source": [
    "Options for using matplotlib in a notebook.\n",
    "\n",
    "[here](https://github.com/matplotlib/ipympl)"
   ]
  },
  {
   "cell_type": "code",
   "execution_count": null,
   "metadata": {},
   "outputs": [],
   "source": [
    "import pandas as pd\n",
    "\n",
    "# Set SHORTCUT = True for quick evaluation but lower statistics, \n",
    "# SHORTCUT = False to get all the objects from all the patches in the tract (~10 mins)\n",
    "# If you don't take the shortcut, youll need to do some uncommenting below as well.\n",
    "\n",
    "SHORTCUT = True\n",
    "\n",
    "skymap = butler.get('deepCoadd_skyMap')\n",
    "\n",
    "# Pick a random tract and collect all the patches\n",
    "TRACT = 9615\n",
    "patch_array = []\n",
    "for ii in range(skymap.generateTract(tract).getNumPatches()[0]):\n",
    "    for jj in range(skymap.generateTract(tract).getNumPatches()[1]):\n",
    "        patch_array.append('%s,%s'%(ii, jj))\n",
    "tract_array = np.tile(tract, len(patch_array))\n",
    "\n",
    "if SHORTCUT:\n",
    "    # Only get three patches\n",
    "    df_tract_patch = pd.DataFrame({'tract': [TRACT, TRACT, TRACT],\n",
    "                                   'patch': ['0,0', '0,1', '0,2']})\n",
    "else:\n",
    "    # Get all the object catalogs from one tract\n",
    "    df_tract_patch = pd.DataFrame({'tract': tract_array,\n",
    "                                   'patch': patch_array})"
   ]
  },
  {
   "cell_type": "code",
   "execution_count": null,
   "metadata": {},
   "outputs": [],
   "source": [
    "df_tract_patch"
   ]
  },
  {
   "cell_type": "code",
   "execution_count": null,
   "metadata": {},
   "outputs": [],
   "source": [
    "\"\"\"\n",
    "selected_columns = ['id',\n",
    "                    'coord_ra', \n",
    "                    'coord_dec',\n",
    "                    'base_SdssCentroid_x',\n",
    "                    'base_SdssCentroid_y',\n",
    "                    'calib_psfCandidate',\n",
    "                    'calib_psfUsed',\n",
    "                    'base_ClassificationExtendedness_value',\n",
    "                    'base_ClassificationExtendedness_flag',\n",
    "                    'slot_Centroid_x',\n",
    "                    'slot_Centroid_y',\n",
    "                    'slot_Shape_xx',\n",
    "                    'slot_Shape_yy',\n",
    "                    'slot_Shape_xy',\n",
    "                    'slot_PsfShape_xx',\n",
    "                    'slot_PsfShape_yy',\n",
    "                    'slot_PsfShape_xy',\n",
    "                    'slot_ModelFlux_flux',\n",
    "                    'slot_ModelFlux_fluxSigma',\n",
    "                    'slot_PsfFlux_flux',\n",
    "                    'slot_PsfFlux_fluxSigma']\n",
    "\"\"\""
   ]
  },
  {
   "cell_type": "code",
   "execution_count": null,
   "metadata": {},
   "outputs": [],
   "source": [
    "#select_columns = ['coord_ra', \n",
    "#                  'coord_dec']\n",
    "selected_columns = ['id',\n",
    "                    'coord_ra', \n",
    "                    'coord_dec',\n",
    "                    'modelfit_CModel_instFlux',\n",
    "                    'modelfit_CModel_instFluxErr',\n",
    "                    'base_PsfFlux_instFlux',\n",
    "                    'base_PsfFlux_instFluxErr',\n",
    "                    'base_ClassificationExtendedness_flag',\n",
    "                    'base_ClassificationExtendedness_value',\n",
    "                    'base_SdssCentroid_flag',\n",
    "                    'base_PixelFlags_flag_interpolated',\n",
    "                    'base_PixelFlags_flag_saturated',\n",
    "                    'base_PsfFlux_flag',\n",
    "                    'modelfit_CModel_flag']"
   ]
  },
  {
   "cell_type": "code",
   "execution_count": null,
   "metadata": {},
   "outputs": [],
   "source": [
    "%%time\n",
    "\n",
    "FILTERS = ['HSC-G', 'HSC-R', 'HSC-I']\n",
    "\n",
    "data = {}\n",
    "for band in FILTERS:\n",
    "    coadd_array = []\n",
    "    selection_array = []\n",
    "    for ii in range(0, len(df_tract_patch)):\n",
    "        tract, patch = df_tract_patch['tract'][ii], df_tract_patch['patch'][ii] \n",
    "        print(band, tract, patch)\n",
    "        dataid = {'filter':band, 'tract':tract, 'patch':patch}\n",
    "        coadd_ref = butler.get('deepCoadd_ref', dataId=dataid)\n",
    "        #coadd_meas = butler.get('deepCoadd_meas', dataId=dataid)\n",
    "        coadd_meas = butler.get('deepCoadd_forced_src', dataId=dataid)\n",
    "        coadd_calib = butler.get('deepCoadd_calexp_photoCalib', dataId=dataid)\n",
    "    \n",
    "        selected_rows = coadd_ref['detect_isPrimary']\n",
    "        #selected_rows = (coadd_ref['detect_isPrimary']\n",
    "        #                 & ~coadd_meas['base_SdssCentroid_flag']\n",
    "        #                 & ~coadd_meas['base_PixelFlags_flag_interpolated']\n",
    "        #                 & ~coadd_meas['base_PixelFlags_flag_saturated']\n",
    "        #                 & ~coadd_meas['base_PsfFlux_flag']\n",
    "        #                 & ~coadd_meas['modelfit_CModel_flag'])\n",
    "    \n",
    "        print(np.sum(selected_rows))\n",
    "        coadd_array.append(coadd_meas.asAstropy().to_pandas().loc[selected_rows, selected_columns])\n",
    "        #coadd_array[-1]['detect_isPrimary'] = coadd_ref['detect_isPrimary'][selected_rows]\n",
    "        coadd_array[-1]['psf_mag'] = coadd_calib.instFluxToMagnitude(coadd_meas[selected_rows], 'base_PsfFlux')[:,0]\n",
    "        coadd_array[-1]['cm_mag'] = coadd_calib.instFluxToMagnitude(coadd_meas[selected_rows], 'modelfit_CModel')[:,0]\n",
    "    \n",
    "    #df_coadd = pd.concat(coadd_array)\n",
    "    data[band] = pd.concat(coadd_array)"
   ]
  },
  {
   "cell_type": "code",
   "execution_count": null,
   "metadata": {},
   "outputs": [],
   "source": [
    "# Require good quality measurements in all bands\n",
    "selected_rows = []\n",
    "for band in FILTERS:\n",
    "    snr = data[band]['modelfit_CModel_instFlux'] / data[band]['modelfit_CModel_instFluxErr']\n",
    "    print(snr)\n",
    "    selected_rows.append(~data[band]['base_SdssCentroid_flag'] \n",
    "                         & ~data[band]['base_PixelFlags_flag_interpolated']\n",
    "                         & ~data[band]['base_PixelFlags_flag_saturated']\n",
    "                         & ~data[band]['base_PsfFlux_flag']\n",
    "                         & ~data[band]['modelfit_CModel_flag']\n",
    "                         & (snr > 10.))\n",
    "    print(np.sum(data[band]['base_SdssCentroid_flag']))\n",
    "    print(np.sum(data[band]['base_PixelFlags_flag_interpolated']))\n",
    "    print(np.sum(data[band]['base_PixelFlags_flag_saturated']))\n",
    "    print(np.sum(data[band]['base_PsfFlux_flag']))\n",
    "    print(np.sum(data[band]['modelfit_CModel_flag']))\n",
    "    print(band, np.sum(selected_rows))\n",
    "\n",
    "selected_rows = np.all(selected_rows, axis=0)\n",
    "\n",
    "for band in FILTERS:\n",
    "    data[band] = data[band].loc[selected_rows]\n",
    "    print(len(data[band]))"
   ]
  },
  {
   "cell_type": "code",
   "execution_count": null,
   "metadata": {},
   "outputs": [],
   "source": [
    "#df_coadd\n",
    "data['HSC-I'].shape"
   ]
  },
  {
   "cell_type": "code",
   "execution_count": null,
   "metadata": {},
   "outputs": [],
   "source": [
    "np.all(data['HSC-I']['detect_isPrimary'])"
   ]
  },
  {
   "cell_type": "code",
   "execution_count": null,
   "metadata": {},
   "outputs": [],
   "source": [
    "butler.get('deepCoadd_forced_src', dataId=dataid)"
   ]
  },
  {
   "cell_type": "code",
   "execution_count": null,
   "metadata": {},
   "outputs": [],
   "source": [
    "pylab.figure()\n",
    "pylab.scatter(data['HSC-G']['coord_ra'], data['HSC-G']['coord_dec'], marker='+')\n",
    "pylab.scatter(data['HSC-R']['coord_ra'], data['HSC-R']['coord_dec'], marker='x')\n",
    "pylab.scatter(data['HSC-I']['coord_ra'], data['HSC-I']['coord_dec'], marker='2')"
   ]
  },
  {
   "cell_type": "code",
   "execution_count": null,
   "metadata": {},
   "outputs": [],
   "source": [
    "ext = (data['HSC-I']['base_ClassificationExtendedness_value'] == 1.)\n",
    "\n",
    "gr = data['HSC-G']['cm_mag'] - data['HSC-R']['cm_mag']\n",
    "ri = data['HSC-R']['cm_mag'] - data['HSC-I']['cm_mag']\n",
    "\n",
    "pylab.figure()\n",
    "pylab.scatter(gr[ext],\n",
    "              ri[ext])\n",
    "pylab.scatter(gr[~ext],\n",
    "              ri[~ext])\n",
    "    \n",
    "#pylab.scatter(data['HSC-G']['cm_mag'] - data['HSC-R']['cm_mag'], \n",
    "#              data['HSC-R']['cm_mag'] - data['HSC-I']['cm_mag'],\n",
    "#              marker='.', edgecolor='none')"
   ]
  },
  {
   "cell_type": "code",
   "execution_count": null,
   "metadata": {},
   "outputs": [],
   "source": [
    "ext == 1.\n",
    "np.sum(ext)\n",
    "#len(ext)"
   ]
  },
  {
   "cell_type": "markdown",
   "metadata": {},
   "source": [
    "## Histogram Example"
   ]
  },
  {
   "cell_type": "code",
   "execution_count": null,
   "metadata": {},
   "outputs": [],
   "source": [
    "import numpy as np\n",
    "x = np.random.random(size=1000)\n",
    "y = np.random.random(size=1000)"
   ]
  },
  {
   "cell_type": "code",
   "execution_count": null,
   "metadata": {},
   "outputs": [],
   "source": [
    "bins = np.arange(18., 30., 0.5)\n",
    "\n",
    "plt.figure()\n",
    "pylab.yscale('log')\n",
    "#plt.hist(df_coadd['psf_mag'], bins=bins)\n",
    "plt.hist(data['HSC-I']['cm_mag'], bins=bins, histtype='step')\n",
    "plt.hist(data['HSC-I']['cm_mag'][ext], bins=bins, histtype='step')\n",
    "plt.hist(data['HSC-I']['cm_mag'][~ext], bins=bins, histtype='step')\n",
    "#plt.show()"
   ]
  },
  {
   "cell_type": "code",
   "execution_count": null,
   "metadata": {},
   "outputs": [],
   "source": [
    "#pylab.figure()\n",
    "#pylab.hist(x)"
   ]
  },
  {
   "cell_type": "markdown",
   "metadata": {},
   "source": [
    "## Scatter Plot Example"
   ]
  },
  {
   "cell_type": "code",
   "execution_count": null,
   "metadata": {},
   "outputs": [],
   "source": [
    "plt.figure()\n",
    "plt.scatter(x,y)"
   ]
  },
  {
   "cell_type": "code",
   "execution_count": null,
   "metadata": {},
   "outputs": [],
   "source": []
  }
 ],
 "metadata": {
  "kernelspec": {
   "display_name": "LSST",
   "language": "python",
   "name": "lsst"
  },
  "language_info": {
   "codemirror_mode": {
    "name": "ipython",
    "version": 3
   },
   "file_extension": ".py",
   "mimetype": "text/x-python",
   "name": "python",
   "nbconvert_exporter": "python",
   "pygments_lexer": "ipython3",
   "version": "3.7.6"
  },
  "toc-autonumbering": false,
  "toc-showcode": false,
  "toc-showmarkdowntxt": false,
  "toc-showtags": false
 },
 "nbformat": 4,
 "nbformat_minor": 4
}
