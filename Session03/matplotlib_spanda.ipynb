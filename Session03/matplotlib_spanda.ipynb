{
 "cells": [
  {
   "cell_type": "markdown",
   "metadata": {},
   "source": [
    "# Session 03: Intro to Matplotlib Plotting on the Science Platform\n",
    "\n",
    "<br>Owner(s): **Keith Bechtol** ([@bechtol](https://github.com/LSSTScienceCollaborations/StackClub/issues/new?body=@bechtol))\n",
    "<br>Last Verified to Run: **2020-05-19**\n",
    "<br>Verified Stack Release: **w_2020_19**\n",
    "\n",
    "This notebook is intended as a warm-up to the Visualization lesson (Lesson 3), providing a brief introduction to data visualization with [matplotlib](https://matplotlib.org/). Matplotlib is one of the most widely used libraries for data visualization in astrophysics, and extensive documentation as well as many [examples](https://matplotlib.org/gallery/index.html) can be found with a quick websearch. Matplotlib is also part of the [PyViz](https://pyviz.org/) suite of visualization tools for python. This notebook walks through a few examples to get you started quickly plotting data from Rubin Observatory and precursor datasets.\n",
    "\n",
    "Today we'll cover:\n",
    "* How to create a few common types of plots for tabular data (histograms, scatter plots)\n",
    "* How to customize plot style, e.g., colors, markerstyle, axis labels, legends, etc.\n",
    "\n",
    "We'll use the same datasets "
   ]
  },
  {
   "cell_type": "code",
   "execution_count": 1,
   "metadata": {},
   "outputs": [
    {
     "name": "stdout",
     "output_type": "stream",
     "text": [
      "nb-quasarpanda-w-2020-21\n",
      "   19.0.0-1-gc154f85+59 \tcurrent w_2020_21 setup\n"
     ]
    }
   ],
   "source": [
    "# What version of the Stack am I using?\n",
    "! echo $HOSTNAME\n",
    "! eups list -s lsst_distrib"
   ]
  },
  {
   "cell_type": "markdown",
   "metadata": {},
   "source": [
    "## Preliminaries"
   ]
  },
  {
   "cell_type": "markdown",
   "metadata": {},
   "source": [
    "Let's begin by importing plotting packages. Right away, we are faced with a choice as to which [backend](https://matplotlib.org/faq/usage_faq.html#what-is-a-backend) to use for plotting. For this demo, we'll use the [ipympl](https://github.com/matplotlib/ipympl) backend that allows us to create interactive plots (e.g., pan, zoom, and resize canvas capability) in a JupyterLab notebook. This option is enabled with the line\n",
    "\n",
    "```%matplotlib widget```\n",
    "\n",
    "Once the backend is set, one needs to restart the kernel to select a different backend. Alternatively, one could use the *inline* backend, if no user interactivity is required.\n",
    "\n",
    "```%matplotlib inline```\n",
    "\n",
    "It appears that the *inline* backend is used by default on the Science Platform.\n",
    "\n",
    "Some discussion on the relationship between matplotlib, pyplot, and pylab [here](https://matplotlib.org/faq/usage_faq.html#matplotlib-pyplot-and-pylab-how-are-they-related)."
   ]
  },
  {
   "cell_type": "code",
   "execution_count": 3,
   "metadata": {},
   "outputs": [],
   "source": [
    "# Non-interactive plots\n",
    "#%matplotlib inline\n",
    "# Enable interactive plots\n",
    "%matplotlib widget \n",
    "#%matplotlib ipympl\n",
    "\n",
    "import numpy as np\n",
    "import matplotlib\n",
    "import matplotlib.pyplot as plt"
   ]
  },
  {
   "cell_type": "markdown",
   "metadata": {},
   "source": [
    "We can [customize plotting style with matplotlib](https://matplotlib.org/3.2.1/tutorials/introductory/customizing.html) by setting default parameters. This is an optional step if you are fine with the default style."
   ]
  },
  {
   "cell_type": "code",
   "execution_count": 4,
   "metadata": {},
   "outputs": [],
   "source": [
    "matplotlib.rcParams[\"figure.figsize\"] = (5, 3)\n",
    "matplotlib.rcParams[\"font.size\"] = 5\n",
    "matplotlib.rcParams[\"figure.dpi\"] = 120"
   ]
  },
  {
   "cell_type": "markdown",
   "metadata": {},
   "source": [
    "## Abstract Example\n",
    "\n",
    "Let's do one completely abstract example just to illustration purposes. First, make some simple data."
   ]
  },
  {
   "cell_type": "code",
   "execution_count": 5,
   "metadata": {},
   "outputs": [],
   "source": [
    "x = np.linspace(0, 2 * np.pi, 100)\n",
    "y1 = x\n",
    "y2 = x**3\n",
    "y3 = np.cos(x)\n",
    "y4 = np.sin(x)"
   ]
  },
  {
   "cell_type": "markdown",
   "metadata": {},
   "source": [
    "Now, we can very quickly get started. \n",
    "\n",
    "**Exercise:** Use the interactive widgets to pan and zoom, and to adjust the canvas size. The \"Home\" button should bring you back to the original figure."
   ]
  },
  {
   "cell_type": "code",
   "execution_count": 6,
   "metadata": {},
   "outputs": [
    {
     "data": {
      "application/vnd.jupyter.widget-view+json": {
       "model_id": "2e22ae699bb348ccb993768a09dc2230",
       "version_major": 2,
       "version_minor": 0
      },
      "text/plain": [
       "Canvas(toolbar=Toolbar(toolitems=[('Home', 'Reset original view', 'home', 'home'), ('Back', 'Back to previous …"
      ]
     },
     "metadata": {},
     "output_type": "display_data"
    },
    {
     "data": {
      "text/plain": [
       "<matplotlib.collections.PathCollection at 0x7f634f736d90>"
      ]
     },
     "execution_count": 6,
     "metadata": {},
     "output_type": "execute_result"
    }
   ],
   "source": [
    "plt.figure()\n",
    "plt.scatter(x, y4)"
   ]
  },
  {
   "cell_type": "markdown",
   "metadata": {},
   "source": [
    "Next, we can annotate the figure with various labels and adjust the visual appearance.\n",
    "\n",
    "**Exercise:** modify the cell below to change the plotting style."
   ]
  },
  {
   "cell_type": "code",
   "execution_count": 7,
   "metadata": {},
   "outputs": [
    {
     "data": {
      "application/vnd.jupyter.widget-view+json": {
       "model_id": "bc1ba1c594964282a2a4e8a68831a586",
       "version_major": 2,
       "version_minor": 0
      },
      "text/plain": [
       "Canvas(toolbar=Toolbar(toolitems=[('Home', 'Reset original view', 'home', 'home'), ('Back', 'Back to previous …"
      ]
     },
     "metadata": {},
     "output_type": "display_data"
    },
    {
     "data": {
      "text/plain": [
       "<matplotlib.legend.Legend at 0x7f634c54ca90>"
      ]
     },
     "execution_count": 7,
     "metadata": {},
     "output_type": "execute_result"
    }
   ],
   "source": [
    "plt.figure()\n",
    "plt.plot(x, y1, \n",
    "         label='y1')\n",
    "plt.plot(x, y2, \n",
    "         lw=2, label='y2')\n",
    "plt.plot(x, y3, \n",
    "         ls='--', label='y3')\n",
    "plt.scatter(x, y4, \n",
    "            c='black')\n",
    "plt.plot(x, y4, label='y4')\n",
    "plt.xlabel('The horizontal axis')\n",
    "plt.ylabel('The vertical axis')\n",
    "plt.title('My Plot')\n",
    "plt.xlim(0., 2 * np.pi)\n",
    "plt.ylim(-2, 2.)\n",
    "plt.legend(loc='upper right')"
   ]
  },
  {
   "cell_type": "markdown",
   "metadata": {},
   "source": [
    "Notice that in each example we created a matplotlib [figure](https://matplotlib.org/3.2.1/api/_as_gen/matplotlib.figure.Figure.html) as the canvas for our plotting. The `figure` is the _top level container for all the plot elements_. A figure can have one or more [axes](https://matplotlib.org/3.2.1/api/_as_gen/matplotlib.pyplot.axes.html) that are the individual plotting areas (i.e., figure panels).\n",
    "\n",
    "The \"MATLAB style\" used above is suitable for quick plotting; the user can go straight to plotting without thinking too much about the axes. For more involved applications, it is advised to use the more verbose \"pyplot style\", in part because we have more control of the individual axes. The example below highlights this distinction (inspired by the example [here](https://matplotlib.org/faq/usage_faq.html#coding-styles))."
   ]
  },
  {
   "cell_type": "code",
   "execution_count": 8,
   "metadata": {},
   "outputs": [],
   "source": [
    "def my_plotter(ax, data1, data2, param_dict):\n",
    "    \"\"\"\n",
    "    A helper function to make a graph\n",
    "\n",
    "    Parameters\n",
    "    ----------\n",
    "    ax : Axes\n",
    "        The axes to draw to\n",
    "\n",
    "    data1 : array\n",
    "       The x data\n",
    "\n",
    "    data2 : array\n",
    "       The y data\n",
    "\n",
    "    param_dict : dict\n",
    "       Dictionary of kwargs to pass to ax.plot\n",
    "\n",
    "    Returns\n",
    "    -------\n",
    "    out : list\n",
    "        list of artists added\n",
    "    \"\"\"\n",
    "    out = ax.plot(data1, data2, **param_dict)\n",
    "    ax.legend()\n",
    "    return out"
   ]
  },
  {
   "cell_type": "markdown",
   "metadata": {},
   "source": [
    "Re-create the earlier example in the pyplot style."
   ]
  },
  {
   "cell_type": "code",
   "execution_count": 9,
   "metadata": {},
   "outputs": [
    {
     "data": {
      "application/vnd.jupyter.widget-view+json": {
       "model_id": "79e7b3f8de07438c8e7f184f695b1214",
       "version_major": 2,
       "version_minor": 0
      },
      "text/plain": [
       "Canvas(toolbar=Toolbar(toolitems=[('Home', 'Reset original view', 'home', 'home'), ('Back', 'Back to previous …"
      ]
     },
     "metadata": {},
     "output_type": "display_data"
    },
    {
     "data": {
      "text/plain": [
       "(0.0, 6.283185307179586)"
      ]
     },
     "execution_count": 9,
     "metadata": {},
     "output_type": "execute_result"
    }
   ],
   "source": [
    "fig, ax = plt.subplots(1, 1)\n",
    "my_plotter(ax, x, y4, {'marker':'o', 'label':'y1'})\n",
    "ax.set_xlabel('The Horizontal Axis')\n",
    "ax.set_ylabel('The Vertical Axis')\n",
    "ax.set_xlim(0, 2. * np.pi)"
   ]
  },
  {
   "cell_type": "markdown",
   "metadata": {},
   "source": [
    "In the example above, we have specified which `axes` to draw the plot on. A single figure can own multiple axes, as can be seen in the example below. We see the power of the more object-oriented pyplot style as we create more complex visualizations."
   ]
  },
  {
   "cell_type": "code",
   "execution_count": 10,
   "metadata": {},
   "outputs": [
    {
     "data": {
      "application/vnd.jupyter.widget-view+json": {
       "model_id": "878130ad54e2494888396749ee425742",
       "version_major": 2,
       "version_minor": 0
      },
      "text/plain": [
       "Canvas(toolbar=Toolbar(toolitems=[('Home', 'Reset original view', 'home', 'home'), ('Back', 'Back to previous …"
      ]
     },
     "metadata": {},
     "output_type": "display_data"
    },
    {
     "data": {
      "text/plain": [
       "[<matplotlib.lines.Line2D at 0x7f634c2f67d0>]"
      ]
     },
     "execution_count": 10,
     "metadata": {},
     "output_type": "execute_result"
    }
   ],
   "source": [
    "fig, ax = plt.subplots(2, 2) # Create a 2x2 set of panels\n",
    "my_plotter(ax[0][0], x, y1, {'marker':'x', 'label':'y1'})\n",
    "my_plotter(ax[0][1], x, y2, {'marker':'o', 'label':'y2'})\n",
    "my_plotter(ax[1][0], x, y3, {'color':'red', 'label':'y3'})\n",
    "my_plotter(ax[1][1], x, y4, {'ls':'--', 'label':'y4'})\n",
    "#plt.subplots_adjust(hspace=0, left=0.25) # Optionally adjust the layout"
   ]
  },
  {
   "cell_type": "markdown",
   "metadata": {},
   "source": [
    "Before moving on, a quick histogram example."
   ]
  },
  {
   "cell_type": "code",
   "execution_count": 11,
   "metadata": {},
   "outputs": [
    {
     "data": {
      "application/vnd.jupyter.widget-view+json": {
       "model_id": "d90d1b2020794b25832053b9ddaf362e",
       "version_major": 2,
       "version_minor": 0
      },
      "text/plain": [
       "Canvas(toolbar=Toolbar(toolitems=[('Home', 'Reset original view', 'home', 'home'), ('Back', 'Back to previous …"
      ]
     },
     "metadata": {},
     "output_type": "display_data"
    },
    {
     "data": {
      "text/plain": [
       "Text(0, 0.5, 'Counts')"
      ]
     },
     "execution_count": 11,
     "metadata": {},
     "output_type": "execute_result"
    }
   ],
   "source": [
    "# Generate 1M random points from a normal distribution\n",
    "z = np.random.normal(size=1000000)\n",
    "\n",
    "# Specify the binning\n",
    "bins = np.linspace(-5., 5, 101)\n",
    "\n",
    "# Now create the figure\n",
    "plt.figure()\n",
    "plt.hist(z, bins=bins)\n",
    "plt.xlabel('Value')\n",
    "plt.ylabel('Counts')"
   ]
  },
  {
   "cell_type": "markdown",
   "metadata": {},
   "source": [
    "## Access HSC Data"
   ]
  },
  {
   "cell_type": "markdown",
   "metadata": {},
   "source": [
    "The cell below typically takes roughly a minute to run.\n",
    "\n",
    "Now let's access some data, specifically we'll use a utility function to assemble a catalog of good quality coadd objects from a few neighboring patches in the HSC RC2 dataset used for continuous integration testing. The function returns a python dictionary of pandas [DataFrames](https://pandas.pydata.org/pandas-docs/stable/reference/api/pandas.DataFrame.html), with one DataFrame per band. DataFrames are general purpose tools for working with tabular data and have no specific connection to astronomy or the software stack. The process to create this catalog is inspired by the Stack tutorial [here](https://pipelines.lsst.io/getting-started/multiband-analysis.html). "
   ]
  },
  {
   "cell_type": "code",
   "execution_count": 12,
   "metadata": {
    "collapsed": true,
    "jupyter": {
     "outputs_hidden": true
    }
   },
   "outputs": [
    {
     "name": "stdout",
     "output_type": "stream",
     "text": [
      "HSC-G 9615 0,0\n",
      "3986\n",
      "HSC-G 9615 0,1\n",
      "7888\n",
      "HSC-G 9615 0,2\n",
      "8180\n",
      "HSC-G 9615 1,0\n",
      "8942\n",
      "HSC-G 9615 1,1\n",
      "17085\n",
      "HSC-G 9615 1,2\n",
      "20062\n",
      "HSC-G 9615 2,0\n",
      "9074\n",
      "HSC-G 9615 2,1\n",
      "22275\n",
      "HSC-G 9615 2,2\n",
      "18565\n",
      "HSC-R 9615 0,0\n",
      "3986\n",
      "HSC-R 9615 0,1\n",
      "7888\n",
      "HSC-R 9615 0,2\n",
      "8180\n",
      "HSC-R 9615 1,0\n",
      "8942\n",
      "HSC-R 9615 1,1\n",
      "17085\n",
      "HSC-R 9615 1,2\n",
      "20062\n",
      "HSC-R 9615 2,0\n",
      "9074\n",
      "HSC-R 9615 2,1\n",
      "22275\n",
      "HSC-R 9615 2,2\n",
      "18565\n",
      "HSC-I 9615 0,0\n",
      "3986\n",
      "HSC-I 9615 0,1\n",
      "7888\n",
      "HSC-I 9615 0,2\n",
      "8180\n",
      "HSC-I 9615 1,0\n",
      "8942\n",
      "HSC-I 9615 1,1\n",
      "17085\n",
      "HSC-I 9615 1,2\n",
      "20062\n",
      "HSC-I 9615 2,0\n",
      "9074\n",
      "HSC-I 9615 2,1\n",
      "22275\n",
      "HSC-I 9615 2,2\n",
      "18565\n",
      "CPU times: user 47.3 s, sys: 4.84 s, total: 52.2 s\n",
      "Wall time: 1min\n"
     ]
    }
   ],
   "source": [
    "%%time\n",
    "\n",
    "import utils\n",
    "data = utils.getData()"
   ]
  },
  {
   "cell_type": "code",
   "execution_count": null,
   "metadata": {},
   "outputs": [],
   "source": [
    "# In case we need to modify the utility function\n",
    "#import importlib\n",
    "#importlib.reload(utils)"
   ]
  },
  {
   "cell_type": "markdown",
   "metadata": {},
   "source": [
    "Let's look at the dictionary object returned. Notice that we added columns for the PSF and CModel magnitudes. Check [Photometry models](https://classic.sdss.org/dr7/algorithms/photometry.html) for more details."
   ]
  },
  {
   "cell_type": "code",
   "execution_count": 38,
   "metadata": {},
   "outputs": [
    {
     "name": "stdout",
     "output_type": "stream",
     "text": [
      "dict_keys(['HSC-G', 'HSC-R', 'HSC-I'])\n"
     ]
    },
    {
     "data": {
      "text/html": [
       "<div>\n",
       "<style scoped>\n",
       "    .dataframe tbody tr th:only-of-type {\n",
       "        vertical-align: middle;\n",
       "    }\n",
       "\n",
       "    .dataframe tbody tr th {\n",
       "        vertical-align: top;\n",
       "    }\n",
       "\n",
       "    .dataframe thead th {\n",
       "        text-align: right;\n",
       "    }\n",
       "</style>\n",
       "<table border=\"1\" class=\"dataframe\">\n",
       "  <thead>\n",
       "    <tr style=\"text-align: right;\">\n",
       "      <th></th>\n",
       "      <th>id</th>\n",
       "      <th>coord_ra</th>\n",
       "      <th>coord_dec</th>\n",
       "      <th>modelfit_CModel_instFlux</th>\n",
       "      <th>modelfit_CModel_instFluxErr</th>\n",
       "      <th>base_PsfFlux_instFlux</th>\n",
       "      <th>base_PsfFlux_instFluxErr</th>\n",
       "      <th>base_ClassificationExtendedness_flag</th>\n",
       "      <th>base_ClassificationExtendedness_value</th>\n",
       "      <th>base_SdssCentroid_flag</th>\n",
       "      <th>base_PixelFlags_flag_interpolated</th>\n",
       "      <th>base_PixelFlags_flag_saturated</th>\n",
       "      <th>base_PsfFlux_flag</th>\n",
       "      <th>modelfit_CModel_flag</th>\n",
       "      <th>psf_mag</th>\n",
       "      <th>cm_mag</th>\n",
       "    </tr>\n",
       "  </thead>\n",
       "  <tbody>\n",
       "    <tr>\n",
       "      <th>4927</th>\n",
       "      <td>42287217204270375</td>\n",
       "      <td>3.786936</td>\n",
       "      <td>0.000006</td>\n",
       "      <td>9.612002</td>\n",
       "      <td>0.296452</td>\n",
       "      <td>8.914356</td>\n",
       "      <td>0.274202</td>\n",
       "      <td>False</td>\n",
       "      <td>1.0</td>\n",
       "      <td>False</td>\n",
       "      <td>False</td>\n",
       "      <td>False</td>\n",
       "      <td>False</td>\n",
       "      <td>False</td>\n",
       "      <td>24.624775</td>\n",
       "      <td>24.542965</td>\n",
       "    </tr>\n",
       "    <tr>\n",
       "      <th>4935</th>\n",
       "      <td>42287217204270383</td>\n",
       "      <td>3.786488</td>\n",
       "      <td>0.000007</td>\n",
       "      <td>11.271646</td>\n",
       "      <td>0.420956</td>\n",
       "      <td>5.675173</td>\n",
       "      <td>0.253617</td>\n",
       "      <td>False</td>\n",
       "      <td>1.0</td>\n",
       "      <td>False</td>\n",
       "      <td>False</td>\n",
       "      <td>False</td>\n",
       "      <td>False</td>\n",
       "      <td>False</td>\n",
       "      <td>25.115052</td>\n",
       "      <td>24.370032</td>\n",
       "    </tr>\n",
       "    <tr>\n",
       "      <th>4939</th>\n",
       "      <td>42287217204270387</td>\n",
       "      <td>3.787960</td>\n",
       "      <td>0.000010</td>\n",
       "      <td>122.824504</td>\n",
       "      <td>0.454098</td>\n",
       "      <td>62.816332</td>\n",
       "      <td>0.273970</td>\n",
       "      <td>False</td>\n",
       "      <td>1.0</td>\n",
       "      <td>False</td>\n",
       "      <td>False</td>\n",
       "      <td>False</td>\n",
       "      <td>False</td>\n",
       "      <td>False</td>\n",
       "      <td>22.504819</td>\n",
       "      <td>21.776787</td>\n",
       "    </tr>\n",
       "    <tr>\n",
       "      <th>4945</th>\n",
       "      <td>42287217204270393</td>\n",
       "      <td>3.786570</td>\n",
       "      <td>0.000013</td>\n",
       "      <td>57.108983</td>\n",
       "      <td>0.580306</td>\n",
       "      <td>16.993562</td>\n",
       "      <td>0.253423</td>\n",
       "      <td>False</td>\n",
       "      <td>1.0</td>\n",
       "      <td>False</td>\n",
       "      <td>False</td>\n",
       "      <td>False</td>\n",
       "      <td>False</td>\n",
       "      <td>False</td>\n",
       "      <td>23.924289</td>\n",
       "      <td>22.608239</td>\n",
       "    </tr>\n",
       "    <tr>\n",
       "      <th>4958</th>\n",
       "      <td>42287217204270407</td>\n",
       "      <td>3.787634</td>\n",
       "      <td>0.000016</td>\n",
       "      <td>18.717992</td>\n",
       "      <td>0.330727</td>\n",
       "      <td>15.562403</td>\n",
       "      <td>0.278355</td>\n",
       "      <td>False</td>\n",
       "      <td>1.0</td>\n",
       "      <td>False</td>\n",
       "      <td>False</td>\n",
       "      <td>False</td>\n",
       "      <td>False</td>\n",
       "      <td>False</td>\n",
       "      <td>24.019808</td>\n",
       "      <td>23.819352</td>\n",
       "    </tr>\n",
       "  </tbody>\n",
       "</table>\n",
       "</div>"
      ],
      "text/plain": [
       "                     id  coord_ra  coord_dec  modelfit_CModel_instFlux  \\\n",
       "4927  42287217204270375  3.786936   0.000006                  9.612002   \n",
       "4935  42287217204270383  3.786488   0.000007                 11.271646   \n",
       "4939  42287217204270387  3.787960   0.000010                122.824504   \n",
       "4945  42287217204270393  3.786570   0.000013                 57.108983   \n",
       "4958  42287217204270407  3.787634   0.000016                 18.717992   \n",
       "\n",
       "      modelfit_CModel_instFluxErr  base_PsfFlux_instFlux  \\\n",
       "4927                     0.296452               8.914356   \n",
       "4935                     0.420956               5.675173   \n",
       "4939                     0.454098              62.816332   \n",
       "4945                     0.580306              16.993562   \n",
       "4958                     0.330727              15.562403   \n",
       "\n",
       "      base_PsfFlux_instFluxErr  base_ClassificationExtendedness_flag  \\\n",
       "4927                  0.274202                                 False   \n",
       "4935                  0.253617                                 False   \n",
       "4939                  0.273970                                 False   \n",
       "4945                  0.253423                                 False   \n",
       "4958                  0.278355                                 False   \n",
       "\n",
       "      base_ClassificationExtendedness_value  base_SdssCentroid_flag  \\\n",
       "4927                                    1.0                   False   \n",
       "4935                                    1.0                   False   \n",
       "4939                                    1.0                   False   \n",
       "4945                                    1.0                   False   \n",
       "4958                                    1.0                   False   \n",
       "\n",
       "      base_PixelFlags_flag_interpolated  base_PixelFlags_flag_saturated  \\\n",
       "4927                              False                           False   \n",
       "4935                              False                           False   \n",
       "4939                              False                           False   \n",
       "4945                              False                           False   \n",
       "4958                              False                           False   \n",
       "\n",
       "      base_PsfFlux_flag  modelfit_CModel_flag    psf_mag     cm_mag  \n",
       "4927              False                 False  24.624775  24.542965  \n",
       "4935              False                 False  25.115052  24.370032  \n",
       "4939              False                 False  22.504819  21.776787  \n",
       "4945              False                 False  23.924289  22.608239  \n",
       "4958              False                 False  24.019808  23.819352  "
      ]
     },
     "execution_count": 38,
     "metadata": {},
     "output_type": "execute_result"
    }
   ],
   "source": [
    "# Show the keys\n",
    "print(data.keys())\n",
    "# Show one of the DataFrames, in this, corresponding to the HSC i band\n",
    "data['HSC-I'].head()"
   ]
  },
  {
   "cell_type": "markdown",
   "metadata": {},
   "source": [
    "If you are curious to explore the coadd forced object catalog further, here's the forced source catalog for a single band and single patch. Remembering what Yusra showed last week, we can access a specific data product by using the Butler with a specific `dataId` (which is similar to a SQL `where` statement)."
   ]
  },
  {
   "cell_type": "code",
   "execution_count": 14,
   "metadata": {
    "collapsed": true,
    "jupyter": {
     "outputs_hidden": true
    }
   },
   "outputs": [
    {
     "data": {
      "text/plain": [
       "{'base_CircularApertureFlux_12_0_flag',\n",
       " 'base_CircularApertureFlux_12_0_flag_apertureTruncated',\n",
       " 'base_CircularApertureFlux_12_0_flag_sincCoeffsTruncated',\n",
       " 'base_CircularApertureFlux_12_0_instFlux',\n",
       " 'base_CircularApertureFlux_12_0_instFluxErr',\n",
       " 'base_CircularApertureFlux_17_0_flag',\n",
       " 'base_CircularApertureFlux_17_0_flag_apertureTruncated',\n",
       " 'base_CircularApertureFlux_17_0_instFlux',\n",
       " 'base_CircularApertureFlux_17_0_instFluxErr',\n",
       " 'base_CircularApertureFlux_25_0_flag',\n",
       " 'base_CircularApertureFlux_25_0_flag_apertureTruncated',\n",
       " 'base_CircularApertureFlux_25_0_instFlux',\n",
       " 'base_CircularApertureFlux_25_0_instFluxErr',\n",
       " 'base_CircularApertureFlux_35_0_flag',\n",
       " 'base_CircularApertureFlux_35_0_flag_apertureTruncated',\n",
       " 'base_CircularApertureFlux_35_0_instFlux',\n",
       " 'base_CircularApertureFlux_35_0_instFluxErr',\n",
       " 'base_CircularApertureFlux_3_0_flag',\n",
       " 'base_CircularApertureFlux_3_0_flag_apertureTruncated',\n",
       " 'base_CircularApertureFlux_3_0_flag_sincCoeffsTruncated',\n",
       " 'base_CircularApertureFlux_3_0_instFlux',\n",
       " 'base_CircularApertureFlux_3_0_instFluxErr',\n",
       " 'base_CircularApertureFlux_4_5_flag',\n",
       " 'base_CircularApertureFlux_4_5_flag_apertureTruncated',\n",
       " 'base_CircularApertureFlux_4_5_flag_sincCoeffsTruncated',\n",
       " 'base_CircularApertureFlux_4_5_instFlux',\n",
       " 'base_CircularApertureFlux_4_5_instFluxErr',\n",
       " 'base_CircularApertureFlux_50_0_flag',\n",
       " 'base_CircularApertureFlux_50_0_flag_apertureTruncated',\n",
       " 'base_CircularApertureFlux_50_0_instFlux',\n",
       " 'base_CircularApertureFlux_50_0_instFluxErr',\n",
       " 'base_CircularApertureFlux_6_0_flag',\n",
       " 'base_CircularApertureFlux_6_0_flag_apertureTruncated',\n",
       " 'base_CircularApertureFlux_6_0_flag_sincCoeffsTruncated',\n",
       " 'base_CircularApertureFlux_6_0_instFlux',\n",
       " 'base_CircularApertureFlux_6_0_instFluxErr',\n",
       " 'base_CircularApertureFlux_70_0_flag',\n",
       " 'base_CircularApertureFlux_70_0_flag_apertureTruncated',\n",
       " 'base_CircularApertureFlux_70_0_instFlux',\n",
       " 'base_CircularApertureFlux_70_0_instFluxErr',\n",
       " 'base_CircularApertureFlux_9_0_flag',\n",
       " 'base_CircularApertureFlux_9_0_flag_apertureTruncated',\n",
       " 'base_CircularApertureFlux_9_0_flag_sincCoeffsTruncated',\n",
       " 'base_CircularApertureFlux_9_0_instFlux',\n",
       " 'base_CircularApertureFlux_9_0_instFluxErr',\n",
       " 'base_ClassificationExtendedness_flag',\n",
       " 'base_ClassificationExtendedness_value',\n",
       " 'base_GaussianFlux_apCorr',\n",
       " 'base_GaussianFlux_apCorrErr',\n",
       " 'base_GaussianFlux_flag',\n",
       " 'base_GaussianFlux_flag_apCorr',\n",
       " 'base_GaussianFlux_instFlux',\n",
       " 'base_GaussianFlux_instFluxErr',\n",
       " 'base_InputCount_flag',\n",
       " 'base_InputCount_flag_noInputs',\n",
       " 'base_InputCount_value',\n",
       " 'base_LocalBackground_flag',\n",
       " 'base_LocalBackground_flag_noGoodPixels',\n",
       " 'base_LocalBackground_flag_noPsf',\n",
       " 'base_LocalBackground_instFlux',\n",
       " 'base_LocalBackground_instFluxErr',\n",
       " 'base_PixelFlags_flag',\n",
       " 'base_PixelFlags_flag_bad',\n",
       " 'base_PixelFlags_flag_bright_object',\n",
       " 'base_PixelFlags_flag_bright_objectCenter',\n",
       " 'base_PixelFlags_flag_clipped',\n",
       " 'base_PixelFlags_flag_clippedCenter',\n",
       " 'base_PixelFlags_flag_cr',\n",
       " 'base_PixelFlags_flag_crCenter',\n",
       " 'base_PixelFlags_flag_edge',\n",
       " 'base_PixelFlags_flag_inexact_psf',\n",
       " 'base_PixelFlags_flag_inexact_psfCenter',\n",
       " 'base_PixelFlags_flag_interpolated',\n",
       " 'base_PixelFlags_flag_interpolatedCenter',\n",
       " 'base_PixelFlags_flag_offimage',\n",
       " 'base_PixelFlags_flag_rejected',\n",
       " 'base_PixelFlags_flag_rejectedCenter',\n",
       " 'base_PixelFlags_flag_saturated',\n",
       " 'base_PixelFlags_flag_saturatedCenter',\n",
       " 'base_PixelFlags_flag_sensor_edge',\n",
       " 'base_PixelFlags_flag_sensor_edgeCenter',\n",
       " 'base_PixelFlags_flag_suspect',\n",
       " 'base_PixelFlags_flag_suspectCenter',\n",
       " 'base_PsfFlux_apCorr',\n",
       " 'base_PsfFlux_apCorrErr',\n",
       " 'base_PsfFlux_area',\n",
       " 'base_PsfFlux_flag',\n",
       " 'base_PsfFlux_flag_apCorr',\n",
       " 'base_PsfFlux_flag_edge',\n",
       " 'base_PsfFlux_flag_noGoodPixels',\n",
       " 'base_PsfFlux_instFlux',\n",
       " 'base_PsfFlux_instFluxErr',\n",
       " 'base_SdssCentroid_flag',\n",
       " 'base_SdssCentroid_flag_almostNoSecondDerivative',\n",
       " 'base_SdssCentroid_flag_badError',\n",
       " 'base_SdssCentroid_flag_edge',\n",
       " 'base_SdssCentroid_flag_noSecondDerivative',\n",
       " 'base_SdssCentroid_flag_notAtMaximum',\n",
       " 'base_SdssCentroid_flag_resetToPeak',\n",
       " 'base_SdssCentroid_x',\n",
       " 'base_SdssCentroid_xErr',\n",
       " 'base_SdssCentroid_y',\n",
       " 'base_SdssCentroid_yErr',\n",
       " 'base_SdssShape_flag',\n",
       " 'base_SdssShape_flag_maxIter',\n",
       " 'base_SdssShape_flag_psf',\n",
       " 'base_SdssShape_flag_shift',\n",
       " 'base_SdssShape_flag_unweighted',\n",
       " 'base_SdssShape_flag_unweightedBad',\n",
       " 'base_SdssShape_instFlux',\n",
       " 'base_SdssShape_instFluxErr',\n",
       " 'base_SdssShape_instFlux_xx_Cov',\n",
       " 'base_SdssShape_instFlux_xy_Cov',\n",
       " 'base_SdssShape_instFlux_yy_Cov',\n",
       " 'base_SdssShape_psf_xx',\n",
       " 'base_SdssShape_psf_xy',\n",
       " 'base_SdssShape_psf_yy',\n",
       " 'base_SdssShape_x',\n",
       " 'base_SdssShape_xx',\n",
       " 'base_SdssShape_xxErr',\n",
       " 'base_SdssShape_xy',\n",
       " 'base_SdssShape_xyErr',\n",
       " 'base_SdssShape_y',\n",
       " 'base_SdssShape_yy',\n",
       " 'base_SdssShape_yyErr',\n",
       " 'base_TransformedCentroid_flag',\n",
       " 'base_TransformedCentroid_x',\n",
       " 'base_TransformedCentroid_y',\n",
       " 'base_TransformedShape_flag',\n",
       " 'base_TransformedShape_xx',\n",
       " 'base_TransformedShape_xy',\n",
       " 'base_TransformedShape_yy',\n",
       " 'base_Variance_flag',\n",
       " 'base_Variance_flag_emptyFootprint',\n",
       " 'base_Variance_value',\n",
       " 'coord_dec',\n",
       " 'coord_ra',\n",
       " 'deblend_nChild',\n",
       " 'ext_convolved_ConvolvedFlux_0_3_3_apCorr',\n",
       " 'ext_convolved_ConvolvedFlux_0_3_3_apCorrErr',\n",
       " 'ext_convolved_ConvolvedFlux_0_3_3_flag',\n",
       " 'ext_convolved_ConvolvedFlux_0_3_3_flag_apCorr',\n",
       " 'ext_convolved_ConvolvedFlux_0_3_3_flag_apertureTruncated',\n",
       " 'ext_convolved_ConvolvedFlux_0_3_3_flag_sincCoeffsTruncated',\n",
       " 'ext_convolved_ConvolvedFlux_0_3_3_instFlux',\n",
       " 'ext_convolved_ConvolvedFlux_0_3_3_instFluxErr',\n",
       " 'ext_convolved_ConvolvedFlux_0_4_5_apCorr',\n",
       " 'ext_convolved_ConvolvedFlux_0_4_5_apCorrErr',\n",
       " 'ext_convolved_ConvolvedFlux_0_4_5_flag',\n",
       " 'ext_convolved_ConvolvedFlux_0_4_5_flag_apCorr',\n",
       " 'ext_convolved_ConvolvedFlux_0_4_5_flag_apertureTruncated',\n",
       " 'ext_convolved_ConvolvedFlux_0_4_5_flag_sincCoeffsTruncated',\n",
       " 'ext_convolved_ConvolvedFlux_0_4_5_instFlux',\n",
       " 'ext_convolved_ConvolvedFlux_0_4_5_instFluxErr',\n",
       " 'ext_convolved_ConvolvedFlux_0_6_0_apCorr',\n",
       " 'ext_convolved_ConvolvedFlux_0_6_0_apCorrErr',\n",
       " 'ext_convolved_ConvolvedFlux_0_6_0_flag',\n",
       " 'ext_convolved_ConvolvedFlux_0_6_0_flag_apCorr',\n",
       " 'ext_convolved_ConvolvedFlux_0_6_0_flag_apertureTruncated',\n",
       " 'ext_convolved_ConvolvedFlux_0_6_0_flag_sincCoeffsTruncated',\n",
       " 'ext_convolved_ConvolvedFlux_0_6_0_instFlux',\n",
       " 'ext_convolved_ConvolvedFlux_0_6_0_instFluxErr',\n",
       " 'ext_convolved_ConvolvedFlux_0_deconv',\n",
       " 'ext_convolved_ConvolvedFlux_0_kron_apCorr',\n",
       " 'ext_convolved_ConvolvedFlux_0_kron_apCorrErr',\n",
       " 'ext_convolved_ConvolvedFlux_0_kron_flag',\n",
       " 'ext_convolved_ConvolvedFlux_0_kron_flag_apCorr',\n",
       " 'ext_convolved_ConvolvedFlux_0_kron_instFlux',\n",
       " 'ext_convolved_ConvolvedFlux_0_kron_instFluxErr',\n",
       " 'ext_convolved_ConvolvedFlux_1_3_3_apCorr',\n",
       " 'ext_convolved_ConvolvedFlux_1_3_3_apCorrErr',\n",
       " 'ext_convolved_ConvolvedFlux_1_3_3_flag',\n",
       " 'ext_convolved_ConvolvedFlux_1_3_3_flag_apCorr',\n",
       " 'ext_convolved_ConvolvedFlux_1_3_3_flag_apertureTruncated',\n",
       " 'ext_convolved_ConvolvedFlux_1_3_3_flag_sincCoeffsTruncated',\n",
       " 'ext_convolved_ConvolvedFlux_1_3_3_instFlux',\n",
       " 'ext_convolved_ConvolvedFlux_1_3_3_instFluxErr',\n",
       " 'ext_convolved_ConvolvedFlux_1_4_5_apCorr',\n",
       " 'ext_convolved_ConvolvedFlux_1_4_5_apCorrErr',\n",
       " 'ext_convolved_ConvolvedFlux_1_4_5_flag',\n",
       " 'ext_convolved_ConvolvedFlux_1_4_5_flag_apCorr',\n",
       " 'ext_convolved_ConvolvedFlux_1_4_5_flag_apertureTruncated',\n",
       " 'ext_convolved_ConvolvedFlux_1_4_5_flag_sincCoeffsTruncated',\n",
       " 'ext_convolved_ConvolvedFlux_1_4_5_instFlux',\n",
       " 'ext_convolved_ConvolvedFlux_1_4_5_instFluxErr',\n",
       " 'ext_convolved_ConvolvedFlux_1_6_0_apCorr',\n",
       " 'ext_convolved_ConvolvedFlux_1_6_0_apCorrErr',\n",
       " 'ext_convolved_ConvolvedFlux_1_6_0_flag',\n",
       " 'ext_convolved_ConvolvedFlux_1_6_0_flag_apCorr',\n",
       " 'ext_convolved_ConvolvedFlux_1_6_0_flag_apertureTruncated',\n",
       " 'ext_convolved_ConvolvedFlux_1_6_0_flag_sincCoeffsTruncated',\n",
       " 'ext_convolved_ConvolvedFlux_1_6_0_instFlux',\n",
       " 'ext_convolved_ConvolvedFlux_1_6_0_instFluxErr',\n",
       " 'ext_convolved_ConvolvedFlux_1_deconv',\n",
       " 'ext_convolved_ConvolvedFlux_1_kron_apCorr',\n",
       " 'ext_convolved_ConvolvedFlux_1_kron_apCorrErr',\n",
       " 'ext_convolved_ConvolvedFlux_1_kron_flag',\n",
       " 'ext_convolved_ConvolvedFlux_1_kron_flag_apCorr',\n",
       " 'ext_convolved_ConvolvedFlux_1_kron_instFlux',\n",
       " 'ext_convolved_ConvolvedFlux_1_kron_instFluxErr',\n",
       " 'ext_convolved_ConvolvedFlux_2_3_3_apCorr',\n",
       " 'ext_convolved_ConvolvedFlux_2_3_3_apCorrErr',\n",
       " 'ext_convolved_ConvolvedFlux_2_3_3_flag',\n",
       " 'ext_convolved_ConvolvedFlux_2_3_3_flag_apCorr',\n",
       " 'ext_convolved_ConvolvedFlux_2_3_3_flag_apertureTruncated',\n",
       " 'ext_convolved_ConvolvedFlux_2_3_3_flag_sincCoeffsTruncated',\n",
       " 'ext_convolved_ConvolvedFlux_2_3_3_instFlux',\n",
       " 'ext_convolved_ConvolvedFlux_2_3_3_instFluxErr',\n",
       " 'ext_convolved_ConvolvedFlux_2_4_5_apCorr',\n",
       " 'ext_convolved_ConvolvedFlux_2_4_5_apCorrErr',\n",
       " 'ext_convolved_ConvolvedFlux_2_4_5_flag',\n",
       " 'ext_convolved_ConvolvedFlux_2_4_5_flag_apCorr',\n",
       " 'ext_convolved_ConvolvedFlux_2_4_5_flag_apertureTruncated',\n",
       " 'ext_convolved_ConvolvedFlux_2_4_5_flag_sincCoeffsTruncated',\n",
       " 'ext_convolved_ConvolvedFlux_2_4_5_instFlux',\n",
       " 'ext_convolved_ConvolvedFlux_2_4_5_instFluxErr',\n",
       " 'ext_convolved_ConvolvedFlux_2_6_0_apCorr',\n",
       " 'ext_convolved_ConvolvedFlux_2_6_0_apCorrErr',\n",
       " 'ext_convolved_ConvolvedFlux_2_6_0_flag',\n",
       " 'ext_convolved_ConvolvedFlux_2_6_0_flag_apCorr',\n",
       " 'ext_convolved_ConvolvedFlux_2_6_0_flag_apertureTruncated',\n",
       " 'ext_convolved_ConvolvedFlux_2_6_0_flag_sincCoeffsTruncated',\n",
       " 'ext_convolved_ConvolvedFlux_2_6_0_instFlux',\n",
       " 'ext_convolved_ConvolvedFlux_2_6_0_instFluxErr',\n",
       " 'ext_convolved_ConvolvedFlux_2_deconv',\n",
       " 'ext_convolved_ConvolvedFlux_2_kron_apCorr',\n",
       " 'ext_convolved_ConvolvedFlux_2_kron_apCorrErr',\n",
       " 'ext_convolved_ConvolvedFlux_2_kron_flag',\n",
       " 'ext_convolved_ConvolvedFlux_2_kron_flag_apCorr',\n",
       " 'ext_convolved_ConvolvedFlux_2_kron_instFlux',\n",
       " 'ext_convolved_ConvolvedFlux_2_kron_instFluxErr',\n",
       " 'ext_convolved_ConvolvedFlux_3_3_3_apCorr',\n",
       " 'ext_convolved_ConvolvedFlux_3_3_3_apCorrErr',\n",
       " 'ext_convolved_ConvolvedFlux_3_3_3_flag',\n",
       " 'ext_convolved_ConvolvedFlux_3_3_3_flag_apCorr',\n",
       " 'ext_convolved_ConvolvedFlux_3_3_3_flag_apertureTruncated',\n",
       " 'ext_convolved_ConvolvedFlux_3_3_3_flag_sincCoeffsTruncated',\n",
       " 'ext_convolved_ConvolvedFlux_3_3_3_instFlux',\n",
       " 'ext_convolved_ConvolvedFlux_3_3_3_instFluxErr',\n",
       " 'ext_convolved_ConvolvedFlux_3_4_5_apCorr',\n",
       " 'ext_convolved_ConvolvedFlux_3_4_5_apCorrErr',\n",
       " 'ext_convolved_ConvolvedFlux_3_4_5_flag',\n",
       " 'ext_convolved_ConvolvedFlux_3_4_5_flag_apCorr',\n",
       " 'ext_convolved_ConvolvedFlux_3_4_5_flag_apertureTruncated',\n",
       " 'ext_convolved_ConvolvedFlux_3_4_5_flag_sincCoeffsTruncated',\n",
       " 'ext_convolved_ConvolvedFlux_3_4_5_instFlux',\n",
       " 'ext_convolved_ConvolvedFlux_3_4_5_instFluxErr',\n",
       " 'ext_convolved_ConvolvedFlux_3_6_0_apCorr',\n",
       " 'ext_convolved_ConvolvedFlux_3_6_0_apCorrErr',\n",
       " 'ext_convolved_ConvolvedFlux_3_6_0_flag',\n",
       " 'ext_convolved_ConvolvedFlux_3_6_0_flag_apCorr',\n",
       " 'ext_convolved_ConvolvedFlux_3_6_0_flag_apertureTruncated',\n",
       " 'ext_convolved_ConvolvedFlux_3_6_0_flag_sincCoeffsTruncated',\n",
       " 'ext_convolved_ConvolvedFlux_3_6_0_instFlux',\n",
       " 'ext_convolved_ConvolvedFlux_3_6_0_instFluxErr',\n",
       " 'ext_convolved_ConvolvedFlux_3_deconv',\n",
       " 'ext_convolved_ConvolvedFlux_3_kron_apCorr',\n",
       " 'ext_convolved_ConvolvedFlux_3_kron_apCorrErr',\n",
       " 'ext_convolved_ConvolvedFlux_3_kron_flag',\n",
       " 'ext_convolved_ConvolvedFlux_3_kron_flag_apCorr',\n",
       " 'ext_convolved_ConvolvedFlux_3_kron_instFlux',\n",
       " 'ext_convolved_ConvolvedFlux_3_kron_instFluxErr',\n",
       " 'ext_convolved_ConvolvedFlux_flag',\n",
       " 'ext_convolved_ConvolvedFlux_seeing',\n",
       " 'ext_photometryKron_KronFlux_apCorr',\n",
       " 'ext_photometryKron_KronFlux_apCorrErr',\n",
       " 'ext_photometryKron_KronFlux_flag',\n",
       " 'ext_photometryKron_KronFlux_flag_apCorr',\n",
       " 'ext_photometryKron_KronFlux_flag_bad_radius',\n",
       " 'ext_photometryKron_KronFlux_flag_bad_shape',\n",
       " 'ext_photometryKron_KronFlux_flag_bad_shape_no_psf',\n",
       " 'ext_photometryKron_KronFlux_flag_edge',\n",
       " 'ext_photometryKron_KronFlux_flag_no_fallback_radius',\n",
       " 'ext_photometryKron_KronFlux_flag_no_minimum_radius',\n",
       " 'ext_photometryKron_KronFlux_flag_small_radius',\n",
       " 'ext_photometryKron_KronFlux_flag_used_minimum_radius',\n",
       " 'ext_photometryKron_KronFlux_flag_used_psf_radius',\n",
       " 'ext_photometryKron_KronFlux_instFlux',\n",
       " 'ext_photometryKron_KronFlux_instFluxErr',\n",
       " 'ext_photometryKron_KronFlux_psf_radius',\n",
       " 'ext_photometryKron_KronFlux_radius',\n",
       " 'ext_photometryKron_KronFlux_radius_for_radius',\n",
       " 'id',\n",
       " 'modelfit_CModel_apCorr',\n",
       " 'modelfit_CModel_apCorrErr',\n",
       " 'modelfit_CModel_dev_apCorr',\n",
       " 'modelfit_CModel_dev_apCorrErr',\n",
       " 'modelfit_CModel_dev_flag',\n",
       " 'modelfit_CModel_dev_flag_apCorr',\n",
       " 'modelfit_CModel_dev_flag_badReference',\n",
       " 'modelfit_CModel_dev_flag_noFlux',\n",
       " 'modelfit_CModel_dev_flag_numericError',\n",
       " 'modelfit_CModel_dev_instFlux',\n",
       " 'modelfit_CModel_dev_instFluxErr',\n",
       " 'modelfit_CModel_dev_instFlux_inner',\n",
       " 'modelfit_CModel_exp_apCorr',\n",
       " 'modelfit_CModel_exp_apCorrErr',\n",
       " 'modelfit_CModel_exp_flag',\n",
       " 'modelfit_CModel_exp_flag_apCorr',\n",
       " 'modelfit_CModel_exp_flag_badReference',\n",
       " 'modelfit_CModel_exp_flag_noFlux',\n",
       " 'modelfit_CModel_exp_flag_numericError',\n",
       " 'modelfit_CModel_exp_instFlux',\n",
       " 'modelfit_CModel_exp_instFluxErr',\n",
       " 'modelfit_CModel_exp_instFlux_inner',\n",
       " 'modelfit_CModel_flag',\n",
       " 'modelfit_CModel_flag_apCorr',\n",
       " 'modelfit_CModel_flag_badCentroid',\n",
       " 'modelfit_CModel_flag_badReference',\n",
       " 'modelfit_CModel_flag_noFlux',\n",
       " 'modelfit_CModel_flag_noShapeletPsf',\n",
       " 'modelfit_CModel_flag_region_maxArea',\n",
       " 'modelfit_CModel_flag_region_maxBadPixelFraction',\n",
       " 'modelfit_CModel_fracDev',\n",
       " 'modelfit_CModel_initial_apCorr',\n",
       " 'modelfit_CModel_initial_apCorrErr',\n",
       " 'modelfit_CModel_initial_flag',\n",
       " 'modelfit_CModel_initial_flag_apCorr',\n",
       " 'modelfit_CModel_initial_flag_badReference',\n",
       " 'modelfit_CModel_initial_flag_noFlux',\n",
       " 'modelfit_CModel_initial_flag_numericError',\n",
       " 'modelfit_CModel_initial_instFlux',\n",
       " 'modelfit_CModel_initial_instFluxErr',\n",
       " 'modelfit_CModel_initial_instFlux_inner',\n",
       " 'modelfit_CModel_instFlux',\n",
       " 'modelfit_CModel_instFluxErr',\n",
       " 'modelfit_CModel_instFlux_inner',\n",
       " 'modelfit_CModel_objective',\n",
       " 'modelfit_DoubleShapeletPsfApprox_0_0',\n",
       " 'modelfit_DoubleShapeletPsfApprox_0_1',\n",
       " 'modelfit_DoubleShapeletPsfApprox_0_2',\n",
       " 'modelfit_DoubleShapeletPsfApprox_0_3',\n",
       " 'modelfit_DoubleShapeletPsfApprox_0_4',\n",
       " 'modelfit_DoubleShapeletPsfApprox_0_5',\n",
       " 'modelfit_DoubleShapeletPsfApprox_0_x',\n",
       " 'modelfit_DoubleShapeletPsfApprox_0_xx',\n",
       " 'modelfit_DoubleShapeletPsfApprox_0_xy',\n",
       " 'modelfit_DoubleShapeletPsfApprox_0_y',\n",
       " 'modelfit_DoubleShapeletPsfApprox_0_yy',\n",
       " 'modelfit_DoubleShapeletPsfApprox_1_0',\n",
       " 'modelfit_DoubleShapeletPsfApprox_1_1',\n",
       " 'modelfit_DoubleShapeletPsfApprox_1_2',\n",
       " 'modelfit_DoubleShapeletPsfApprox_1_x',\n",
       " 'modelfit_DoubleShapeletPsfApprox_1_xx',\n",
       " 'modelfit_DoubleShapeletPsfApprox_1_xy',\n",
       " 'modelfit_DoubleShapeletPsfApprox_1_y',\n",
       " 'modelfit_DoubleShapeletPsfApprox_1_yy',\n",
       " 'modelfit_DoubleShapeletPsfApprox_flag',\n",
       " 'modelfit_DoubleShapeletPsfApprox_flag_invalidMoments',\n",
       " 'modelfit_DoubleShapeletPsfApprox_flag_invalidPointForPsf',\n",
       " 'modelfit_DoubleShapeletPsfApprox_flag_maxIterations',\n",
       " 'parent',\n",
       " 'undeblended_base_CircularApertureFlux_12_0_flag',\n",
       " 'undeblended_base_CircularApertureFlux_12_0_flag_apertureTruncated',\n",
       " 'undeblended_base_CircularApertureFlux_12_0_flag_sincCoeffsTruncated',\n",
       " 'undeblended_base_CircularApertureFlux_12_0_instFlux',\n",
       " 'undeblended_base_CircularApertureFlux_12_0_instFluxErr',\n",
       " 'undeblended_base_CircularApertureFlux_17_0_flag',\n",
       " 'undeblended_base_CircularApertureFlux_17_0_flag_apertureTruncated',\n",
       " 'undeblended_base_CircularApertureFlux_17_0_instFlux',\n",
       " 'undeblended_base_CircularApertureFlux_17_0_instFluxErr',\n",
       " 'undeblended_base_CircularApertureFlux_25_0_flag',\n",
       " 'undeblended_base_CircularApertureFlux_25_0_flag_apertureTruncated',\n",
       " 'undeblended_base_CircularApertureFlux_25_0_instFlux',\n",
       " 'undeblended_base_CircularApertureFlux_25_0_instFluxErr',\n",
       " 'undeblended_base_CircularApertureFlux_35_0_flag',\n",
       " 'undeblended_base_CircularApertureFlux_35_0_flag_apertureTruncated',\n",
       " 'undeblended_base_CircularApertureFlux_35_0_instFlux',\n",
       " 'undeblended_base_CircularApertureFlux_35_0_instFluxErr',\n",
       " 'undeblended_base_CircularApertureFlux_3_0_flag',\n",
       " 'undeblended_base_CircularApertureFlux_3_0_flag_apertureTruncated',\n",
       " 'undeblended_base_CircularApertureFlux_3_0_flag_sincCoeffsTruncated',\n",
       " 'undeblended_base_CircularApertureFlux_3_0_instFlux',\n",
       " 'undeblended_base_CircularApertureFlux_3_0_instFluxErr',\n",
       " 'undeblended_base_CircularApertureFlux_4_5_flag',\n",
       " 'undeblended_base_CircularApertureFlux_4_5_flag_apertureTruncated',\n",
       " 'undeblended_base_CircularApertureFlux_4_5_flag_sincCoeffsTruncated',\n",
       " 'undeblended_base_CircularApertureFlux_4_5_instFlux',\n",
       " 'undeblended_base_CircularApertureFlux_4_5_instFluxErr',\n",
       " 'undeblended_base_CircularApertureFlux_50_0_flag',\n",
       " 'undeblended_base_CircularApertureFlux_50_0_flag_apertureTruncated',\n",
       " 'undeblended_base_CircularApertureFlux_50_0_instFlux',\n",
       " 'undeblended_base_CircularApertureFlux_50_0_instFluxErr',\n",
       " 'undeblended_base_CircularApertureFlux_6_0_flag',\n",
       " 'undeblended_base_CircularApertureFlux_6_0_flag_apertureTruncated',\n",
       " 'undeblended_base_CircularApertureFlux_6_0_flag_sincCoeffsTruncated',\n",
       " 'undeblended_base_CircularApertureFlux_6_0_instFlux',\n",
       " 'undeblended_base_CircularApertureFlux_6_0_instFluxErr',\n",
       " 'undeblended_base_CircularApertureFlux_70_0_flag',\n",
       " 'undeblended_base_CircularApertureFlux_70_0_flag_apertureTruncated',\n",
       " 'undeblended_base_CircularApertureFlux_70_0_instFlux',\n",
       " 'undeblended_base_CircularApertureFlux_70_0_instFluxErr',\n",
       " 'undeblended_base_CircularApertureFlux_9_0_flag',\n",
       " 'undeblended_base_CircularApertureFlux_9_0_flag_apertureTruncated',\n",
       " 'undeblended_base_CircularApertureFlux_9_0_flag_sincCoeffsTruncated',\n",
       " 'undeblended_base_CircularApertureFlux_9_0_instFlux',\n",
       " 'undeblended_base_CircularApertureFlux_9_0_instFluxErr',\n",
       " 'undeblended_base_PsfFlux_area',\n",
       " 'undeblended_base_PsfFlux_flag',\n",
       " 'undeblended_base_PsfFlux_flag_edge',\n",
       " 'undeblended_base_PsfFlux_flag_noGoodPixels',\n",
       " 'undeblended_base_PsfFlux_instFlux',\n",
       " 'undeblended_base_PsfFlux_instFluxErr',\n",
       " 'undeblended_ext_convolved_ConvolvedFlux_0_3_3_flag',\n",
       " 'undeblended_ext_convolved_ConvolvedFlux_0_3_3_flag_apCorr',\n",
       " 'undeblended_ext_convolved_ConvolvedFlux_0_3_3_flag_apertureTruncated',\n",
       " 'undeblended_ext_convolved_ConvolvedFlux_0_3_3_flag_sincCoeffsTruncated',\n",
       " 'undeblended_ext_convolved_ConvolvedFlux_0_3_3_instFlux',\n",
       " 'undeblended_ext_convolved_ConvolvedFlux_0_3_3_instFluxErr',\n",
       " 'undeblended_ext_convolved_ConvolvedFlux_0_4_5_flag',\n",
       " 'undeblended_ext_convolved_ConvolvedFlux_0_4_5_flag_apCorr',\n",
       " 'undeblended_ext_convolved_ConvolvedFlux_0_4_5_flag_apertureTruncated',\n",
       " 'undeblended_ext_convolved_ConvolvedFlux_0_4_5_flag_sincCoeffsTruncated',\n",
       " 'undeblended_ext_convolved_ConvolvedFlux_0_4_5_instFlux',\n",
       " 'undeblended_ext_convolved_ConvolvedFlux_0_4_5_instFluxErr',\n",
       " 'undeblended_ext_convolved_ConvolvedFlux_0_6_0_flag',\n",
       " 'undeblended_ext_convolved_ConvolvedFlux_0_6_0_flag_apCorr',\n",
       " 'undeblended_ext_convolved_ConvolvedFlux_0_6_0_flag_apertureTruncated',\n",
       " 'undeblended_ext_convolved_ConvolvedFlux_0_6_0_flag_sincCoeffsTruncated',\n",
       " 'undeblended_ext_convolved_ConvolvedFlux_0_6_0_instFlux',\n",
       " 'undeblended_ext_convolved_ConvolvedFlux_0_6_0_instFluxErr',\n",
       " 'undeblended_ext_convolved_ConvolvedFlux_0_deconv',\n",
       " 'undeblended_ext_convolved_ConvolvedFlux_0_kron_flag',\n",
       " 'undeblended_ext_convolved_ConvolvedFlux_0_kron_flag_apCorr',\n",
       " 'undeblended_ext_convolved_ConvolvedFlux_0_kron_instFlux',\n",
       " 'undeblended_ext_convolved_ConvolvedFlux_0_kron_instFluxErr',\n",
       " 'undeblended_ext_convolved_ConvolvedFlux_1_3_3_flag',\n",
       " 'undeblended_ext_convolved_ConvolvedFlux_1_3_3_flag_apCorr',\n",
       " 'undeblended_ext_convolved_ConvolvedFlux_1_3_3_flag_apertureTruncated',\n",
       " 'undeblended_ext_convolved_ConvolvedFlux_1_3_3_flag_sincCoeffsTruncated',\n",
       " 'undeblended_ext_convolved_ConvolvedFlux_1_3_3_instFlux',\n",
       " 'undeblended_ext_convolved_ConvolvedFlux_1_3_3_instFluxErr',\n",
       " 'undeblended_ext_convolved_ConvolvedFlux_1_4_5_flag',\n",
       " 'undeblended_ext_convolved_ConvolvedFlux_1_4_5_flag_apCorr',\n",
       " 'undeblended_ext_convolved_ConvolvedFlux_1_4_5_flag_apertureTruncated',\n",
       " 'undeblended_ext_convolved_ConvolvedFlux_1_4_5_flag_sincCoeffsTruncated',\n",
       " 'undeblended_ext_convolved_ConvolvedFlux_1_4_5_instFlux',\n",
       " 'undeblended_ext_convolved_ConvolvedFlux_1_4_5_instFluxErr',\n",
       " 'undeblended_ext_convolved_ConvolvedFlux_1_6_0_flag',\n",
       " 'undeblended_ext_convolved_ConvolvedFlux_1_6_0_flag_apCorr',\n",
       " 'undeblended_ext_convolved_ConvolvedFlux_1_6_0_flag_apertureTruncated',\n",
       " 'undeblended_ext_convolved_ConvolvedFlux_1_6_0_flag_sincCoeffsTruncated',\n",
       " 'undeblended_ext_convolved_ConvolvedFlux_1_6_0_instFlux',\n",
       " 'undeblended_ext_convolved_ConvolvedFlux_1_6_0_instFluxErr',\n",
       " 'undeblended_ext_convolved_ConvolvedFlux_1_deconv',\n",
       " 'undeblended_ext_convolved_ConvolvedFlux_1_kron_flag',\n",
       " 'undeblended_ext_convolved_ConvolvedFlux_1_kron_flag_apCorr',\n",
       " 'undeblended_ext_convolved_ConvolvedFlux_1_kron_instFlux',\n",
       " 'undeblended_ext_convolved_ConvolvedFlux_1_kron_instFluxErr',\n",
       " 'undeblended_ext_convolved_ConvolvedFlux_2_3_3_flag',\n",
       " 'undeblended_ext_convolved_ConvolvedFlux_2_3_3_flag_apCorr',\n",
       " 'undeblended_ext_convolved_ConvolvedFlux_2_3_3_flag_apertureTruncated',\n",
       " 'undeblended_ext_convolved_ConvolvedFlux_2_3_3_flag_sincCoeffsTruncated',\n",
       " 'undeblended_ext_convolved_ConvolvedFlux_2_3_3_instFlux',\n",
       " 'undeblended_ext_convolved_ConvolvedFlux_2_3_3_instFluxErr',\n",
       " 'undeblended_ext_convolved_ConvolvedFlux_2_4_5_flag',\n",
       " 'undeblended_ext_convolved_ConvolvedFlux_2_4_5_flag_apCorr',\n",
       " 'undeblended_ext_convolved_ConvolvedFlux_2_4_5_flag_apertureTruncated',\n",
       " 'undeblended_ext_convolved_ConvolvedFlux_2_4_5_flag_sincCoeffsTruncated',\n",
       " 'undeblended_ext_convolved_ConvolvedFlux_2_4_5_instFlux',\n",
       " 'undeblended_ext_convolved_ConvolvedFlux_2_4_5_instFluxErr',\n",
       " 'undeblended_ext_convolved_ConvolvedFlux_2_6_0_flag',\n",
       " 'undeblended_ext_convolved_ConvolvedFlux_2_6_0_flag_apCorr',\n",
       " 'undeblended_ext_convolved_ConvolvedFlux_2_6_0_flag_apertureTruncated',\n",
       " 'undeblended_ext_convolved_ConvolvedFlux_2_6_0_flag_sincCoeffsTruncated',\n",
       " 'undeblended_ext_convolved_ConvolvedFlux_2_6_0_instFlux',\n",
       " 'undeblended_ext_convolved_ConvolvedFlux_2_6_0_instFluxErr',\n",
       " 'undeblended_ext_convolved_ConvolvedFlux_2_deconv',\n",
       " 'undeblended_ext_convolved_ConvolvedFlux_2_kron_flag',\n",
       " 'undeblended_ext_convolved_ConvolvedFlux_2_kron_flag_apCorr',\n",
       " 'undeblended_ext_convolved_ConvolvedFlux_2_kron_instFlux',\n",
       " 'undeblended_ext_convolved_ConvolvedFlux_2_kron_instFluxErr',\n",
       " 'undeblended_ext_convolved_ConvolvedFlux_3_3_3_flag',\n",
       " 'undeblended_ext_convolved_ConvolvedFlux_3_3_3_flag_apCorr',\n",
       " 'undeblended_ext_convolved_ConvolvedFlux_3_3_3_flag_apertureTruncated',\n",
       " 'undeblended_ext_convolved_ConvolvedFlux_3_3_3_flag_sincCoeffsTruncated',\n",
       " 'undeblended_ext_convolved_ConvolvedFlux_3_3_3_instFlux',\n",
       " 'undeblended_ext_convolved_ConvolvedFlux_3_3_3_instFluxErr',\n",
       " 'undeblended_ext_convolved_ConvolvedFlux_3_4_5_flag',\n",
       " 'undeblended_ext_convolved_ConvolvedFlux_3_4_5_flag_apCorr',\n",
       " 'undeblended_ext_convolved_ConvolvedFlux_3_4_5_flag_apertureTruncated',\n",
       " 'undeblended_ext_convolved_ConvolvedFlux_3_4_5_flag_sincCoeffsTruncated',\n",
       " 'undeblended_ext_convolved_ConvolvedFlux_3_4_5_instFlux',\n",
       " 'undeblended_ext_convolved_ConvolvedFlux_3_4_5_instFluxErr',\n",
       " 'undeblended_ext_convolved_ConvolvedFlux_3_6_0_flag',\n",
       " 'undeblended_ext_convolved_ConvolvedFlux_3_6_0_flag_apCorr',\n",
       " 'undeblended_ext_convolved_ConvolvedFlux_3_6_0_flag_apertureTruncated',\n",
       " 'undeblended_ext_convolved_ConvolvedFlux_3_6_0_flag_sincCoeffsTruncated',\n",
       " 'undeblended_ext_convolved_ConvolvedFlux_3_6_0_instFlux',\n",
       " 'undeblended_ext_convolved_ConvolvedFlux_3_6_0_instFluxErr',\n",
       " 'undeblended_ext_convolved_ConvolvedFlux_3_deconv',\n",
       " 'undeblended_ext_convolved_ConvolvedFlux_3_kron_flag',\n",
       " 'undeblended_ext_convolved_ConvolvedFlux_3_kron_flag_apCorr',\n",
       " 'undeblended_ext_convolved_ConvolvedFlux_3_kron_instFlux',\n",
       " 'undeblended_ext_convolved_ConvolvedFlux_3_kron_instFluxErr',\n",
       " 'undeblended_ext_convolved_ConvolvedFlux_flag',\n",
       " 'undeblended_ext_convolved_ConvolvedFlux_seeing',\n",
       " 'undeblended_ext_photometryKron_KronFlux_flag',\n",
       " 'undeblended_ext_photometryKron_KronFlux_flag_bad_radius',\n",
       " 'undeblended_ext_photometryKron_KronFlux_flag_bad_shape',\n",
       " 'undeblended_ext_photometryKron_KronFlux_flag_bad_shape_no_psf',\n",
       " 'undeblended_ext_photometryKron_KronFlux_flag_edge',\n",
       " 'undeblended_ext_photometryKron_KronFlux_flag_no_fallback_radius',\n",
       " 'undeblended_ext_photometryKron_KronFlux_flag_no_minimum_radius',\n",
       " 'undeblended_ext_photometryKron_KronFlux_flag_small_radius',\n",
       " 'undeblended_ext_photometryKron_KronFlux_flag_used_minimum_radius',\n",
       " 'undeblended_ext_photometryKron_KronFlux_flag_used_psf_radius',\n",
       " 'undeblended_ext_photometryKron_KronFlux_instFlux',\n",
       " 'undeblended_ext_photometryKron_KronFlux_instFluxErr',\n",
       " 'undeblended_ext_photometryKron_KronFlux_psf_radius',\n",
       " 'undeblended_ext_photometryKron_KronFlux_radius',\n",
       " 'undeblended_ext_photometryKron_KronFlux_radius_for_radius'}"
      ]
     },
     "execution_count": 14,
     "metadata": {},
     "output_type": "execute_result"
    }
   ],
   "source": [
    "from lsst.daf.persistence import Butler\n",
    "REPO = '/datasets/hsc/repo/rerun/RC/w_2020_19/DM-24822'\n",
    "butler = Butler(REPO)\n",
    "\n",
    "# Available tracts: 9615  9697  9813\n",
    "dataid = {'filter':'HSC-I', 'tract':9697, 'patch':'0,0'}\n",
    "coadd_forced_src = butler.get('deepCoadd_forced_src', dataId=dataid)\n",
    "\n",
    "# Full list of columns\n",
    "coadd_forced_src.getSchema().getNames()"
   ]
  },
  {
   "cell_type": "markdown",
   "metadata": {},
   "source": [
    "## Scatter Plot Example"
   ]
  },
  {
   "cell_type": "markdown",
   "metadata": {},
   "source": [
    "First, let's make a consistency check to verify that the same set of matched sources is found in the three bands. Notice that `coord_ra` and `coord_dec` are given in radians. We can zoom in and pan around to confirm that the measurements in the three bands correspond to a single matched set of objects."
   ]
  },
  {
   "cell_type": "code",
   "execution_count": 15,
   "metadata": {
    "collapsed": true,
    "jupyter": {
     "outputs_hidden": true
    }
   },
   "outputs": [
    {
     "data": {
      "application/vnd.jupyter.widget-view+json": {
       "model_id": "737cd06b074d4c4093a4427198fe0aa2",
       "version_major": 2,
       "version_minor": 0
      },
      "text/plain": [
       "Canvas(toolbar=Toolbar(toolitems=[('Home', 'Reset original view', 'home', 'home'), ('Back', 'Back to previous …"
      ]
     },
     "metadata": {},
     "output_type": "display_data"
    },
    {
     "data": {
      "text/plain": [
       "Text(0, 0.5, 'Dec')"
      ]
     },
     "execution_count": 15,
     "metadata": {},
     "output_type": "execute_result"
    }
   ],
   "source": [
    "plt.figure()\n",
    "plt.scatter(data['HSC-G']['coord_ra'], data['HSC-G']['coord_dec'], marker='+', label='G')\n",
    "plt.scatter(data['HSC-R']['coord_ra'], data['HSC-R']['coord_dec'], marker='x', label='R')\n",
    "plt.scatter(data['HSC-I']['coord_ra'], data['HSC-I']['coord_dec'], marker='2', label='I')\n",
    "plt.legend()\n",
    "plt.xlabel('RA')\n",
    "plt.ylabel('Dec')"
   ]
  },
  {
   "cell_type": "markdown",
   "metadata": {},
   "source": [
    "Often when exploring a multidimensional space, it is helpful to visualize three or more quantities simulataneously using color-coded markers on scatter plots. Note that it is also possible to pass an array of marker sizes to the `scatter` function to plot points with different size values. Below is a color-color diagram with the points color-coded according to their consistency with a PSF model: unresolved stars will have concentration values near zero, while morphologically extended objects like resolved galaxies will have positive concentration values."
   ]
  },
  {
   "cell_type": "code",
   "execution_count": 16,
   "metadata": {},
   "outputs": [
    {
     "data": {
      "application/vnd.jupyter.widget-view+json": {
       "model_id": "ec496682fd4a4fd1bafa93c85cf57098",
       "version_major": 2,
       "version_minor": 0
      },
      "text/plain": [
       "Canvas(toolbar=Toolbar(toolitems=[('Home', 'Reset original view', 'home', 'home'), ('Back', 'Back to previous …"
      ]
     },
     "metadata": {},
     "output_type": "display_data"
    },
    {
     "data": {
      "text/plain": [
       "<matplotlib.colorbar.Colorbar at 0x7f62b3b28d90>"
      ]
     },
     "execution_count": 16,
     "metadata": {},
     "output_type": "execute_result"
    }
   ],
   "source": [
    "# Variables to plot\n",
    "concentration = data['HSC-I']['psf_mag'] - data['HSC-I']['cm_mag']\n",
    "gr = data['HSC-G']['cm_mag'] - data['HSC-R']['cm_mag']\n",
    "ri = data['HSC-R']['cm_mag'] - data['HSC-I']['cm_mag']\n",
    "\n",
    "plt.figure()\n",
    "# The vmin and vmax control the colorbar range \n",
    "# We're using a smaller point-like marker \".\"\n",
    "# The \"s\" keywork argument controls the marker size\n",
    "plt.scatter(gr, ri, \n",
    "            c=concentration, \n",
    "            vmin=-0.02, vmax=0.2,\n",
    "            marker='.',s=1)\n",
    "# Notice that we can use LaTeX math syntax in the plot labels\n",
    "plt.xlabel('$g - r$')\n",
    "plt.ylabel('$r - i$')\n",
    "plt.colorbar(label='Concentration')"
   ]
  },
  {
   "cell_type": "markdown",
   "metadata": {},
   "source": [
    "Let's separate the stars and galaxies and compare their colors and morphology."
   ]
  },
  {
   "cell_type": "code",
   "execution_count": 17,
   "metadata": {},
   "outputs": [
    {
     "data": {
      "application/vnd.jupyter.widget-view+json": {
       "model_id": "9b109f88cd3a4fbb892018371df3ea59",
       "version_major": 2,
       "version_minor": 0
      },
      "text/plain": [
       "Canvas(toolbar=Toolbar(toolitems=[('Home', 'Reset original view', 'home', 'home'), ('Back', 'Back to previous …"
      ]
     },
     "metadata": {},
     "output_type": "display_data"
    }
   ],
   "source": [
    "ext = (data['HSC-I']['base_ClassificationExtendedness_value'] == 1.)\n",
    "\n",
    "# Single-panel figure\n",
    "#plt.figure()\n",
    "#plt.scatter(gr[ext], ri[ext],\n",
    "#            marker='.', label='Galaxies')\n",
    "#plt.scatter(gr[~ext], ri[~ext],\n",
    "#            marker='.', label='Stars')\n",
    "#plt.legend(loc='upper left')\n",
    "#plt.xlabel('$g - r$')\n",
    "#plt.ylabel('$r - i$')\n",
    "\n",
    "# Two-panel figure\n",
    "fig, ax = plt.subplots(1, 2, figsize=(5, 3))\n",
    "ax[0].scatter(gr[ext], ri[ext],\n",
    "              marker='.', label='Galaxies')\n",
    "ax[0].scatter(gr[~ext], ri[~ext],\n",
    "              marker='.', label='Stars')\n",
    "ax[0].legend(loc='upper left')\n",
    "ax[0].set_xlabel('$g - r$')\n",
    "ax[0].set_ylabel('$r - i$')\n",
    "ax[1].scatter(data['HSC-I']['cm_mag'][ext], \n",
    "              concentration[ext],\n",
    "              marker='.', label='Galaxies')\n",
    "ax[1].scatter(data['HSC-I']['cm_mag'][~ext], \n",
    "              concentration[~ext],\n",
    "              marker='.', label='Stars')\n",
    "ax[1].legend(loc='upper left')\n",
    "ax[1].set_xlabel('$i$')\n",
    "ax[1].set_ylabel('Concentration')\n",
    "ax[1].set_ylim(-0.2, 1.)\n",
    "plt.subplots_adjust(wspace=0.3, left=0.075)"
   ]
  },
  {
   "cell_type": "markdown",
   "metadata": {},
   "source": [
    "## Histogram Example"
   ]
  },
  {
   "cell_type": "markdown",
   "metadata": {},
   "source": [
    "Next we compare the flux distribution of stars and galaxies using histograms."
   ]
  },
  {
   "cell_type": "code",
   "execution_count": 18,
   "metadata": {},
   "outputs": [
    {
     "data": {
      "application/vnd.jupyter.widget-view+json": {
       "model_id": "0a1b2abdaa7d4180b331764d8aa726d2",
       "version_major": 2,
       "version_minor": 0
      },
      "text/plain": [
       "Canvas(toolbar=Toolbar(toolitems=[('Home', 'Reset original view', 'home', 'home'), ('Back', 'Back to previous …"
      ]
     },
     "metadata": {},
     "output_type": "display_data"
    },
    {
     "data": {
      "text/plain": [
       "<matplotlib.legend.Legend at 0x7f62b35ac210>"
      ]
     },
     "execution_count": 18,
     "metadata": {},
     "output_type": "execute_result"
    }
   ],
   "source": [
    "bins = np.arange(16., 30., 0.5)\n",
    "\n",
    "plt.figure()\n",
    "plt.yscale('log')\n",
    "kwargs = {'bins': bins,\n",
    "          'histtype': 'step',\n",
    "          'lw': 2}\n",
    "plt.hist(data['HSC-I']['cm_mag'], **kwargs, label='All')\n",
    "plt.hist(data['HSC-I']['cm_mag'][ext], **kwargs, label='Galaxies')\n",
    "plt.hist(data['HSC-I']['cm_mag'][~ext], **kwargs, label='Stars')\n",
    "plt.xlim(18., 26.)\n",
    "plt.legend(loc='upper left')"
   ]
  },
  {
   "cell_type": "markdown",
   "metadata": {},
   "source": [
    "## Two-dimensional Histograms\n",
    "\n",
    "Two-dimensional histograms are useful as we increase the number of data points to plot. The example below (based on this [demo](https://matplotlib.org/examples/pylab_examples/hist2d_log_demo.html)) shows how to use a logarithmic colorscale. In this example, we have used one of the perceptually uniform [colormaps](https://matplotlib.org/tutorials/colors/colormaps.html?highlight=colormaps) that are more colorblind friendly and convert better to grayscale."
   ]
  },
  {
   "cell_type": "code",
   "execution_count": 19,
   "metadata": {},
   "outputs": [
    {
     "data": {
      "application/vnd.jupyter.widget-view+json": {
       "model_id": "4d337287da7d4a6a94c8b8f770b53e6b",
       "version_major": 2,
       "version_minor": 0
      },
      "text/plain": [
       "Canvas(toolbar=Toolbar(toolitems=[('Home', 'Reset original view', 'home', 'home'), ('Back', 'Back to previous …"
      ]
     },
     "metadata": {},
     "output_type": "display_data"
    },
    {
     "data": {
      "text/plain": [
       "(-0.5, 2.5)"
      ]
     },
     "execution_count": 19,
     "metadata": {},
     "output_type": "execute_result"
    }
   ],
   "source": [
    "plt.figure()\n",
    "plt.hist2d(gr[~ext], ri[~ext], \n",
    "           norm=matplotlib.colors.LogNorm(),\n",
    "           bins=51, cmap='plasma')\n",
    "plt.colorbar(label='Counts')\n",
    "plt.xlabel('$g - r$')\n",
    "plt.ylabel('$r - i$')\n",
    "plt.xlim(-0.5, 2.5)\n",
    "plt.ylim(-0.5, 2.5)"
   ]
  },
  {
   "cell_type": "code",
   "execution_count": 20,
   "metadata": {},
   "outputs": [
    {
     "data": {
      "application/vnd.jupyter.widget-view+json": {
       "model_id": "127edba349b049b4b095315dd26d0f0c",
       "version_major": 2,
       "version_minor": 0
      },
      "text/plain": [
       "Canvas(toolbar=Toolbar(toolitems=[('Home', 'Reset original view', 'home', 'home'), ('Back', 'Back to previous …"
      ]
     },
     "metadata": {},
     "output_type": "display_data"
    },
    {
     "data": {
      "text/plain": [
       "(-1.0, 2.0)"
      ]
     },
     "execution_count": 20,
     "metadata": {},
     "output_type": "execute_result"
    }
   ],
   "source": [
    "plt.figure()\n",
    "plt.hist2d(gr[ext], ri[ext], \n",
    "           norm=matplotlib.colors.LogNorm(),\n",
    "           bins=51, cmap='plasma')\n",
    "plt.colorbar(label='Counts')\n",
    "plt.xlabel('$g - r$')\n",
    "plt.ylabel('$r - i$')\n",
    "plt.xlim(-1.0, 2.5)\n",
    "plt.ylim(-1.0, 2.0)"
   ]
  },
  {
   "cell_type": "markdown",
   "metadata": {},
   "source": [
    "We might want to compare two different distributions, sometimes it is useful to draw two sets of contours instead of a two-dimensional histogram. First define a helper function to draw the contours. (Notice that we apply a Gaussian KDE to the data so that the contours are smooth.)"
   ]
  },
  {
   "cell_type": "code",
   "execution_count": 22,
   "metadata": {},
   "outputs": [],
   "source": [
    "from scipy.stats import kde\n",
    "\n",
    "def contour(ax, x, y, nbins=51, **kwargs):\n",
    "    data = np.vstack([x, y])\n",
    "    k = kde.gaussian_kde(data)\n",
    "    xi, yi = np.mgrid[x.min():x.max():nbins*1j, y.min():y.max():nbins*1j]\n",
    "    zi = k(np.vstack([xi.flatten(), yi.flatten()]))\n",
    "    ax.contour(xi, yi, zi.reshape(xi.shape), **kwargs)"
   ]
  },
  {
   "cell_type": "markdown",
   "metadata": {},
   "source": [
    "Now create the figure and plot."
   ]
  },
  {
   "cell_type": "code",
   "execution_count": 23,
   "metadata": {},
   "outputs": [
    {
     "data": {
      "application/vnd.jupyter.widget-view+json": {
       "model_id": "bf92f34cf7c84271ad3047c9bdd35614",
       "version_major": 2,
       "version_minor": 0
      },
      "text/plain": [
       "Canvas(toolbar=Toolbar(toolitems=[('Home', 'Reset original view', 'home', 'home'), ('Back', 'Back to previous …"
      ]
     },
     "metadata": {},
     "output_type": "display_data"
    },
    {
     "data": {
      "text/plain": [
       "(-0.5, 2.5)"
      ]
     },
     "execution_count": 23,
     "metadata": {},
     "output_type": "execute_result"
    }
   ],
   "source": [
    "fig, ax = plt.subplots(1,1)\n",
    "#contour(ax, gr[ext], ri[ext], cmap='Reds')\n",
    "#contour(ax, gr[~ext], ri[~ext], cmap='Blues')\n",
    "ax.scatter(gr[ext], ri[ext], s=1, edgecolor='none', c='black', alpha=0.5)\n",
    "ax.scatter(gr[~ext], ri[~ext], s=1, edgecolor='none', c='red', alpha=0.5)\n",
    "contour(ax, gr[ext], ri[ext], colors='black')\n",
    "contour(ax, gr[~ext], ri[~ext], colors='red')\n",
    "#ax.legend()\n",
    "ax.set_xlabel('$g - r$')\n",
    "ax.set_ylabel('$r - i$')\n",
    "ax.set_xlim(-0.5, 2.5)\n",
    "ax.set_ylim(-0.5, 2.5)"
   ]
  },
  {
   "cell_type": "markdown",
   "metadata": {},
   "source": [
    "## Wrap-up"
   ]
  },
  {
   "cell_type": "markdown",
   "metadata": {},
   "source": [
    "There is much more to learn about visualization with matplotlib, but that should be enough to get started exploring precursor and simulated Rubin Observatory datasets for this Stack Club course. If you want to see more examples of cool matplotlib figures, check out the [matplotlib image gallery](https://matplotlib.org/gallery/index.html).\n",
    "\n",
    "**Exercise:** Create your own figure to explore this small HSC dataset. For example, try creating a stellar color-magnitude diagram with [error bars](https://matplotlib.org/3.2.1/api/_as_gen/matplotlib.pyplot.errorbar.html) in the pyplot style.\n",
    "\n",
    "Hint: The magnitude uncertainty can be computed as \n",
    "\n",
    "$\\sigma_{\\rm mag} \\approx 2.5 \\log_{10} \\left(1 + \\rm{SNR}^{-1} \\right)$\n",
    "\n",
    "with signal-to-noise evaluated as\n",
    "\n",
    "$\\rm{SNR} = \\frac{\\rm{flux}}{\\sigma_{\\rm flux}}$."
   ]
  },
  {
   "cell_type": "code",
   "execution_count": 24,
   "metadata": {},
   "outputs": [],
   "source": [
    "def magnitudeError(flux, flux_err):\n",
    "    snr = data['HSC-I']['base_PsfFlux_instFlux'] / data['HSC-I']['base_PsfFlux_instFluxErr']\n",
    "    mag_err = 2.5 * np.log10(1. + snr**-1)\n",
    "    return mag_err"
   ]
  },
  {
   "cell_type": "code",
   "execution_count": 25,
   "metadata": {},
   "outputs": [],
   "source": [
    "mag_err= magnitudeError(data['HSC-I']['base_PsfFlux_instFlux'], data['HSC-I']['base_PsfFlux_instFluxErr'])\n",
    "\n",
    "gr_err = magnitudeError(data['HSC-G']['base_PsfFlux_instFlux'], data['HSC-G']['base_PsfFlux_instFluxErr'])+ magnitudeError(data['HSC-R']['base_PsfFlux_instFlux'], data['HSC-R']['base_PsfFlux_instFluxErr'])"
   ]
  },
  {
   "cell_type": "code",
   "execution_count": 26,
   "metadata": {},
   "outputs": [
    {
     "data": {
      "application/vnd.jupyter.widget-view+json": {
       "model_id": "e23bf1d31dfa43f096b19df51670b99b",
       "version_major": 2,
       "version_minor": 0
      },
      "text/plain": [
       "Canvas(toolbar=Toolbar(toolitems=[('Home', 'Reset original view', 'home', 'home'), ('Back', 'Back to previous …"
      ]
     },
     "metadata": {},
     "output_type": "display_data"
    },
    {
     "data": {
      "text/plain": [
       "Text(0.5, 0, '$g - r$')"
      ]
     },
     "execution_count": 26,
     "metadata": {},
     "output_type": "execute_result"
    }
   ],
   "source": [
    "ext = (data['HSC-I']['base_ClassificationExtendedness_value'] == 1.)\n",
    "mag = data['HSC-I']['psf_mag']\n",
    "gr = data['HSC-G']['psf_mag'] - data['HSC-R']['psf_mag']\n",
    "ri = data['HSC-R']['psf_mag'] - data['HSC-I']['psf_mag']\n",
    "\n",
    "plt.figure()\n",
    "# The vmin and vmax control the colorbar range \n",
    "# We're using a smaller point-like marker \".\"\n",
    "# The \"s\" keywork argument controls the marker size\n",
    "#plt.scatter(-gr, mag, marker='.',s=1)\n",
    "#plt.scatter(-gr, mag, \n",
    "#            c=ri, \n",
    "#            vmin=-0.02, vmax=0.2,\n",
    "#            marker='.',s=1)\n",
    "plt.errorbar(gr[~ext], mag[~ext], xerr=gr_err[~ext], yerr=mag_err[~ext], fmt='.k', alpha=0.1)\n",
    "# Notice that we can use LaTeX math syntax in the plot labels\n",
    "plt.ylabel('$psf_{mag}$')\n",
    "plt.xlabel('$g - r$')\n",
    "#plt.colorbar(label='$r - i$')"
   ]
  },
  {
   "cell_type": "code",
   "execution_count": 27,
   "metadata": {},
   "outputs": [
    {
     "data": {
      "application/vnd.jupyter.widget-view+json": {
       "model_id": "7414188fbcc44889baca61de429e138a",
       "version_major": 2,
       "version_minor": 0
      },
      "text/plain": [
       "Canvas(toolbar=Toolbar(toolitems=[('Home', 'Reset original view', 'home', 'home'), ('Back', 'Back to previous …"
      ]
     },
     "metadata": {},
     "output_type": "display_data"
    },
    {
     "data": {
      "text/plain": [
       "Text(0.5, 0, '$g - r$')"
      ]
     },
     "execution_count": 27,
     "metadata": {},
     "output_type": "execute_result"
    }
   ],
   "source": [
    "plt.figure()\n",
    "# The vmin and vmax control the colorbar range \n",
    "# We're using a smaller point-like marker \".\"\n",
    "# The \"s\" keywork argument controls the marker size\n",
    "#plt.scatter(-gr, mag, marker='.',s=1)\n",
    "#plt.scatter(-gr, mag, \n",
    "#            c=ri, \n",
    "#            vmin=-0.02, vmax=0.2,\n",
    "#            marker='.',s=1)\n",
    "plt.errorbar(gr[ext], mag[ext], xerr=gr_err[ext], yerr=mag_err[ext], fmt='.k', alpha=0.1)\n",
    "# Notice that we can use LaTeX math syntax in the plot labels\n",
    "plt.ylabel('$psf_{mag}$')\n",
    "plt.xlabel('$g - r$')\n",
    "#plt.colorbar(label='$r - i$')"
   ]
  },
  {
   "cell_type": "code",
   "execution_count": null,
   "metadata": {},
   "outputs": [],
   "source": []
  }
 ],
 "metadata": {
  "kernelspec": {
   "display_name": "LSST",
   "language": "python",
   "name": "lsst"
  },
  "language_info": {
   "codemirror_mode": {
    "name": "ipython",
    "version": 3
   },
   "file_extension": ".py",
   "mimetype": "text/x-python",
   "name": "python",
   "nbconvert_exporter": "python",
   "pygments_lexer": "ipython3",
   "version": "3.7.6"
  },
  "toc-autonumbering": false,
  "toc-showcode": false,
  "toc-showmarkdowntxt": false,
  "toc-showtags": false
 },
 "nbformat": 4,
 "nbformat_minor": 4
}
