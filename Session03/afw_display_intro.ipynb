{
 "cells": [
  {
   "cell_type": "markdown",
   "metadata": {},
   "source": [
    "# Session 03: Introduction to AFW Display\n",
    "\n",
    "<br>Owner(s): **Keith Bechtol** ([@bechtol](https://github.com/LSSTScienceCollaborations/StackClub/issues/new?body=@bechtol))\n",
    "<br>Last Verified to Run: **2020-05-28**\n",
    "<br>Verified Stack Release: **w_2020_21**\n",
    "\n",
    "In [Session 02](https://github.com/LSSTScienceCollaborations/StackClubCourse/blob/master/Session02/IntroToDataProductsAndTasks.ipynb), we learned how to access pixel-level astronomical images using the Stack, including the mask plane, variance plane, background, and additional associated information such as the WCS solution. We also briefly introduced [lsst.afw.display](https://pipelines.lsst.io/modules/lsst.afw.display/index.html) library for image visualization.\n",
    "\n",
    "In this notebook, we \n",
    "\n",
    "1. point out additional image display features of `lsst.awf.display`,\n",
    "2. interactively explore images with [Firefly](http://web.ipac.caltech.edu/staff/shupe/display_firefly),\n",
    "3. and show how to create a color postage stamp. \n",
    "\n",
    "This tutorial is largely based on the [tutorial](https://pipelines.lsst.io/getting-started/display.html) on `pipelines.lsst.io`, the SQuARE Firefly [notebook](https://github.com/lsst-sqre/notebook-demo/blob/master/Firefly.ipynb), as well as the [demo](https://github.com/RobertLuptonTheGood/notebooks/blob/master/Demos/Colour%20Images.ipynb) by Robert Lupton. It is also recommended to check out the [AFW_Display_Demo.ipynb](https://github.com/LSSTScienceCollaborations/StackClub/blob/master/Visualization/AFW_Display_Demo.ipynb) Stack Club notebook by Brant Robertson. We combine lessons from these sources in an attempt to provide a coherent view of the image display capabilities in the Stack."
   ]
  },
  {
   "cell_type": "code",
   "execution_count": null,
   "metadata": {},
   "outputs": [],
   "source": [
    "# What version of the Stack am I using?\n",
    "! echo $HOSTNAME\n",
    "! eups list -s lsst_distrib"
   ]
  },
  {
   "cell_type": "markdown",
   "metadata": {},
   "source": [
    "## Additional Features of AFW Display"
   ]
  },
  {
   "cell_type": "markdown",
   "metadata": {},
   "source": [
    "Begin by accessing the same exposure and source catalog from Session 02."
   ]
  },
  {
   "cell_type": "code",
   "execution_count": null,
   "metadata": {},
   "outputs": [],
   "source": [
    "REPO = '/datasets/hsc/repo/rerun/RC/w_2020_19/DM-24822'  \n",
    "import lsst.daf.persistence as dafPersist\n",
    "butler = dafPersist.Butler(REPO)"
   ]
  },
  {
   "cell_type": "code",
   "execution_count": null,
   "metadata": {},
   "outputs": [],
   "source": [
    "VISIT = 34464\n",
    "CCD = 81\n",
    "exposure = butler.get('calexp', visit=int(VISIT), ccd=CCD)\n",
    "src = butler.get('src', visit=int(VISIT), ccd=CCD)"
   ]
  },
  {
   "cell_type": "markdown",
   "metadata": {},
   "source": [
    "But wait - how did we know what data existed in the repo? We can use `queryMetadata` to find out what combination of visits and ccds exist as data ids in the repo."
   ]
  },
  {
   "cell_type": "code",
   "execution_count": null,
   "metadata": {},
   "outputs": [],
   "source": [
    "# Example query\n",
    "#butler.queryMetadata('calexp', ['visit', 'ccd'], dataId={'filter': 'HSC-R'})"
   ]
  },
  {
   "cell_type": "code",
   "execution_count": null,
   "metadata": {},
   "outputs": [],
   "source": [
    "# Enable interactive widgets\n",
    "%matplotlib widget"
   ]
  },
  {
   "cell_type": "code",
   "execution_count": null,
   "metadata": {},
   "outputs": [],
   "source": [
    "import lsst.afw.display as afwDisplay"
   ]
  },
  {
   "cell_type": "markdown",
   "metadata": {},
   "source": [
    "We can choose between multiple possible backends for afw_display, including matplotlib, ds9, and Firefly. Let's start with matplotlib. "
   ]
  },
  {
   "cell_type": "code",
   "execution_count": null,
   "metadata": {},
   "outputs": [],
   "source": [
    "afwDisplay.setDefaultBackend('matplotlib')"
   ]
  },
  {
   "cell_type": "code",
   "execution_count": null,
   "metadata": {},
   "outputs": [],
   "source": [
    "display = afwDisplay.Display(frame=0)\n",
    "display.scale(\"linear\", \"zscale\")\n",
    "#display.scale(\"asinh\", \"zscale\")\n",
    "#display.setMaskTransparency(60) \n",
    "display.mtv(exposure)"
   ]
  },
  {
   "cell_type": "markdown",
   "metadata": {},
   "source": [
    "We can overlay a scatter plot on the image to indicate the positions of detected sources."
   ]
  },
  {
   "cell_type": "code",
   "execution_count": null,
   "metadata": {},
   "outputs": [],
   "source": [
    "with display.Buffering():\n",
    "    for s in src:\n",
    "        display.dot(\"o\", s.getX(), s.getY(), size=10, ctype='orange')"
   ]
  },
  {
   "cell_type": "markdown",
   "metadata": {},
   "source": [
    "Erase the markers."
   ]
  },
  {
   "cell_type": "code",
   "execution_count": null,
   "metadata": {},
   "outputs": [],
   "source": [
    "#display.erase()"
   ]
  },
  {
   "cell_type": "markdown",
   "metadata": {},
   "source": [
    "If we zoom in on a bright star in the image above, we can see a colorful set of masks overlaid on the image. To interpet these colors, we can check the mask plane definitions."
   ]
  },
  {
   "cell_type": "code",
   "execution_count": null,
   "metadata": {},
   "outputs": [],
   "source": [
    "mask = exposure.getMask()\n",
    "for mask_name, mask_bit in mask.getMaskPlaneDict().items():\n",
    "    print('{:20}: {}'.format(mask_name, display.getMaskPlaneColor(mask_name)))"
   ]
  },
  {
   "cell_type": "markdown",
   "metadata": {},
   "source": [
    "In order to create a multipanel figure in matplotlib, or put a display into a particular `Axes`, one can use the `sca` (set current Axes) command. The following cell provides an example, and also shows some of the optional arguments that can be passed to control the appearance of the display."
   ]
  },
  {
   "cell_type": "code",
   "execution_count": null,
   "metadata": {},
   "outputs": [],
   "source": [
    "import matplotlib.pyplot as plt\n",
    "fig, ax = plt.subplots(1, 3, figsize=(9, 4))\n",
    "display = []\n",
    "plt.sca(ax[0])\n",
    "display.append(afwDisplay.Display(frame=fig))\n",
    "display[0].scale(\"linear\", \"zscale\")\n",
    "display[0].mtv(exposure)\n",
    "plt.sca(ax[1])\n",
    "display.append(afwDisplay.Display(frame=fig))\n",
    "display[1].scale(\"asinh\", \"zscale\")\n",
    "display[1].mtv(exposure)\n",
    "plt.sca(ax[2])\n",
    "display.append(afwDisplay.Display(frame=fig))\n",
    "display[2].scale(\"linear\", min=0, max=10)\n",
    "display[2].mtv(exposure)"
   ]
  },
  {
   "cell_type": "markdown",
   "metadata": {},
   "source": [
    "## Interactive Visualization with Firefly"
   ]
  },
  {
   "cell_type": "markdown",
   "metadata": {},
   "source": [
    "To emphasize the concept that afw_display can work with different backends, we now create an interactive visualization with the same data using Firefly."
   ]
  },
  {
   "cell_type": "code",
   "execution_count": null,
   "metadata": {},
   "outputs": [],
   "source": [
    "display = afwDisplay.Display(frame=1, backend='firefly')"
   ]
  },
  {
   "cell_type": "code",
   "execution_count": null,
   "metadata": {},
   "outputs": [],
   "source": [
    "display.mtv(exposure)\n",
    "\n",
    "# We could overlay points, but instead, let's show how to do linked brushing\n",
    "#with display.Buffering():\n",
    "#    for record in src:\n",
    "#        display.dot('o', record.getX(), record.getY(), size=20, ctype='orange')"
   ]
  },
  {
   "cell_type": "markdown",
   "metadata": {},
   "source": [
    "Upload a table to allow linking between image, table, and plots."
   ]
  },
  {
   "cell_type": "code",
   "execution_count": null,
   "metadata": {},
   "outputs": [],
   "source": [
    "fc = display.getClient()\n",
    "import firefly_client.plot as ffplt\n",
    "ffplt.use_client(fc)\n",
    "tbl_id = ffplt.upload_table(src, title='Source Catalog')"
   ]
  },
  {
   "cell_type": "markdown",
   "metadata": {},
   "source": [
    "Create an additional linked scatter plot."
   ]
  },
  {
   "cell_type": "code",
   "execution_count": null,
   "metadata": {},
   "outputs": [],
   "source": [
    "ffplt.scatter(x_col='base_CircularApertureFlux_12_0_instFlux/base_GaussianFlux_instFlux',\n",
    "              y_col='log10(base_CircularApertureFlux_12_0_instFlux)',\n",
    "              size=4,\n",
    "              color='blue',\n",
    "              title='test ap flux/model mag vs. log(ap flux)',\n",
    "              xlabel='Model',\n",
    "              ylabel='Ap/Model')"
   ]
  },
  {
   "cell_type": "markdown",
   "metadata": {},
   "source": [
    "One can also access the url to view the Firefly display in a web browser. This step should be done before creating the display (i.e., one would run the cell below before the preceeding cells). "
   ]
  },
  {
   "cell_type": "code",
   "execution_count": null,
   "metadata": {},
   "outputs": [],
   "source": [
    "#display.getClient().get_firefly_url()"
   ]
  },
  {
   "cell_type": "markdown",
   "metadata": {},
   "source": [
    "## Color Postage Stamps"
   ]
  },
  {
   "cell_type": "markdown",
   "metadata": {},
   "source": [
    "Next we make a color postage stamp. Robert Lupton picked out a dramatic lensed arc for this example."
   ]
  },
  {
   "cell_type": "code",
   "execution_count": null,
   "metadata": {},
   "outputs": [],
   "source": [
    "import lsst.afw.display.rgb as afwRgb\n",
    "import lsst.geom\n",
    "import lsst.afw.image as afwImage"
   ]
  },
  {
   "cell_type": "code",
   "execution_count": null,
   "metadata": {},
   "outputs": [],
   "source": [
    "import matplotlib.pyplot as plt\n",
    "plt.rcParams['figure.figsize'] = (8, 5)"
   ]
  },
  {
   "cell_type": "code",
   "execution_count": null,
   "metadata": {},
   "outputs": [],
   "source": [
    "data_path = \"/project/rhl/Data/hsc-v13_0\"\n",
    "\n",
    "butler = dafPersist.Butler(data_path)\n",
    "skymap = butler.get(\"deepCoadd_skyMap\")"
   ]
  },
  {
   "cell_type": "markdown",
   "metadata": {},
   "source": [
    "Start from a known coordinate of interest."
   ]
  },
  {
   "cell_type": "code",
   "execution_count": null,
   "metadata": {},
   "outputs": [],
   "source": [
    "ra, dec, name = 215.9747, -0.4344, \"Lens\"\n",
    "\n",
    "ra_dec = lsst.geom.SpherePoint(ra*lsst.geom.degrees, dec*lsst.geom.degrees)\n",
    "\n",
    "filters = \"grizy\"  # filters to process -- we choose our bands when we set B, R, G = ...\n",
    "\n",
    "cutout_size = 500   # pixels"
   ]
  },
  {
   "cell_type": "markdown",
   "metadata": {},
   "source": [
    "Locate the tract and patch that contains that coordinate."
   ]
  },
  {
   "cell_type": "code",
   "execution_count": null,
   "metadata": {},
   "outputs": [],
   "source": [
    "for i, tp in enumerate(skymap.findTractPatchList([ra_dec])):\n",
    "    tractInfo, patchInfo = tp\n",
    "    tract = tractInfo.getId()\n",
    "    patch = \"%d,%d\" % patchInfo[0].getIndex()\n",
    "    print(i, tract, patch)"
   ]
  },
  {
   "cell_type": "markdown",
   "metadata": {},
   "source": [
    "Obtain the postage stamp from the deep coadd image in each band."
   ]
  },
  {
   "cell_type": "code",
   "execution_count": null,
   "metadata": {},
   "outputs": [],
   "source": [
    "images = {}\n",
    "cutout_size = lsst.geom.ExtentI(300, 300)\n",
    "\n",
    "for f in filters:\n",
    "    filter_name = \"HSC-%s\" % f.upper()\n",
    "    wcs = butler.get(\"deepCoadd_calexp_wcs\", immediate=True,\n",
    "                    tract=tract, patch=patch, filter=filter_name)\n",
    "    xy = lsst.geom.PointI(wcs.skyToPixel(ra_dec))\n",
    "\n",
    "    bbox = lsst.geom.BoxI(xy - cutout_size//2, cutout_size)\n",
    "\n",
    "    images[f] = butler.get(\"deepCoadd_calexp_sub\", bbox=bbox, immediate=True,\n",
    "                            tract=tract, patch=patch, filter=filter_name).getMaskedImage()"
   ]
  },
  {
   "cell_type": "markdown",
   "metadata": {},
   "source": [
    "Three different combinations of bands used as input to the Red-Green-Blue color image."
   ]
  },
  {
   "cell_type": "code",
   "execution_count": null,
   "metadata": {},
   "outputs": [],
   "source": [
    "rgbFileFmt = \"%s-%%s.png\" % name if False else None\n",
    "if not False:\n",
    "    min = dict(gri=0.01, riz=0.01, izy=0.01)\n",
    "    max = dict(gri=0.20, riz=0.20, izy=0.25)\n",
    "else:\n",
    "    min = dict(gri=0.01, riz=0.01, izy=0.05)\n",
    "    max = dict(gri=0.20, riz=0.40, izy=0.50)\n",
    "\n",
    "Q = 10\n",
    "\n",
    "#plt.close('all')\n",
    "for bands in [\"gri\", \"riz\", \"izy\"]:\n",
    "    plt.figure()\n",
    "    B, G, R = bands\n",
    "    rgb = afwRgb.makeRGB(images[R], images[G], images[B],\n",
    "                         min[bands], max[bands] - min[bands], Q,\n",
    "                         #saturatedBorderWidth=1, saturatedPixelValue=10\n",
    "                         )\n",
    "    \n",
    "    afwRgb.displayRGB(rgb)\n",
    "    #plt.title(f\"{ra_dec} {bands}\")\n",
    "    \n",
    "    # Optionally, write a file\n",
    "    #if rgbFileFmt:\n",
    "    #    afwRgb.writeRGB(rgbFileFmt % bands, rgb)"
   ]
  },
  {
   "cell_type": "code",
   "execution_count": null,
   "metadata": {},
   "outputs": [],
   "source": []
  }
 ],
 "metadata": {
  "kernelspec": {
   "display_name": "LSST",
   "language": "python",
   "name": "lsst"
  },
  "language_info": {
   "codemirror_mode": {
    "name": "ipython",
    "version": 3
   },
   "file_extension": ".py",
   "mimetype": "text/x-python",
   "name": "python",
   "nbconvert_exporter": "python",
   "pygments_lexer": "ipython3",
   "version": "3.7.6"
  }
 },
 "nbformat": 4,
 "nbformat_minor": 4
}
