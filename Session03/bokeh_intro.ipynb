{
 "cells": [
  {
   "cell_type": "markdown",
   "metadata": {},
   "source": [
    "# Session 03: Intro to Bokeh Plotting on the Science Platform\n",
    "\n",
    "<br>Owner(s): **Keith Bechtol** ([@bechtol](https://github.com/LSSTScienceCollaborations/StackClub/issues/new?body=@bechtol))\n",
    "<br>Last Verified to Run: **2020-05-19**\n",
    "<br>Verified Stack Release: **w_2020_19**\n",
    "\n",
    "This notebook introduces the concept of linked visualizations. We begin with a few simple examples using abstract data, largely based on the Bokeh documentation:\n",
    "* https://docs.bokeh.org/en/latest/docs/user_guide/interaction/linking.html\n",
    "* https://docs.bokeh.org/en/latest/docs/gallery.html#notebook-examples\n",
    "* https://docs.bokeh.org/en/latest/docs/user_guide/plotting.html\n",
    "\n",
    "In the second part, we apply the linked brushing technique to a coadd catalog from HSC."
   ]
  },
  {
   "cell_type": "code",
   "execution_count": null,
   "metadata": {},
   "outputs": [],
   "source": [
    "## Abstract Examples of Linking"
   ]
  },
  {
   "cell_type": "code",
   "execution_count": null,
   "metadata": {},
   "outputs": [],
   "source": [
    "from bokeh.io import output_notebook, show \n",
    "from bokeh.layouts import gridplot\n",
    "from bokeh.plotting import figure\n",
    "\n",
    "# Need this line to display bokeh plots inline in the notebook\n",
    "output_notebook()"
   ]
  },
  {
   "cell_type": "code",
   "execution_count": null,
   "metadata": {},
   "outputs": [],
   "source": [
    "import numpy as np\n",
    "\n",
    "x = np.arange(11)\n",
    "y0 = x\n",
    "y1 = 10 - x\n",
    "y2 = np.fabs(x - 5)\n",
    "\n",
    "# create a new plot\n",
    "s1 = figure(plot_width=250, plot_height=250, title=None)\n",
    "s1.circle(x, y0, size=10, color=\"navy\", alpha=0.5)\n",
    "\n",
    "# create a new plot and share both ranges\n",
    "s2 = figure(plot_width=250, plot_height=250, x_range=s1.x_range, y_range=s1.y_range, title=None)\n",
    "s2.triangle(x, y1, size=10, color=\"firebrick\", alpha=0.5)\n",
    "\n",
    "# create a new plot and share only one range\n",
    "s3 = figure(plot_width=250, plot_height=250, x_range=s1.x_range, title=None)\n",
    "s3.square(x, y2, size=10, color=\"olive\", alpha=0.5)\n",
    "\n",
    "p = gridplot([[s1, s2, s3]], toolbar_location=None)\n",
    "\n",
    "# show the results\n",
    "show(p)"
   ]
  },
  {
   "cell_type": "code",
   "execution_count": null,
   "metadata": {},
   "outputs": [],
   "source": [
    "from bokeh.models import ColumnDataSource\n",
    "\n",
    "x = np.arange(-20, 21)\n",
    "y0 = np.fabs(x)\n",
    "y1 = x**2\n",
    "\n",
    "# create a column data source for the plots to share\n",
    "source = ColumnDataSource(data=dict(x=x, y0=y0, y1=y1))\n",
    "\n",
    "TOOLS = \"box_zoom,box_select,lasso_select,reset\"\n",
    "\n",
    "# create a new plot and add a renderer\n",
    "left = figure(tools=TOOLS, plot_width=300, plot_height=300, title=None)\n",
    "left.circle('x', 'y0', source=source)\n",
    "\n",
    "# create another new plot and add a renderer\n",
    "right = figure(tools=TOOLS, plot_width=300, plot_height=300, title=None)\n",
    "right.circle('x', 'y1', source=source)\n",
    "\n",
    "p = gridplot([[left, right]])\n",
    "\n",
    "show(p)"
   ]
  },
  {
   "cell_type": "code",
   "execution_count": null,
   "metadata": {},
   "outputs": [],
   "source": [
    "from bokeh.layouts import column\n",
    "from bokeh.models import Slider\n",
    "from bokeh.plotting import figure, show\n",
    "\n",
    "plot = figure(plot_width=400, plot_height=400)\n",
    "r = plot.circle([1,2,3,4,5,], [3,2,5,6,4], radius=0.2, alpha=0.5)\n",
    "\n",
    "slider = Slider(start=0.05, end=1, step=0.01, value=0.2)\n",
    "slider.js_link('value', r.glyph, 'radius')\n",
    "\n",
    "show(column(plot, slider))"
   ]
  },
  {
   "cell_type": "markdown",
   "metadata": {},
   "source": [
    "## Brushing and Linking Example with HSC Data"
   ]
  },
  {
   "cell_type": "markdown",
   "metadata": {},
   "source": [
    "The cell below takes about a minute to run.\n",
    "\n",
    "Let's extend the ideas above with an application to astronomical data. We'll use the same HSC coadd catalog from the intro to matplotlib notebook."
   ]
  },
  {
   "cell_type": "code",
   "execution_count": null,
   "metadata": {},
   "outputs": [],
   "source": [
    "%%time\n",
    "\n",
    "import utils\n",
    "data = utils.getData()"
   ]
  },
  {
   "cell_type": "markdown",
   "metadata": {},
   "source": [
    "Define a few variables for plotting."
   ]
  },
  {
   "cell_type": "code",
   "execution_count": null,
   "metadata": {},
   "outputs": [],
   "source": [
    "# Variables to plot\n",
    "concentration = data['HSC-I']['psf_mag'] - data['HSC-I']['cm_mag']\n",
    "gr = data['HSC-G']['cm_mag'] - data['HSC-R']['cm_mag']\n",
    "ri = data['HSC-R']['cm_mag'] - data['HSC-I']['cm_mag']\n",
    "i = data['HSC-I']['cm_mag']"
   ]
  },
  {
   "cell_type": "markdown",
   "metadata": {},
   "source": [
    "Now create the two-panel figure with brushing and linking. We pass our variables into the `ColumnDataSource` object, and link the two panels by pointing both to same source.\n",
    "\n",
    "**Exercise:** Use the selection tools to investigate different source populations according to their morphology and colors."
   ]
  },
  {
   "cell_type": "code",
   "execution_count": null,
   "metadata": {},
   "outputs": [],
   "source": [
    "source = ColumnDataSource(data=dict(c=concentration, gr=gr, ri=ri, i=i))\n",
    "\n",
    "TOOLS = \"box_zoom,box_select,lasso_select,reset\"\n",
    "\n",
    "# More attractive colors\n",
    "kwargs = {'selection_fill_color':'steelblue', \n",
    "          'selection_line_color': 'steelblue',\n",
    "          'nonselection_fill_color': 'silver', \n",
    "          'nonselection_line_color': 'silver'}\n",
    "\n",
    "# Flux-Concentration\n",
    "left = figure(tools=TOOLS, plot_width=300, plot_height=300, title=None)\n",
    "left.circle('i', 'c', source=source, **kwargs)\n",
    "\n",
    "# Color-color\n",
    "right = figure(tools=TOOLS, plot_width=300, plot_height=300, title=None)\n",
    "right.circle('gr', 'ri', source=source, **kwargs)\n",
    "\n",
    "p = gridplot([[left, right]])\n",
    "\n",
    "show(p)"
   ]
  },
  {
   "cell_type": "markdown",
   "metadata": {},
   "source": [
    "To see more examples of interactive plotting with Bokeh, HoloViews, and Datashader see the following Stack Club [notebook](https://github.com/LSSTScienceCollaborations/StackClub/blob/master/Visualization/bokeh_holoviews_datashader.ipynb). "
   ]
  },
  {
   "cell_type": "code",
   "execution_count": null,
   "metadata": {},
   "outputs": [],
   "source": []
  }
 ],
 "metadata": {
  "kernelspec": {
   "display_name": "LSST",
   "language": "python",
   "name": "lsst"
  },
  "language_info": {
   "codemirror_mode": {
    "name": "ipython",
    "version": 3
   },
   "file_extension": ".py",
   "mimetype": "text/x-python",
   "name": "python",
   "nbconvert_exporter": "python",
   "pygments_lexer": "ipython3",
   "version": "3.7.6"
  }
 },
 "nbformat": 4,
 "nbformat_minor": 4
}
