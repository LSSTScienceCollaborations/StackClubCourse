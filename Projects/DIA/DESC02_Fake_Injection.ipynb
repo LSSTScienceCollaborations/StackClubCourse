{
 "cells": [
  {
   "cell_type": "markdown",
   "metadata": {},
   "source": [
    "# Fake Injection\n",
    "\n",
    "Author: Shu Liu\n",
    "Last Edited Date: 05/05/2020\n",
    "\n",
    "## Abstract\n",
    "This tutorial illustrates how to inject fake psf to a `calexp` image. The injection method is from: https://github.com/lsst/pipe_tasks/blob/master/python/lsst/pipe/tasks/insertFakes.py#L456"
   ]
  },
  {
   "cell_type": "code",
   "execution_count": 1,
   "metadata": {},
   "outputs": [],
   "source": [
    "from lsst.daf.persistence import Butler\n",
    "import lsst.geom as geom\n",
    "import lsst.afw.image as afwImage"
   ]
  },
  {
   "cell_type": "code",
   "execution_count": 2,
   "metadata": {},
   "outputs": [],
   "source": [
    "# Setup data id\n",
    "tract, patch, filt = 4639, '0,0', 'r'\n",
    "visit, detector = 181868, 57\n",
    "calexp_id = {'visit': visit, 'detector': detector, 'filter': filt}\n",
    "\n",
    "# Remote calexp information\n",
    "calexp_repo = '/global/u1/s/shl159/GitHub/fake_data'\n",
    "\n",
    "# calexp butler, calexp photoCalib\n",
    "calexp_butler = Butler(calexp_repo)\n",
    "calexp_photoCalib = calexp_butler.get('calexp_photoCalib',  calexp_id)"
   ]
  },
  {
   "cell_type": "code",
   "execution_count": 3,
   "metadata": {},
   "outputs": [],
   "source": [
    "# Get calexp exposure from remote\n",
    "calexp_exposure = calexp_butler.get('calexp', dataId=calexp_id)"
   ]
  },
  {
   "cell_type": "code",
   "execution_count": 4,
   "metadata": {},
   "outputs": [],
   "source": [
    "# This is the function we use to inject fake psfs to an exposure.\n",
    "\n",
    "def inject_stars(exposure, photoCalib, x, y, magVar):\n",
    "    exposure.mask.addMaskPlane(\"FAKE\")\n",
    "    bitmask = exposure.mask.getPlaneBitMask(\"FAKE\")\n",
    "\n",
    "    xy = geom.Point2D(x, y)\n",
    "    psf = exposure.getPsf()\n",
    "\n",
    "    starIm = psf.computeImage(xy)\n",
    "    # This is the default value in 'mkFakeStars'\n",
    "    # https://github.com/lsst/pipe_tasks/blob/master/python/lsst/pipe/tasks/insertFakes.py#L458\n",
    "    calibFluxRadius = 12\n",
    "    correctedFlux = psf.computeApertureFlux(calibFluxRadius, xy)\n",
    "    starIm /= correctedFlux\n",
    "    flux = photoCalib.magnitudeToInstFlux(magVar, xy)\n",
    "    starIm *= flux\n",
    "    \n",
    "    fakeImage = starIm.convertF()\n",
    "    \n",
    "    imageBBox = exposure.getBBox()\n",
    "    imageMI = exposure.maskedImage\n",
    "    \n",
    "    interpFakeImage = fakeImage\n",
    "    interpFakeImBBox = fakeImage.getBBox()\n",
    "    interpFakeImBBox.clip(imageBBox)\n",
    "    imageMIView = imageMI.Factory(imageMI, interpFakeImBBox)\n",
    "    \n",
    "    if interpFakeImBBox.getArea() > 0:\n",
    "        clippedFakeImage = interpFakeImage.Factory(interpFakeImage, interpFakeImBBox)\n",
    "        clippedFakeImageMI = afwImage.MaskedImageF(clippedFakeImage)\n",
    "        clippedFakeImageMI.mask.set(bitmask)\n",
    "        imageMIView += clippedFakeImageMI\n"
   ]
  },
  {
   "cell_type": "code",
   "execution_count": null,
   "metadata": {},
   "outputs": [],
   "source": []
  },
  {
   "cell_type": "code",
   "execution_count": 5,
   "metadata": {},
   "outputs": [],
   "source": [
    "magVar = 20\n",
    "for x in range(1000, 3000, 400):\n",
    "    for y in range(1000, 3000, 400):\n",
    "        inject_stars(calexp_exposure, calexp_photoCalib, x, y, magVar)\n"
   ]
  },
  {
   "cell_type": "code",
   "execution_count": 6,
   "metadata": {},
   "outputs": [],
   "source": [
    "# Here we put the fake calexp to the calexp_repo\n",
    "calexp_butler.put(calexp_exposure, 'calexp', dataId=calexp_id)"
   ]
  },
  {
   "cell_type": "code",
   "execution_count": null,
   "metadata": {},
   "outputs": [],
   "source": [
    "# We can also directly save the image to disc for quick check.\n",
    "# calexp_exposure.writeFits('calexp_mag20.fits')"
   ]
  },
  {
   "cell_type": "code",
   "execution_count": null,
   "metadata": {},
   "outputs": [],
   "source": []
  },
  {
   "cell_type": "code",
   "execution_count": null,
   "metadata": {},
   "outputs": [],
   "source": []
  },
  {
   "cell_type": "code",
   "execution_count": null,
   "metadata": {},
   "outputs": [],
   "source": []
  }
 ],
 "metadata": {
  "kernelspec": {
   "display_name": "desc-dia",
   "language": "python",
   "name": "desc-dia"
  },
  "language_info": {
   "codemirror_mode": {
    "name": "ipython",
    "version": 3
   },
   "file_extension": ".py",
   "mimetype": "text/x-python",
   "name": "python",
   "nbconvert_exporter": "python",
   "pygments_lexer": "ipython3",
   "version": "3.7.2"
  }
 },
 "nbformat": 4,
 "nbformat_minor": 4
}
