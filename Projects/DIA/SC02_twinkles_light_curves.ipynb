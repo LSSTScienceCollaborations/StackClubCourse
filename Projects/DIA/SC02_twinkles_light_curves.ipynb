{
 "cells": [
  {
   "cell_type": "markdown",
   "metadata": {},
   "source": [
    "# Generating Light Curves from Strongly Lensed Systems in Twinkles data\n",
    "\n",
    "<br>Owner(s): **Bryce Kalmbach** ([@jbkalmbach](https://github.com/LSSTScienceCollaborations/StackClub/issues/new?body=@jbkalmbach))\n",
    "<br>Last Verified to Run: **2019-08-09**\n",
    "<br>Verified Stack Release: **v18.0, w_2019_31**\n",
    "\n",
    "This notebook shows how to use the truth information for the Twinkles dataset to find simulated strongly lensed AGN systems. It will then demonstrate how to match these to `src` catalogs from the butler. Using the matched catalogs across a series of visits we will then create light curves.\n",
    "\n",
    "### Learning Objectives:\n",
    "\n",
    "After working through this tutorial you should be able to: \n",
    "1. Find simulated strongly lensed systems in Twinkles data;\n",
    "2. Match the truth catalogs to the `src` catalogs;\n",
    "3. Generate light curves for observations from a sequence of visits.\n",
    "\n",
    "This notebook uses methods from [A Guided Tour of LSST Calexps](../Basics/Calexp_guided_tour.ipynb) to load calexps and display postage stamps.\n",
    "\n",
    "### Logistics\n",
    "This notebook is intended to be runnable on `lsst-lsp-stable.ncsa.illinois.edu` from a local git clone of https://github.com/LSSTScienceCollaborations/StackClub.\n",
    "\n",
    "## Set-up"
   ]
  },
  {
   "cell_type": "code",
   "execution_count": null,
   "metadata": {},
   "outputs": [],
   "source": [
    "import pandas as pd\n",
    "from matplotlib import pyplot as plt\n",
    "\n",
    "import lsst.afw.display as afw_display\n",
    "from lsst.daf.persistence import Butler\n",
    "\n",
    "from lsst.geom import SpherePoint, Angle, degrees\n",
    "import lsst.geom as geom\n",
    "\n",
    "from astropy.coordinates import SkyCoord\n",
    "from astropy import units as u\n",
    "\n",
    "%matplotlib inline"
   ]
  },
  {
   "cell_type": "markdown",
   "metadata": {},
   "source": [
    "## Find Twinkles Lensed AGN\n",
    "\n",
    "We have saved the Twinkles truth locations for lensing galaxies and the AGN images."
   ]
  },
  {
   "cell_type": "code",
   "execution_count": null,
   "metadata": {},
   "outputs": [],
   "source": [
    "def get_twinkles_truth():\n",
    "\n",
    "    \"\"\"\n",
    "    Get twinkles object locations.\n",
    "    \n",
    "    Returns\n",
    "    -------\n",
    "    lens_truth: pandas dataframe\n",
    "        The truth locations and additional information of the lensing galaxies for the Twinkles systems.\n",
    "        \n",
    "    \n",
    "    agn_truth: pandas dataframe\n",
    "        The truth locations and additional information for the AGN images in the Twinkles systems.\n",
    "    \"\"\"\n",
    "\n",
    "    lens_truth = pd.read_csv('/project/shared/data/Twinkles_subset/truth/sprinkled_lens_230_J2000.txt')\n",
    "    agn_truth = pd.read_csv('/project/shared/data/Twinkles_subset/truth/sprinkled_agn_230_J2000.txt')\n",
    "\n",
    "    return lens_truth, agn_truth"
   ]
  },
  {
   "cell_type": "code",
   "execution_count": null,
   "metadata": {},
   "outputs": [],
   "source": [
    "twinkles_lens_truth, twinkles_agn_truth = get_twinkles_truth()"
   ]
  },
  {
   "cell_type": "markdown",
   "metadata": {},
   "source": [
    "### Visualize one of these systems in the Twinkles data\n",
    "\n",
    "Sanity check our truth catalog by visualizing one of the systems. To do this we will use the `butler` to load a `calexp` image."
   ]
  },
  {
   "cell_type": "code",
   "execution_count": null,
   "metadata": {},
   "outputs": [],
   "source": [
    "# Set up a butler\n",
    "datadir = '/project/shared/data/Twinkles_subset/output_data_v2/'\n",
    "butler = Butler(datadir)"
   ]
  },
  {
   "cell_type": "code",
   "execution_count": null,
   "metadata": {},
   "outputs": [],
   "source": [
    "# Get the data for one visit\n",
    "calexp_subset = butler.subset('calexp')\n",
    "dataId = calexp_subset.cache[0]\n",
    "print(dataId)"
   ]
  },
  {
   "cell_type": "code",
   "execution_count": null,
   "metadata": {},
   "outputs": [],
   "source": [
    "# Get the calexp\n",
    "calexp = butler.get('calexp', **dataId)"
   ]
  },
  {
   "cell_type": "markdown",
   "metadata": {},
   "source": [
    "Now we can use `afw_display` to load the calexp image and display it using a `matplotlib` backend."
   ]
  },
  {
   "cell_type": "code",
   "execution_count": null,
   "metadata": {},
   "outputs": [],
   "source": [
    "fig = plt.figure(figsize=(8,8))\n",
    "display1 = afw_display.Display(frame=1, backend='matplotlib')\n",
    "display1.scale('asinh', 'zscale')\n",
    "display1.mtv(calexp.image)\n",
    "# Since we are using matplotlib as a backend we can add labels using pyplot commands\n",
    "plt.xlabel('X Pixels', size=28)\n",
    "plt.ylabel('Y Pixels', size=28)\n",
    "plt.xticks(size=18)\n",
    "plt.yticks(size=18)"
   ]
  },
  {
   "cell_type": "markdown",
   "metadata": {},
   "source": [
    "We've now loaded an image but need to translate the ra, dec coordinates of the truth catalog into pixel values in the image. To do this we will get the WCS information for the `calexp`."
   ]
  },
  {
   "cell_type": "code",
   "execution_count": null,
   "metadata": {},
   "outputs": [],
   "source": [
    "wcs = calexp.getWcs()"
   ]
  },
  {
   "cell_type": "markdown",
   "metadata": {},
   "source": [
    "Now we will pick a twinkles system to look at. We will use twinkles system 27 since it has a good separation between its images."
   ]
  },
  {
   "cell_type": "code",
   "execution_count": null,
   "metadata": {},
   "outputs": [],
   "source": [
    "twinkles_sys = 27\n",
    "test_images = twinkles_agn_truth.query('twinkles_system == %i' % twinkles_sys) \n",
    "test_images"
   ]
  },
  {
   "cell_type": "code",
   "execution_count": null,
   "metadata": {},
   "outputs": [],
   "source": [
    "test_lens = twinkles_lens_truth.query('galid == %i' % test_images['lens_galids'].iloc[0])\n",
    "test_lens"
   ]
  },
  {
   "cell_type": "markdown",
   "metadata": {},
   "source": [
    "Now we use the WCS for the `calexp` and the ra, dec for our lensing galaxy and images to get pixel coordinates."
   ]
  },
  {
   "cell_type": "code",
   "execution_count": null,
   "metadata": {},
   "outputs": [],
   "source": [
    "x_lens, y_lens = wcs.skyToPixel(SpherePoint(Angle(float(test_lens['ra']), degrees),\n",
    "                                            Angle(float(test_lens['dec']), degrees)))\n",
    "print(x_lens, y_lens)"
   ]
  },
  {
   "cell_type": "code",
   "execution_count": null,
   "metadata": {},
   "outputs": [],
   "source": [
    "x_image_1, y_image_1 = wcs.skyToPixel(SpherePoint(Angle(float(test_images['ra'].iloc[0]), degrees),\n",
    "                                                  Angle(float(test_images['dec'].iloc[0]), degrees)))\n",
    "x_image_2, y_image_2 = wcs.skyToPixel(SpherePoint(Angle(float(test_images['ra'].iloc[1]), degrees),\n",
    "                                                  Angle(float(test_images['dec'].iloc[1]), degrees)))\n",
    "print(x_image_1, y_image_1)\n",
    "print(x_image_2, y_image_2)"
   ]
  },
  {
   "cell_type": "markdown",
   "metadata": {},
   "source": [
    "### Display a Twinkles System"
   ]
  },
  {
   "cell_type": "markdown",
   "metadata": {},
   "source": [
    "Let's set up a bounding box to create a cutout of just this system."
   ]
  },
  {
   "cell_type": "code",
   "execution_count": null,
   "metadata": {},
   "outputs": [],
   "source": [
    "bbox = geom.Box2I(geom.Point2I(x_lens-75, y_lens-75), geom.Extent2I(200, 150))\n",
    "cutout = calexp[bbox].image"
   ]
  },
  {
   "cell_type": "markdown",
   "metadata": {},
   "source": [
    "Here we display the system using our cutout."
   ]
  },
  {
   "cell_type": "code",
   "execution_count": null,
   "metadata": {},
   "outputs": [],
   "source": [
    "fig = plt.figure(figsize=(12,8))\n",
    "display1 = afw_display.Display(frame=1, backend='matplotlib')\n",
    "display1.scale('asinh', 'zscale')\n",
    "display1.mtv(cutout)\n",
    "plt.scatter(x_lens, y_lens, c='r', marker='+', label='Lens', s=400, lw=2)\n",
    "plt.scatter(x_image_1, y_image_1, c='b', marker='+', label='Lensed AGN Image 1', s=400, lw=2)\n",
    "plt.scatter(x_image_2, y_image_2, c='g', marker='+', label='Lensed AGN Image 2', s=400, lw=2)\n",
    "plt.legend(fontsize=32)\n",
    "plt.xlabel('X Pixels', size=28)\n",
    "plt.ylabel('Y Pixels', size=28)\n",
    "plt.xticks(size=18)\n",
    "plt.yticks(size=18)"
   ]
  },
  {
   "cell_type": "markdown",
   "metadata": {},
   "source": [
    "## Get Source Catalogs and match to Truth\n",
    "\n",
    "Here we'll use the butler to get source catalogs for all the visits in the `r` band and match these source catalogs to our truth. First we use the butler to get the subset of r-band visits."
   ]
  },
  {
   "cell_type": "code",
   "execution_count": null,
   "metadata": {},
   "outputs": [],
   "source": [
    "r_band_subset = butler.subset('src', filter='r')"
   ]
  },
  {
   "cell_type": "markdown",
   "metadata": {},
   "source": [
    "Let's take the source catalog from the first visit and make the same plot as before but this time include all identified sources in the DM catalog."
   ]
  },
  {
   "cell_type": "code",
   "execution_count": null,
   "metadata": {},
   "outputs": [],
   "source": [
    "src_cat = butler.get('src', dataId = r_band_subset.cache[0]).asAstropy().to_pandas()"
   ]
  },
  {
   "cell_type": "code",
   "execution_count": null,
   "metadata": {},
   "outputs": [],
   "source": [
    "src_pix = [wcs.skyToPixel(SpherePoint(Angle(float(src_cat['coord_ra'][idx])),\n",
    "                                      Angle(float(src_cat['coord_dec'][idx]))))for idx in range(len(src_cat))]"
   ]
  },
  {
   "cell_type": "code",
   "execution_count": null,
   "metadata": {},
   "outputs": [],
   "source": [
    "fig = plt.figure(figsize=(12,8))\n",
    "display1 = afw_display.Display(frame=1, backend='matplotlib')\n",
    "display1.scale('asinh', 'zscale')\n",
    "display1.mtv(cutout)\n",
    "plt.scatter(x_lens, y_lens, c='r', marker='+', label='Lens', s=400, lw=2, zorder=10)\n",
    "plt.scatter(x_image_1, y_image_1, c='b', marker='+', label='Lensed AGN Image 1', s=400, lw=2, zorder=10)\n",
    "plt.scatter(x_image_2, y_image_2, c='g', marker='+', label='Lensed AGN Image 2', s=400, lw=2, zorder=10)\n",
    "\n",
    "# Mark Sources\n",
    "for idx in range(len(src_pix)):\n",
    "    src_loc = src_pix[idx]\n",
    "    display1.dot('o', src_loc[0], src_loc[1], size=4, ctype='orange')\n",
    "\n",
    "plt.legend(fontsize=32)\n",
    "plt.xlabel('X Pixels', size=28)\n",
    "plt.ylabel('Y Pixels', size=28)\n",
    "plt.xticks(size=18)\n",
    "plt.yticks(size=18)"
   ]
  },
  {
   "cell_type": "markdown",
   "metadata": {},
   "source": [
    "We see that the AGN image #2 is identified as its own source very close to the true position but that the lensing galaxy and AGN image #1 are blended together and identified as a single source in the output catalog. Let's make this easy on ourselves and focus on building a lightcurve for AGN image #2 below which should be well identified in all 10 r-band images available.\n",
    "\n",
    "To do catalog matching we will use Astropy's `match_to_catalog_sky` method. This will require creating SkyCoord objects with the ra, dec coordinates of our truth catalog in the next cell and then in each visit doing the same with the source catalogs."
   ]
  },
  {
   "cell_type": "code",
   "execution_count": null,
   "metadata": {},
   "outputs": [],
   "source": [
    "lens_coords = SkyCoord(test_lens['ra']*u.deg, test_lens['dec']*u.deg)\n",
    "image_coords = SkyCoord(test_images['ra']*u.deg, test_images['dec']*u.deg)"
   ]
  },
  {
   "cell_type": "markdown",
   "metadata": {},
   "source": [
    "Now we will loop through all the r-band visits and get three things from the butler:\n",
    "\n",
    "1) Source catalogs: These will have all the sources in each visit. We will use this to match to our truth catalog and get fluxes.\n",
    "\n",
    "2) Calexps: The processed images. We will need this to get the information necessary to convert the source catalog fluxes into magntiudes with a `photoCalib`. When we have a `photoCalib` object we can use `instFluxToMagnitude` to convert `base_PsfFlux_instFlux` values in the source catalog to magnitudes.\n",
    "\n",
    "3) Calexp Metadata: The metadata will contain information from the FITS headers of the images and we will use this to get the MJD of each visit for our light curve.\n",
    "\n",
    "Once we have all this information for each visit we use `match_to_catalog_sky` with our truth locations and identify the source catalog entry that is our AGN image."
   ]
  },
  {
   "cell_type": "code",
   "execution_count": null,
   "metadata": {},
   "outputs": [],
   "source": [
    "image_mags = []\n",
    "image_errs_high = []\n",
    "image_errs_low = []\n",
    "image_times = []\n",
    "\n",
    "for dataId in r_band_subset.cache:\n",
    "    \n",
    "    # Get data products from Butler\n",
    "    src_cat = butler.get('src', dataId = dataId).asAstropy().to_pandas()\n",
    "    photoCalib = butler.get('calexp_photoCalib', dataId = dataId)\n",
    "    metadata = butler.get('calexp_md', dataId=dataId)\n",
    "    \n",
    "    # Get image times from metadata\n",
    "    image_times.append(metadata['MJD-OBS'])\n",
    "    \n",
    "    # Calculate magnitudes\n",
    "    src_mags = [photoCalib.instFluxToMagnitude(flux) for flux in src_cat['base_PsfFlux_instFlux']]\n",
    "    src_errs_high = [photoCalib.instFluxToMagnitude(flux+flux_err) \\\n",
    "                     for flux, flux_err in zip(src_cat['base_PsfFlux_instFlux'],\n",
    "                                               src_cat['base_PsfFlux_instFluxErr'])]\n",
    "    src_errs_low = [photoCalib.instFluxToMagnitude(flux-flux_err) \\\n",
    "                    for flux, flux_err in zip(src_cat['base_PsfFlux_instFlux'],\n",
    "                                              src_cat['base_PsfFlux_instFluxErr'])]\n",
    "    src_cat['r_mag'] = src_mags\n",
    "    src_cat['r_err_high'] = src_errs_high\n",
    "    src_cat['r_err_low'] = src_errs_low\n",
    "    \n",
    "    # Use Astropy to match catalogs and identify source that matches to AGN image we want\n",
    "    visit_coords = SkyCoord(src_cat['coord_ra']*u.rad, src_cat['coord_dec']*u.rad)\n",
    "    idx, sep2d, sep3d = image_coords.match_to_catalog_sky(visit_coords)\n",
    "    \n",
    "    # Use index 1 since we want the second of our two images. Save magnitude information for our light curve.\n",
    "    image_mags.append(src_cat.iloc[idx[1]]['r_mag'])\n",
    "    image_errs_high.append(src_cat.iloc[idx[1]]['r_err_high'] - src_cat.iloc[idx[1]]['r_mag'])\n",
    "    image_errs_low.append(src_cat.iloc[idx[1]]['r_mag'] - src_cat.iloc[idx[1]]['r_err_low'])"
   ]
  },
  {
   "cell_type": "markdown",
   "metadata": {},
   "source": [
    "Now we have all the information we need to plot the light curve below!"
   ]
  },
  {
   "cell_type": "code",
   "execution_count": null,
   "metadata": {},
   "outputs": [],
   "source": [
    "fig = plt.figure(figsize=(9, 6))\n",
    "plt.errorbar(image_times, image_mags, yerr=[image_errs_high, image_errs_low], marker='o', lw=2)\n",
    "plt.scatter(image_times, image_mags, c='r', zorder=10)\n",
    "plt.gca().invert_yaxis()\n",
    "plt.xlabel('MJD', size=18)\n",
    "plt.ylabel('r-band Magnitude', size=18)\n",
    "plt.title('Light Curve for AGN image #2', size=24)\n",
    "plt.xticks(size=14)\n",
    "plt.yticks(size=14)"
   ]
  },
  {
   "cell_type": "code",
   "execution_count": null,
   "metadata": {},
   "outputs": [],
   "source": []
  }
 ],
 "metadata": {
  "kernelspec": {
   "display_name": "LSST",
   "language": "python",
   "name": "lsst"
  },
  "language_info": {
   "codemirror_mode": {
    "name": "ipython",
    "version": 3
   },
   "file_extension": ".py",
   "mimetype": "text/x-python",
   "name": "python",
   "nbconvert_exporter": "python",
   "pygments_lexer": "ipython3",
   "version": "3.7.6"
  }
 },
 "nbformat": 4,
 "nbformat_minor": 4
}
