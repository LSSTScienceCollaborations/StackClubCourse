{
 "cells": [
  {
   "cell_type": "markdown",
   "metadata": {},
   "source": [
    "# Grid Injection\n",
    "\n",
    "Author: Shu Liu\n",
    "Last Edited Date: 05/020/2020\n",
    "\n",
    "## Abstract\n",
    "This tutorial illustrates how to inject fake psf on a grid of `calexp` image. The injection method is from: https://github.com/lsst/pipe_tasks/blob/master/python/lsst/pipe/tasks/insertFakes.py#L456"
   ]
  },
  {
   "cell_type": "code",
   "execution_count": null,
   "metadata": {},
   "outputs": [],
   "source": [
    "import numpy as np\n",
    "from astropy.table import Table\n",
    "\n",
    "from lsst.daf.persistence import Butler\n",
    "import lsst.geom as geom\n",
    "import lsst.afw.image as afwImage"
   ]
  },
  {
   "cell_type": "code",
   "execution_count": 19,
   "metadata": {},
   "outputs": [],
   "source": [
    "# Here we copy a set of repos for storing calexp images.\n",
    "!cp -r ../GitHub/fake_data ../GitHub/fake_grid/fake_grid_17\n",
    "!cp -r ../GitHub/fake_data ../GitHub/fake_grid/fake_grid_18\n",
    "!cp -r ../GitHub/fake_data ../GitHub/fake_grid/fake_grid_19\n",
    "!cp -r ../GitHub/fake_data ../GitHub/fake_grid/fake_grid_20\n",
    "!cp -r ../GitHub/fake_data ../GitHub/fake_grid/fake_grid_21\n",
    "!cp -r ../GitHub/fake_data ../GitHub/fake_grid/fake_grid_22\n",
    "!cp -r ../GitHub/fake_data ../GitHub/fake_grid/fake_grid_23\n",
    "!cp -r ../GitHub/fake_data ../GitHub/fake_grid/fake_grid_24"
   ]
  },
  {
   "cell_type": "code",
   "execution_count": 2,
   "metadata": {},
   "outputs": [],
   "source": [
    "# Setup data id\n",
    "tract, patch, filt = 4639, '0,0', 'r'\n",
    "visit, detector = 181868, 57\n",
    "calexp_id = {'visit': visit, 'detector': detector, 'filter': filt}\n",
    "deepCoadd_id = {'tract': tract, 'patch': patch, 'filter': filt}"
   ]
  },
  {
   "cell_type": "code",
   "execution_count": 3,
   "metadata": {},
   "outputs": [],
   "source": [
    "# This is the function we use to inject fake psfs to an exposure.\n",
    "\n",
    "def inject_stars(exposure, photoCalib, x, y, magVar):\n",
    "    exposure.mask.addMaskPlane(\"FAKE\")\n",
    "    bitmask = exposure.mask.getPlaneBitMask(\"FAKE\")\n",
    "\n",
    "    xy = geom.Point2D(x, y)\n",
    "    psf = exposure.getPsf()\n",
    "\n",
    "    starIm = psf.computeImage(xy)\n",
    "    # This is the default value in 'mkFakeStars'\n",
    "    # https://github.com/lsst/pipe_tasks/blob/master/python/lsst/pipe/tasks/insertFakes.py#L458\n",
    "    calibFluxRadius = 12\n",
    "    correctedFlux = psf.computeApertureFlux(calibFluxRadius, xy)\n",
    "    starIm /= correctedFlux\n",
    "    flux = photoCalib.magnitudeToInstFlux(magVar, xy)\n",
    "    starIm *= flux\n",
    "    \n",
    "    fakeImage = starIm.convertF()\n",
    "    \n",
    "    imageBBox = exposure.getBBox()\n",
    "    imageMI = exposure.maskedImage\n",
    "    \n",
    "    interpFakeImage = fakeImage\n",
    "    interpFakeImBBox = fakeImage.getBBox()\n",
    "    interpFakeImBBox.clip(imageBBox)\n",
    "    imageMIView = imageMI.Factory(imageMI, interpFakeImBBox)\n",
    "    \n",
    "    if interpFakeImBBox.getArea() > 0:\n",
    "        clippedFakeImage = interpFakeImage.Factory(interpFakeImage, interpFakeImBBox)\n",
    "        clippedFakeImageMI = afwImage.MaskedImageF(clippedFakeImage)\n",
    "        clippedFakeImageMI.mask.set(bitmask)\n",
    "        imageMIView += clippedFakeImageMI"
   ]
  },
  {
   "cell_type": "code",
   "execution_count": 22,
   "metadata": {},
   "outputs": [],
   "source": [
    "# This function inject fake PSFs onto a grid of calexp image.\n",
    "# It also saves the calexp with fakes into a specific repo\n",
    "def save_fakes(calexp_repo, calexp_id, magVar):\n",
    "    calexp_butler = Butler(calexp_repo)\n",
    "    calexp_photoCalib = calexp_butler.get('calexp_photoCalib',  calexp_id)\n",
    "    calexp_exposure = calexp_butler.get('calexp', dataId=calexp_id)\n",
    "    for x in range(1000, 3000, 400):\n",
    "        for y in range(1000, 3000, 400):\n",
    "            inject_stars(calexp_exposure, calexp_photoCalib, x, y, magVar)\n",
    "    calexp_butler.put(calexp_exposure, 'calexp', dataId=calexp_id)"
   ]
  },
  {
   "cell_type": "code",
   "execution_count": 23,
   "metadata": {},
   "outputs": [],
   "source": [
    "# Start injecting fakes\n",
    "for mag in range(17, 25):\n",
    "    repo = '/global/u1/s/shl159/GitHub/fake_grid/fake_grid_{}'.format(mag)\n",
    "    save_fakes(repo, calexp_id, mag)"
   ]
  },
  {
   "cell_type": "code",
   "execution_count": 24,
   "metadata": {},
   "outputs": [],
   "source": [
    "############################################################\n",
    "############################################################\n",
    "##### Then we run imageDifferenceDriver.py in terminal #####\n",
    "############################################################\n",
    "############################################################"
   ]
  },
  {
   "cell_type": "code",
   "execution_count": null,
   "metadata": {},
   "outputs": [],
   "source": []
  },
  {
   "cell_type": "code",
   "execution_count": 4,
   "metadata": {},
   "outputs": [],
   "source": [
    "# This function check the performance of imageDifferenceDrive.py\n",
    "def check_detecion(repo, data_id, save_path):\n",
    "    butler = Butler(repo)\n",
    "    diff_src = butler.get('deepDiff_diaSrc', dataId=calexp_id)\n",
    "    diff_astropy = diff_src.asAstropy()\n",
    "    print(f'tot detections: {len(diff_astropy)}')\n",
    "    row_num = []\n",
    "    # filter out detections with flags\n",
    "    for num, src in enumerate(diff_astropy):\n",
    "        if (src['base_PixelFlags_flag_saturatedCenter'] == 0) \\\n",
    "        and (src['base_PixelFlags_flag_saturated'] == 0) \\\n",
    "        and (src['base_PixelFlags_flag_edge']) == 0 \\\n",
    "        and (src['base_PixelFlags_flag_offimage'] == 0):\n",
    "            row_num.append(num)\n",
    "    good_diff_table = diff_astropy[row_num]\n",
    "    good_diff_table['coord_ra'] = np.rad2deg(good_diff_table['coord_ra'])\n",
    "    good_diff_table['coord_dec'] = np.rad2deg(good_diff_table['coord_dec'])\n",
    "    \n",
    "    print(f'after flag: {len(good_diff_table)}')\n",
    "    \n",
    "    check_coord = [(x, y) for x in range(1000, 3000, 400) for y in range(1000, 3000, 400)]\n",
    "    \n",
    "    for src in good_diff_table:\n",
    "        x = src['base_NaiveCentroid_x']\n",
    "        y = src['base_NaiveCentroid_y']\n",
    "        ra, dec = src['coord_ra'], src['coord_dec']\n",
    "        count = 0\n",
    "        for coord in check_coord:\n",
    "            if np.abs(x - coord[0]) < 3 and np.abs(y - coord[1]) < 3:\n",
    "                detect_coord.append((ra, dec))\n",
    "                detect_radecxy.append((ra, dec, coord[0], coord[1]))\n",
    "                count += 1\n",
    "    \n",
    "    print(f'# of detected fakes {len(detect_coord)}')\n",
    "    "
   ]
  },
  {
   "cell_type": "code",
   "execution_count": 5,
   "metadata": {},
   "outputs": [
    {
     "name": "stdout",
     "output_type": "stream",
     "text": [
      "mag: 17\n",
      "tot detections: 155\n",
      "after flag: 123\n",
      "# of detected fakes 25\n",
      "\n",
      "\n",
      "mag: 18\n",
      "tot detections: 155\n",
      "after flag: 124\n",
      "# of detected fakes 25\n",
      "\n",
      "\n",
      "mag: 19\n",
      "tot detections: 155\n",
      "after flag: 124\n",
      "# of detected fakes 25\n",
      "\n",
      "\n",
      "mag: 20\n",
      "tot detections: 155\n",
      "after flag: 124\n",
      "# of detected fakes 25\n",
      "\n",
      "\n",
      "mag: 21\n",
      "tot detections: 155\n",
      "after flag: 124\n",
      "# of detected fakes 25\n",
      "\n",
      "\n",
      "mag: 22\n",
      "tot detections: 155\n",
      "after flag: 124\n",
      "# of detected fakes 25\n",
      "\n",
      "\n",
      "mag: 23\n",
      "tot detections: 155\n",
      "after flag: 124\n",
      "# of detected fakes 25\n",
      "\n",
      "\n",
      "mag: 24\n",
      "tot detections: 149\n",
      "after flag: 118\n",
      "# of detected fakes 19\n",
      "\n",
      "\n"
     ]
    }
   ],
   "source": [
    "for mag in range(17, 25):\n",
    "    print(f'mag: {mag}')\n",
    "    repo = '/global/u1/s/shl159/GitHub/fake_grid/al_grid_{}'.format(mag)\n",
    "    save_path = '../GitHub/fake_grid/al_grid_{}.txt'.format(mag)\n",
    "    check_detecion(repo, calexp_id, save_path)\n",
    "    print('\\n')"
   ]
  }
 ],
 "metadata": {
  "kernelspec": {
   "display_name": "desc-dia",
   "language": "python",
   "name": "desc-dia"
  },
  "language_info": {
   "codemirror_mode": {
    "name": "ipython",
    "version": 3
   },
   "file_extension": ".py",
   "mimetype": "text/x-python",
   "name": "python",
   "nbconvert_exporter": "python",
   "pygments_lexer": "ipython3",
   "version": "3.7.2"
  }
 },
 "nbformat": 4,
 "nbformat_minor": 4
}
