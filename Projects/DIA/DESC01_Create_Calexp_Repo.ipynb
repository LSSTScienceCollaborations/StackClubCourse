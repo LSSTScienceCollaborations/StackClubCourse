{
 "cells": [
  {
   "cell_type": "markdown",
   "metadata": {},
   "source": [
    "# Create Calexp Repo\n",
    "\n",
    "Author: Shu Liu\n",
    "\n",
    "Last Edited Date: 05/05/2020\n",
    "\n",
    "## Abstract\n",
    "\n",
    "This tutorial illustrates how to create your own `calexp` repo to run `imageDifferenceDriver.py`"
   ]
  },
  {
   "cell_type": "code",
   "execution_count": 3,
   "metadata": {},
   "outputs": [],
   "source": [
    "from lsst.daf.persistence import Butler"
   ]
  },
  {
   "cell_type": "markdown",
   "metadata": {},
   "source": [
    "For starters, we create a directory as our repo. Let us call it `fake_data` here. Then we create a directory called `calexp` in it. Next we create a `repositoryCfg.yaml` under the `fake_data`, with content:\n",
    "\n",
    "```\n",
    "!RepositoryCfg_v1\n",
    "_mapper: !!python/name:lsst.obs.lsst.imsim.ImsimMapper ''\n",
    "_mapperArgs: {}\n",
    "_parents:\n",
    "- /global/cscratch1/sd/desc/DC2/data/Run2.1i/rerun/coadd-dr1b-v1-grizy\n",
    "_policy: null\n",
    "_root: null\n",
    "dirty: true\n",
    "```\n",
    "\n",
    "So we can link this repo to a remote `deepCoadd` repo: `/global/cscratch1/sd/desc/DC2/data/Run2.1i/rerun/coadd-dr1b-v1-grizy`."
   ]
  },
  {
   "cell_type": "markdown",
   "metadata": {},
   "source": [
    "Then we initialize a `butler` with our `repo`."
   ]
  },
  {
   "cell_type": "code",
   "execution_count": 4,
   "metadata": {},
   "outputs": [],
   "source": [
    "butler = Butler('/global/u1/s/shl159/GitHub/fake_data')"
   ]
  },
  {
   "cell_type": "markdown",
   "metadata": {},
   "source": [
    "Setup the data id. `tract` and `patch` are not used here. They are related to the data id of `deepCoadd`."
   ]
  },
  {
   "cell_type": "code",
   "execution_count": 16,
   "metadata": {},
   "outputs": [],
   "source": [
    "tract, patch, filt = 4639, '0,0', 'r'\n",
    "visit, detector = 181868, 57\n",
    "calexp_id = {'visit': visit, 'detector': detector, 'filter': filt}"
   ]
  },
  {
   "cell_type": "markdown",
   "metadata": {},
   "source": [
    "Get an exposure from remote."
   ]
  },
  {
   "cell_type": "code",
   "execution_count": 17,
   "metadata": {},
   "outputs": [],
   "source": [
    "calexp_exposure = butler.get('calexp', dataId=calexp_id)"
   ]
  },
  {
   "cell_type": "markdown",
   "metadata": {},
   "source": [
    "Put the exposure to our repo."
   ]
  },
  {
   "cell_type": "code",
   "execution_count": 18,
   "metadata": {},
   "outputs": [],
   "source": [
    "butler.put(calexp_exposure, 'calexp', dataId=calexp_id)"
   ]
  },
  {
   "cell_type": "markdown",
   "metadata": {},
   "source": [
    "Then we can run `imageDifferenceDriver.py` simply by:\n",
    "\n",
    "```\n",
    "imageDifferenceDriver.py /global/u1/s/shl159/GitHub/fake_data \\\n",
    "    --output al_fake --id visit=181868 detector=57  -C diffimConfig_al.py  \\\n",
    "    --clobber-config --clobber-versions --cores 4\n",
    "```\n"
   ]
  },
  {
   "cell_type": "code",
   "execution_count": null,
   "metadata": {},
   "outputs": [],
   "source": []
  }
 ],
 "metadata": {
  "kernelspec": {
   "display_name": "desc-dia",
   "language": "python",
   "name": "desc-dia"
  },
  "language_info": {
   "codemirror_mode": {
    "name": "ipython",
    "version": 3
   },
   "file_extension": ".py",
   "mimetype": "text/x-python",
   "name": "python",
   "nbconvert_exporter": "python",
   "pygments_lexer": "ipython3",
   "version": "3.7.2"
  }
 },
 "nbformat": 4,
 "nbformat_minor": 4
}
