{
 "cells": [
  {
   "cell_type": "markdown",
   "metadata": {},
   "source": [
    "# DIA Analysis: Making light curves from DIA Source data\n",
    "Steven Rodney and the DIA team of the 2020 Stack Club Course\n",
    "Last Verified to Run: TBD\n",
    "\n",
    "copying mercilessly from WMWV's notebook: \n",
    "https://github.com/LSSTDESC/DC2-analysis/blob/master/tutorials/dia_source_object_stamp.ipynb\n",
    "\n",
    "and several Bryce Kalmbach nbs:\n",
    "https://github.com/LSSTScienceCollaborations/StackClub/blob/master/Measurement/twinkles_light_curves.ipynb\n",
    "https://github.com/LSSTScienceCollaborations/StackClubCourse/tree/master/Session03\n",
    "\n",
    "see also the other reference nbs in this subdir of the StackClub\n",
    "After completing this Notebook, the users will be able to\n",
    "\n",
    "\n",
    "1. Select and plot the light curve of a DIA Object.\n",
    "2. Display and inspect postage stamps of a selected DIAObject."
   ]
  },
  {
   "cell_type": "code",
   "execution_count": 3,
   "metadata": {},
   "outputs": [],
   "source": [
    "%matplotlib widget"
   ]
  },
  {
   "cell_type": "markdown",
   "metadata": {},
   "source": [
    "### TODO : remove un-needed imports"
   ]
  },
  {
   "cell_type": "code",
   "execution_count": 2,
   "metadata": {},
   "outputs": [],
   "source": [
    "# Inject gcr-catalogs that supports DIA source into path.\n",
    "import os\n",
    "import math\n",
    "import sys\n",
    "\n",
    "import numpy as np\n",
    "import pandas as pd\n",
    "\n",
    "from astropy.coordinates import SkyCoord\n",
    "import astropy.units as u"
   ]
  },
  {
   "cell_type": "code",
   "execution_count": 7,
   "metadata": {},
   "outputs": [],
   "source": [
    "import lsst.afw.display as afwDisplay\n",
    "from lsst.afw.math import Warper\n",
    "import lsst.afw.geom as afwGeom\n",
    "from lsst.daf.persistence import Butler\n",
    "from lsst.geom import SpherePoint\n",
    "import lsst.geom"
   ]
  },
  {
   "cell_type": "code",
   "execution_count": 8,
   "metadata": {},
   "outputs": [],
   "source": [
    "import lsst.afw.display as afw_display\n",
    "afw_display.setDefaultBackend('matplotlib')"
   ]
  },
  {
   "cell_type": "code",
   "execution_count": 9,
   "metadata": {},
   "outputs": [
    {
     "name": "stdout",
     "output_type": "stream",
     "text": [
      "Warning: Cannot change to a different GUI toolkit: ipympl. Using widget instead.\n"
     ]
    }
   ],
   "source": [
    "import lsst.daf.persistence as dafPersist\n",
    "import lsst.afw.image as afwImage\n",
    "\n",
    "import numpy as np\n",
    "import pandas as pd\n",
    "import matplotlib.pyplot as plt\n",
    "import lsst.geom\n",
    "\n",
    "from astropy.coordinates import SkyCoord\n",
    "from astropy import units as u\n",
    "from astropy.time import Time\n",
    "\n",
    "#%matplotlib widget\n",
    "%matplotlib ipympl\n",
    "#%matplotlib inline"
   ]
  },
  {
   "cell_type": "markdown",
   "metadata": {},
   "source": [
    "first, point the butler to a repo with diff images (from stack club session 4)"
   ]
  },
  {
   "cell_type": "code",
   "execution_count": 10,
   "metadata": {},
   "outputs": [],
   "source": [
    "data_dir = '/project/stack-club/decam_hits_2015_subset/'\n",
    "butler = dafPersist.Butler(data_dir)"
   ]
  },
  {
   "cell_type": "markdown",
   "metadata": {},
   "source": [
    "We know there are difference images in this dataset, but what are the actual datasets called when we access them through the butler? We can remind ourselves with `getDatasetTypes`. "
   ]
  },
  {
   "cell_type": "code",
   "execution_count": 12,
   "metadata": {},
   "outputs": [],
   "source": [
    "data_types = butler.getDatasetTypes()\n",
    "diff_data_types = [x for x in data_types if x.startswith('deepDiff') ]"
   ]
  },
  {
   "cell_type": "markdown",
   "metadata": {},
   "source": [
    "Use the queryMetadata to find what diff images are available."
   ]
  },
  {
   "cell_type": "code",
   "execution_count": 14,
   "metadata": {},
   "outputs": [
    {
     "data": {
      "text/plain": [
       "[(410915, 1),\n",
       " (410915, 2),\n",
       " (410915, 3),\n",
       " (410915, 4),\n",
       " (410915, 5),\n",
       " (410915, 6),\n",
       " (410915, 7),\n",
       " (410915, 8),\n",
       " (410915, 9),\n",
       " (410915, 10)]"
      ]
     },
     "execution_count": 14,
     "metadata": {},
     "output_type": "execute_result"
    }
   ],
   "source": [
    "butler.queryMetadata('deepDiff_differenceExp', ('visit', 'ccdnum'), dataId={'filter': 'g'})[:10]"
   ]
  },
  {
   "cell_type": "markdown",
   "metadata": {},
   "source": [
    "Select one of these at random"
   ]
  },
  {
   "cell_type": "code",
   "execution_count": 15,
   "metadata": {},
   "outputs": [],
   "source": [
    "visit_num = 410915\n",
    "ccd_num = 6"
   ]
  },
  {
   "cell_type": "code",
   "execution_count": 18,
   "metadata": {},
   "outputs": [],
   "source": [
    "# Load a calexp image and get the maskedImage object and the source catalog\n",
    "calexp = butler.get('calexp', {'visit': visit_num, 'ccdnum': ccd_num, 'filter': 'g'})\n",
    "calexp_im = calexp.maskedImage\n",
    "calexp_src_cat = butler.get('src', {'visit': visit_num, 'ccdnum': ccd_num, 'filter': 'g'})"
   ]
  },
  {
   "cell_type": "code",
   "execution_count": 38,
   "metadata": {},
   "outputs": [],
   "source": [
    "# Now load the corresponding diff image, and get the same maskedImage and source catalog\n",
    "diffexp = butler.get('deepDiff_differenceExp', {'visit': visit_num, 'ccdnum': ccd_num, 'filter':'g'})\n",
    "diffexp_im = diffexp.getMaskedImage()\n",
    "diffexp_src_cat = butler.get('deepDiff_diaSrc', {'visit': visit_num, 'ccdnum': ccd_num, 'filter': 'g'})"
   ]
  },
  {
   "cell_type": "markdown",
   "metadata": {},
   "source": [
    "### Get Visit Info\n",
    "Since we want to get light curves in the end we'll need to learn how to get the time of the visits. Let's use `getInfo` found in the `Exposure` object."
   ]
  },
  {
   "cell_type": "code",
   "execution_count": 21,
   "metadata": {},
   "outputs": [
    {
     "name": "stdout",
     "output_type": "stream",
     "text": [
      "57070.141865742786\n"
     ]
    }
   ],
   "source": [
    "# extract the visit info\n",
    "exp_visit_info = calexp.getInfo().getVisitInfo()\n",
    "\n",
    "# get the observation date\n",
    "visit_date_python = exp_visit_info.getDate().toPython()\n",
    "\n",
    "# convert to MJD\n",
    "visit_date_astropy = Time(visit_date_python)\n",
    "print(visit_date_astropy.mjd)"
   ]
  },
  {
   "cell_type": "markdown",
   "metadata": {},
   "source": [
    "# find a bright source in the diff image\n",
    "(when we connect these NBs together, this will be one of the planted fake sources)"
   ]
  },
  {
   "cell_type": "code",
   "execution_count": 56,
   "metadata": {},
   "outputs": [
    {
     "data": {
      "text/html": [
       "\n",
       "    <div class=\"bk-root\">\n",
       "        <a href=\"https://bokeh.org\" target=\"_blank\" class=\"bk-logo bk-logo-small bk-logo-notebook\"></a>\n",
       "        <span id=\"1942\">Loading BokehJS ...</span>\n",
       "    </div>"
      ]
     },
     "metadata": {},
     "output_type": "display_data"
    },
    {
     "data": {
      "application/javascript": [
       "\n",
       "(function(root) {\n",
       "  function now() {\n",
       "    return new Date();\n",
       "  }\n",
       "\n",
       "  var force = true;\n",
       "\n",
       "  if (typeof root._bokeh_onload_callbacks === \"undefined\" || force === true) {\n",
       "    root._bokeh_onload_callbacks = [];\n",
       "    root._bokeh_is_loading = undefined;\n",
       "  }\n",
       "\n",
       "  var JS_MIME_TYPE = 'application/javascript';\n",
       "  var HTML_MIME_TYPE = 'text/html';\n",
       "  var EXEC_MIME_TYPE = 'application/vnd.bokehjs_exec.v0+json';\n",
       "  var CLASS_NAME = 'output_bokeh rendered_html';\n",
       "\n",
       "  /**\n",
       "   * Render data to the DOM node\n",
       "   */\n",
       "  function render(props, node) {\n",
       "    var script = document.createElement(\"script\");\n",
       "    node.appendChild(script);\n",
       "  }\n",
       "\n",
       "  /**\n",
       "   * Handle when an output is cleared or removed\n",
       "   */\n",
       "  function handleClearOutput(event, handle) {\n",
       "    var cell = handle.cell;\n",
       "\n",
       "    var id = cell.output_area._bokeh_element_id;\n",
       "    var server_id = cell.output_area._bokeh_server_id;\n",
       "    // Clean up Bokeh references\n",
       "    if (id != null && id in Bokeh.index) {\n",
       "      Bokeh.index[id].model.document.clear();\n",
       "      delete Bokeh.index[id];\n",
       "    }\n",
       "\n",
       "    if (server_id !== undefined) {\n",
       "      // Clean up Bokeh references\n",
       "      var cmd = \"from bokeh.io.state import curstate; print(curstate().uuid_to_server['\" + server_id + \"'].get_sessions()[0].document.roots[0]._id)\";\n",
       "      cell.notebook.kernel.execute(cmd, {\n",
       "        iopub: {\n",
       "          output: function(msg) {\n",
       "            var id = msg.content.text.trim();\n",
       "            if (id in Bokeh.index) {\n",
       "              Bokeh.index[id].model.document.clear();\n",
       "              delete Bokeh.index[id];\n",
       "            }\n",
       "          }\n",
       "        }\n",
       "      });\n",
       "      // Destroy server and session\n",
       "      var cmd = \"import bokeh.io.notebook as ion; ion.destroy_server('\" + server_id + \"')\";\n",
       "      cell.notebook.kernel.execute(cmd);\n",
       "    }\n",
       "  }\n",
       "\n",
       "  /**\n",
       "   * Handle when a new output is added\n",
       "   */\n",
       "  function handleAddOutput(event, handle) {\n",
       "    var output_area = handle.output_area;\n",
       "    var output = handle.output;\n",
       "\n",
       "    // limit handleAddOutput to display_data with EXEC_MIME_TYPE content only\n",
       "    if ((output.output_type != \"display_data\") || (!output.data.hasOwnProperty(EXEC_MIME_TYPE))) {\n",
       "      return\n",
       "    }\n",
       "\n",
       "    var toinsert = output_area.element.find(\".\" + CLASS_NAME.split(' ')[0]);\n",
       "\n",
       "    if (output.metadata[EXEC_MIME_TYPE][\"id\"] !== undefined) {\n",
       "      toinsert[toinsert.length - 1].firstChild.textContent = output.data[JS_MIME_TYPE];\n",
       "      // store reference to embed id on output_area\n",
       "      output_area._bokeh_element_id = output.metadata[EXEC_MIME_TYPE][\"id\"];\n",
       "    }\n",
       "    if (output.metadata[EXEC_MIME_TYPE][\"server_id\"] !== undefined) {\n",
       "      var bk_div = document.createElement(\"div\");\n",
       "      bk_div.innerHTML = output.data[HTML_MIME_TYPE];\n",
       "      var script_attrs = bk_div.children[0].attributes;\n",
       "      for (var i = 0; i < script_attrs.length; i++) {\n",
       "        toinsert[toinsert.length - 1].firstChild.setAttribute(script_attrs[i].name, script_attrs[i].value);\n",
       "      }\n",
       "      // store reference to server id on output_area\n",
       "      output_area._bokeh_server_id = output.metadata[EXEC_MIME_TYPE][\"server_id\"];\n",
       "    }\n",
       "  }\n",
       "\n",
       "  function register_renderer(events, OutputArea) {\n",
       "\n",
       "    function append_mime(data, metadata, element) {\n",
       "      // create a DOM node to render to\n",
       "      var toinsert = this.create_output_subarea(\n",
       "        metadata,\n",
       "        CLASS_NAME,\n",
       "        EXEC_MIME_TYPE\n",
       "      );\n",
       "      this.keyboard_manager.register_events(toinsert);\n",
       "      // Render to node\n",
       "      var props = {data: data, metadata: metadata[EXEC_MIME_TYPE]};\n",
       "      render(props, toinsert[toinsert.length - 1]);\n",
       "      element.append(toinsert);\n",
       "      return toinsert\n",
       "    }\n",
       "\n",
       "    /* Handle when an output is cleared or removed */\n",
       "    events.on('clear_output.CodeCell', handleClearOutput);\n",
       "    events.on('delete.Cell', handleClearOutput);\n",
       "\n",
       "    /* Handle when a new output is added */\n",
       "    events.on('output_added.OutputArea', handleAddOutput);\n",
       "\n",
       "    /**\n",
       "     * Register the mime type and append_mime function with output_area\n",
       "     */\n",
       "    OutputArea.prototype.register_mime_type(EXEC_MIME_TYPE, append_mime, {\n",
       "      /* Is output safe? */\n",
       "      safe: true,\n",
       "      /* Index of renderer in `output_area.display_order` */\n",
       "      index: 0\n",
       "    });\n",
       "  }\n",
       "\n",
       "  // register the mime type if in Jupyter Notebook environment and previously unregistered\n",
       "  if (root.Jupyter !== undefined) {\n",
       "    var events = require('base/js/events');\n",
       "    var OutputArea = require('notebook/js/outputarea').OutputArea;\n",
       "\n",
       "    if (OutputArea.prototype.mime_types().indexOf(EXEC_MIME_TYPE) == -1) {\n",
       "      register_renderer(events, OutputArea);\n",
       "    }\n",
       "  }\n",
       "\n",
       "  \n",
       "  if (typeof (root._bokeh_timeout) === \"undefined\" || force === true) {\n",
       "    root._bokeh_timeout = Date.now() + 5000;\n",
       "    root._bokeh_failed_load = false;\n",
       "  }\n",
       "\n",
       "  var NB_LOAD_WARNING = {'data': {'text/html':\n",
       "     \"<div style='background-color: #fdd'>\\n\"+\n",
       "     \"<p>\\n\"+\n",
       "     \"BokehJS does not appear to have successfully loaded. If loading BokehJS from CDN, this \\n\"+\n",
       "     \"may be due to a slow or bad network connection. Possible fixes:\\n\"+\n",
       "     \"</p>\\n\"+\n",
       "     \"<ul>\\n\"+\n",
       "     \"<li>re-rerun `output_notebook()` to attempt to load from CDN again, or</li>\\n\"+\n",
       "     \"<li>use INLINE resources instead, as so:</li>\\n\"+\n",
       "     \"</ul>\\n\"+\n",
       "     \"<code>\\n\"+\n",
       "     \"from bokeh.resources import INLINE\\n\"+\n",
       "     \"output_notebook(resources=INLINE)\\n\"+\n",
       "     \"</code>\\n\"+\n",
       "     \"</div>\"}};\n",
       "\n",
       "  function display_loaded() {\n",
       "    var el = document.getElementById(\"1942\");\n",
       "    if (el != null) {\n",
       "      el.textContent = \"BokehJS is loading...\";\n",
       "    }\n",
       "    if (root.Bokeh !== undefined) {\n",
       "      if (el != null) {\n",
       "        el.textContent = \"BokehJS \" + root.Bokeh.version + \" successfully loaded.\";\n",
       "      }\n",
       "    } else if (Date.now() < root._bokeh_timeout) {\n",
       "      setTimeout(display_loaded, 100)\n",
       "    }\n",
       "  }\n",
       "\n",
       "\n",
       "  function run_callbacks() {\n",
       "    try {\n",
       "      root._bokeh_onload_callbacks.forEach(function(callback) {\n",
       "        if (callback != null)\n",
       "          callback();\n",
       "      });\n",
       "    } finally {\n",
       "      delete root._bokeh_onload_callbacks\n",
       "    }\n",
       "    console.debug(\"Bokeh: all callbacks have finished\");\n",
       "  }\n",
       "\n",
       "  function load_libs(css_urls, js_urls, callback) {\n",
       "    if (css_urls == null) css_urls = [];\n",
       "    if (js_urls == null) js_urls = [];\n",
       "\n",
       "    root._bokeh_onload_callbacks.push(callback);\n",
       "    if (root._bokeh_is_loading > 0) {\n",
       "      console.debug(\"Bokeh: BokehJS is being loaded, scheduling callback at\", now());\n",
       "      return null;\n",
       "    }\n",
       "    if (js_urls == null || js_urls.length === 0) {\n",
       "      run_callbacks();\n",
       "      return null;\n",
       "    }\n",
       "    console.debug(\"Bokeh: BokehJS not loaded, scheduling load and callback at\", now());\n",
       "    root._bokeh_is_loading = css_urls.length + js_urls.length;\n",
       "\n",
       "    function on_load() {\n",
       "      root._bokeh_is_loading--;\n",
       "      if (root._bokeh_is_loading === 0) {\n",
       "        console.debug(\"Bokeh: all BokehJS libraries/stylesheets loaded\");\n",
       "        run_callbacks()\n",
       "      }\n",
       "    }\n",
       "\n",
       "    function on_error() {\n",
       "      console.error(\"failed to load \" + url);\n",
       "    }\n",
       "\n",
       "    for (var i = 0; i < css_urls.length; i++) {\n",
       "      var url = css_urls[i];\n",
       "      const element = document.createElement(\"link\");\n",
       "      element.onload = on_load;\n",
       "      element.onerror = on_error;\n",
       "      element.rel = \"stylesheet\";\n",
       "      element.type = \"text/css\";\n",
       "      element.href = url;\n",
       "      console.debug(\"Bokeh: injecting link tag for BokehJS stylesheet: \", url);\n",
       "      document.body.appendChild(element);\n",
       "    }\n",
       "\n",
       "    for (var i = 0; i < js_urls.length; i++) {\n",
       "      var url = js_urls[i];\n",
       "      var element = document.createElement('script');\n",
       "      element.onload = on_load;\n",
       "      element.onerror = on_error;\n",
       "      element.async = false;\n",
       "      element.src = url;\n",
       "      console.debug(\"Bokeh: injecting script tag for BokehJS library: \", url);\n",
       "      document.head.appendChild(element);\n",
       "    }\n",
       "  };var element = document.getElementById(\"1942\");\n",
       "  if (element == null) {\n",
       "    console.error(\"Bokeh: ERROR: autoload.js configured with elementid '1942' but no matching script tag was found. \")\n",
       "    return false;\n",
       "  }\n",
       "\n",
       "  function inject_raw_css(css) {\n",
       "    const element = document.createElement(\"style\");\n",
       "    element.appendChild(document.createTextNode(css));\n",
       "    document.body.appendChild(element);\n",
       "  }\n",
       "\n",
       "  \n",
       "  var js_urls = [\"https://cdn.pydata.org/bokeh/release/bokeh-1.4.0.min.js\", \"https://cdn.pydata.org/bokeh/release/bokeh-widgets-1.4.0.min.js\", \"https://cdn.pydata.org/bokeh/release/bokeh-tables-1.4.0.min.js\", \"https://cdn.pydata.org/bokeh/release/bokeh-gl-1.4.0.min.js\"];\n",
       "  var css_urls = [];\n",
       "  \n",
       "\n",
       "  var inline_js = [\n",
       "    function(Bokeh) {\n",
       "      Bokeh.set_log_level(\"info\");\n",
       "    },\n",
       "    function(Bokeh) {\n",
       "    \n",
       "    \n",
       "    }\n",
       "  ];\n",
       "\n",
       "  function run_inline_js() {\n",
       "    \n",
       "    if (root.Bokeh !== undefined || force === true) {\n",
       "      \n",
       "    for (var i = 0; i < inline_js.length; i++) {\n",
       "      inline_js[i].call(root, root.Bokeh);\n",
       "    }\n",
       "    if (force === true) {\n",
       "        display_loaded();\n",
       "      }} else if (Date.now() < root._bokeh_timeout) {\n",
       "      setTimeout(run_inline_js, 100);\n",
       "    } else if (!root._bokeh_failed_load) {\n",
       "      console.log(\"Bokeh: BokehJS failed to load within specified timeout.\");\n",
       "      root._bokeh_failed_load = true;\n",
       "    } else if (force !== true) {\n",
       "      var cell = $(document.getElementById(\"1942\")).parents('.cell').data().cell;\n",
       "      cell.output_area.append_execute_result(NB_LOAD_WARNING)\n",
       "    }\n",
       "\n",
       "  }\n",
       "\n",
       "  if (root._bokeh_is_loading === 0) {\n",
       "    console.debug(\"Bokeh: BokehJS loaded, going straight to plotting\");\n",
       "    run_inline_js();\n",
       "  } else {\n",
       "    load_libs(css_urls, js_urls, function() {\n",
       "      console.debug(\"Bokeh: BokehJS plotting callback run at\", now());\n",
       "      run_inline_js();\n",
       "    });\n",
       "  }\n",
       "}(window));"
      ],
      "application/vnd.bokehjs_load.v0+json": "\n(function(root) {\n  function now() {\n    return new Date();\n  }\n\n  var force = true;\n\n  if (typeof root._bokeh_onload_callbacks === \"undefined\" || force === true) {\n    root._bokeh_onload_callbacks = [];\n    root._bokeh_is_loading = undefined;\n  }\n\n  \n\n  \n  if (typeof (root._bokeh_timeout) === \"undefined\" || force === true) {\n    root._bokeh_timeout = Date.now() + 5000;\n    root._bokeh_failed_load = false;\n  }\n\n  var NB_LOAD_WARNING = {'data': {'text/html':\n     \"<div style='background-color: #fdd'>\\n\"+\n     \"<p>\\n\"+\n     \"BokehJS does not appear to have successfully loaded. If loading BokehJS from CDN, this \\n\"+\n     \"may be due to a slow or bad network connection. Possible fixes:\\n\"+\n     \"</p>\\n\"+\n     \"<ul>\\n\"+\n     \"<li>re-rerun `output_notebook()` to attempt to load from CDN again, or</li>\\n\"+\n     \"<li>use INLINE resources instead, as so:</li>\\n\"+\n     \"</ul>\\n\"+\n     \"<code>\\n\"+\n     \"from bokeh.resources import INLINE\\n\"+\n     \"output_notebook(resources=INLINE)\\n\"+\n     \"</code>\\n\"+\n     \"</div>\"}};\n\n  function display_loaded() {\n    var el = document.getElementById(\"1942\");\n    if (el != null) {\n      el.textContent = \"BokehJS is loading...\";\n    }\n    if (root.Bokeh !== undefined) {\n      if (el != null) {\n        el.textContent = \"BokehJS \" + root.Bokeh.version + \" successfully loaded.\";\n      }\n    } else if (Date.now() < root._bokeh_timeout) {\n      setTimeout(display_loaded, 100)\n    }\n  }\n\n\n  function run_callbacks() {\n    try {\n      root._bokeh_onload_callbacks.forEach(function(callback) {\n        if (callback != null)\n          callback();\n      });\n    } finally {\n      delete root._bokeh_onload_callbacks\n    }\n    console.debug(\"Bokeh: all callbacks have finished\");\n  }\n\n  function load_libs(css_urls, js_urls, callback) {\n    if (css_urls == null) css_urls = [];\n    if (js_urls == null) js_urls = [];\n\n    root._bokeh_onload_callbacks.push(callback);\n    if (root._bokeh_is_loading > 0) {\n      console.debug(\"Bokeh: BokehJS is being loaded, scheduling callback at\", now());\n      return null;\n    }\n    if (js_urls == null || js_urls.length === 0) {\n      run_callbacks();\n      return null;\n    }\n    console.debug(\"Bokeh: BokehJS not loaded, scheduling load and callback at\", now());\n    root._bokeh_is_loading = css_urls.length + js_urls.length;\n\n    function on_load() {\n      root._bokeh_is_loading--;\n      if (root._bokeh_is_loading === 0) {\n        console.debug(\"Bokeh: all BokehJS libraries/stylesheets loaded\");\n        run_callbacks()\n      }\n    }\n\n    function on_error() {\n      console.error(\"failed to load \" + url);\n    }\n\n    for (var i = 0; i < css_urls.length; i++) {\n      var url = css_urls[i];\n      const element = document.createElement(\"link\");\n      element.onload = on_load;\n      element.onerror = on_error;\n      element.rel = \"stylesheet\";\n      element.type = \"text/css\";\n      element.href = url;\n      console.debug(\"Bokeh: injecting link tag for BokehJS stylesheet: \", url);\n      document.body.appendChild(element);\n    }\n\n    for (var i = 0; i < js_urls.length; i++) {\n      var url = js_urls[i];\n      var element = document.createElement('script');\n      element.onload = on_load;\n      element.onerror = on_error;\n      element.async = false;\n      element.src = url;\n      console.debug(\"Bokeh: injecting script tag for BokehJS library: \", url);\n      document.head.appendChild(element);\n    }\n  };var element = document.getElementById(\"1942\");\n  if (element == null) {\n    console.error(\"Bokeh: ERROR: autoload.js configured with elementid '1942' but no matching script tag was found. \")\n    return false;\n  }\n\n  function inject_raw_css(css) {\n    const element = document.createElement(\"style\");\n    element.appendChild(document.createTextNode(css));\n    document.body.appendChild(element);\n  }\n\n  \n  var js_urls = [\"https://cdn.pydata.org/bokeh/release/bokeh-1.4.0.min.js\", \"https://cdn.pydata.org/bokeh/release/bokeh-widgets-1.4.0.min.js\", \"https://cdn.pydata.org/bokeh/release/bokeh-tables-1.4.0.min.js\", \"https://cdn.pydata.org/bokeh/release/bokeh-gl-1.4.0.min.js\"];\n  var css_urls = [];\n  \n\n  var inline_js = [\n    function(Bokeh) {\n      Bokeh.set_log_level(\"info\");\n    },\n    function(Bokeh) {\n    \n    \n    }\n  ];\n\n  function run_inline_js() {\n    \n    if (root.Bokeh !== undefined || force === true) {\n      \n    for (var i = 0; i < inline_js.length; i++) {\n      inline_js[i].call(root, root.Bokeh);\n    }\n    if (force === true) {\n        display_loaded();\n      }} else if (Date.now() < root._bokeh_timeout) {\n      setTimeout(run_inline_js, 100);\n    } else if (!root._bokeh_failed_load) {\n      console.log(\"Bokeh: BokehJS failed to load within specified timeout.\");\n      root._bokeh_failed_load = true;\n    } else if (force !== true) {\n      var cell = $(document.getElementById(\"1942\")).parents('.cell').data().cell;\n      cell.output_area.append_execute_result(NB_LOAD_WARNING)\n    }\n\n  }\n\n  if (root._bokeh_is_loading === 0) {\n    console.debug(\"Bokeh: BokehJS loaded, going straight to plotting\");\n    run_inline_js();\n  } else {\n    load_libs(css_urls, js_urls, function() {\n      console.debug(\"Bokeh: BokehJS plotting callback run at\", now());\n      run_inline_js();\n    });\n  }\n}(window));"
     },
     "metadata": {},
     "output_type": "display_data"
    }
   ],
   "source": [
    "from bokeh.io import output_notebook, show \n",
    "from bokeh.layouts import gridplot\n",
    "from bokeh.plotting import figure as bokehfigure\n",
    "from bokeh.models import ColumnDataSource, Range1d, HoverTool, Selection\n",
    "\n",
    "# Need this line to display bokeh plots inline in the notebook\n",
    "output_notebook()"
   ]
  },
  {
   "cell_type": "code",
   "execution_count": 66,
   "metadata": {},
   "outputs": [],
   "source": [
    "diffexp_src_cat_astropy = diffexp_src_cat.asAstropy()"
   ]
  },
  {
   "cell_type": "code",
   "execution_count": 75,
   "metadata": {},
   "outputs": [],
   "source": [
    "ra = diffexp_src_cat_astropy['coord_ra']\n",
    "dec = diffexp_src_cat_astropy['coord_dec']\n",
    "\n",
    "psfflux = diffexp_src_cat_astropy['slot_PsfFlux_instFlux']\n",
    "psffluxerr = diffexp_src_cat_astropy['slot_PsfFlux_instFluxErr']\n",
    "sig2noise = psfflux / psffluxerr\n",
    "\n",
    "plotdata = ColumnDataSource(data=dict(\n",
    "    ra=ra/np.cos(np.median(dec)), dec=dec, \n",
    "    f=psfflux, df=psffluxerr, sn=sig2noise,\n",
    "    srcidx=diffexp_src_cat_astropy['id']))"
   ]
  },
  {
   "cell_type": "code",
   "execution_count": 76,
   "metadata": {},
   "outputs": [],
   "source": [
    "# Create a custom hover tool on both panels\n",
    "hover_left = HoverTool(tooltips=[(\"(RA,DEC)\", \"(@ra, @dec)\"),\n",
    "                                 (\"srcidx\", \"@srcidx\")])\n",
    "hover_right = HoverTool(tooltips=[(\"S/N\", \"@sn\"),\n",
    "                                  (\"srcidx\", \"@srcidx\")])\n",
    "TOOLS = \"box_zoom,box_select,lasso_select,reset,help\"\n",
    "TOOLS_LEFT = [hover_left, TOOLS]\n",
    "TOOLS_RIGHT = [hover_right, TOOLS]"
   ]
  },
  {
   "cell_type": "code",
   "execution_count": 77,
   "metadata": {},
   "outputs": [
    {
     "data": {
      "text/html": [
       "\n",
       "\n",
       "\n",
       "\n",
       "\n",
       "\n",
       "  <div class=\"bk-root\" id=\"1b59bdac-5459-49d2-b7e8-e06ba6d10947\" data-root-id=\"3658\"></div>\n"
      ]
     },
     "metadata": {},
     "output_type": "display_data"
    },
    {
     "data": {
      "application/javascript": [
       "(function(root) {\n",
       "  function embed_document(root) {\n",
       "    \n",
       "  var docs_json = {\"e4a4c968-a86d-4ee6-b527-c74a00b72d06\":{\"roots\":{\"references\":[{\"attributes\":{\"children\":[{\"id\":\"3657\",\"type\":\"ToolbarBox\"},{\"id\":\"3655\",\"type\":\"GridBox\"}]},\"id\":\"3658\",\"type\":\"Column\"},{\"attributes\":{\"active_drag\":\"auto\",\"active_inspect\":\"auto\",\"active_multi\":null,\"active_scroll\":\"auto\",\"active_tap\":\"auto\",\"tools\":[{\"id\":\"3555\",\"type\":\"HoverTool\"},{\"id\":\"3577\",\"type\":\"BoxZoomTool\"},{\"id\":\"3578\",\"type\":\"BoxSelectTool\"},{\"id\":\"3579\",\"type\":\"LassoSelectTool\"},{\"id\":\"3580\",\"type\":\"ResetTool\"},{\"id\":\"3581\",\"type\":\"HelpTool\"}]},\"id\":\"3582\",\"type\":\"Toolbar\"},{\"attributes\":{},\"id\":\"3565\",\"type\":\"LinearScale\"},{\"attributes\":{\"active_drag\":\"auto\",\"active_inspect\":\"auto\",\"active_multi\":null,\"active_scroll\":\"auto\",\"active_tap\":\"auto\",\"tools\":[{\"id\":\"3556\",\"type\":\"HoverTool\"},{\"id\":\"3615\",\"type\":\"BoxZoomTool\"},{\"id\":\"3616\",\"type\":\"BoxSelectTool\"},{\"id\":\"3617\",\"type\":\"LassoSelectTool\"},{\"id\":\"3618\",\"type\":\"ResetTool\"},{\"id\":\"3619\",\"type\":\"HelpTool\"}]},\"id\":\"3620\",\"type\":\"Toolbar\"},{\"attributes\":{\"bottom_units\":\"screen\",\"fill_alpha\":{\"value\":0.5},\"fill_color\":{\"value\":\"lightgrey\"},\"left_units\":\"screen\",\"level\":\"overlay\",\"line_alpha\":{\"value\":1.0},\"line_color\":{\"value\":\"black\"},\"line_dash\":[4,4],\"line_width\":{\"value\":2},\"render_mode\":\"css\",\"right_units\":\"screen\",\"top_units\":\"screen\"},\"id\":\"3638\",\"type\":\"BoxAnnotation\"},{\"attributes\":{\"data_source\":{\"id\":\"3554\",\"type\":\"ColumnDataSource\"},\"glyph\":{\"id\":\"3628\",\"type\":\"Circle\"},\"hover_glyph\":null,\"muted_glyph\":null,\"nonselection_glyph\":{\"id\":\"3629\",\"type\":\"Circle\"},\"selection_glyph\":{\"id\":\"3630\",\"type\":\"Circle\"},\"view\":{\"id\":\"3632\",\"type\":\"CDSView\"}},\"id\":\"3631\",\"type\":\"GlyphRenderer\"},{\"attributes\":{\"callback\":null,\"data\":{\"dec\":{\"__ndarray__\":\"EAckBmrQqT8W0V7968ipP/1IjyQA5qk/bPMiGpLSqT9FVQr3hwirP01VfbTaxao/gboWP7y+qT+gf28Nu3OqP5HGV7bIM6o/tmtQLbPyqj8QKOSmpgeqP0q+Dl411ak/eeZjOdzYqj/mHCgatQerP29A8jDMoao/JV38PtH9qj9oSGusYgirP2mzgWxe7Kk/BrIGAAXmqj+7P3JyhwirP6ykMX6Wl6o/Nm/YGbjzqj8ml7zqawirP9Y7rLSt76k/5wEE8Ss4qj+Mm1V2zT+qP2JB1/gRrKo/2gr3NuZ5qj9db6nc7OOqPyfuCSmDCas/Ov91SYnoqj8UnbTpgAerP86OphJ6aKo/9kAu/bMIqz+FIPP9Nb6pP5h0vR2W/ak/oOWeOtoJqz9DzdR8fwerP8uJp43+oKo/HrkLn9IJqz+g2TKDGwirPxvFOIkp9qo/obSz8U3pqj+BALIvIwarPzpybYcyAao/bI9g9uDJqj/duBZ3AAmqP/lqlBQ6Cqs/FiCTdKEKqz8u3mE5KMmqPzmaLbzwCqs/WtepWKV8qj8mnKI2lxGqPy6nP4Tq7ao/1/6fzoUHqz8rdPZD5gerP9PsvaZOCas/vaB8iqPhqT9kzdIGXQirP/JAiDydg6o/FKZAuNG0qj+CkFtw/AerP2A1LHf+/Ko/NuNcEfVSqj/FFsYTxdWpPyl3/Srfh6o/wsHLCicFqj+AbGTnatypP6lYcZuXz6o/cgLptPjaqT/Jn8FuxNuqP+54hxAQb6o/b7/crAj2qj/gFAGyRgGqP5B4/pjYb6o/TzHjwwQHqz8GnUToeXKqP4z1jNhJYao/jkgiQOLAqT8npPTByMiqP2Z18EPuqqo/Ox2nwjo1qj8TGAb6/M+pPypfxT03I6o/Dwb4PG0Hqz9I4EddVDuqP0HMeq9CCKs/e+v0RWbBqT98dDnpTFKqPw93Mq9wxqo/IVKtjATdqT+cd9Aqir2pP/jB+qbL86k/FTZnr4z8qT+41RsKcwGrP8XQtNPrrKo/Y61zlF8Iqz9siJCNZiaqP02HCqVkB6s/ay2dUOBNqj908w5w3I+qP/nU5PWTGKo/Jm9/6jEKqz+3FYY1ZYqqP2uua82dBas/rknwXHoJqz/7w5ZXxeSqPxSWessZAas/05KYrL7yqj9mJaRx7AWrP3ODTSg2l6o/AvGIxA4Iqz9dy3YnoFWqP0Qw1+iWCas/UunzZtG/qT82nEqLJQirP5YN0YqCBas/Uzp2nfvtqT9mYZFKfAWrPy7YzUuABas/H4hQl0TGqT87v/s1nQWrPzmZ9GdfwKk/u28FO6EGqz9JOUDpcAWrPy60X8mSBas/WT9Wwll8qj/8/gsXlAirPxlOZ22UBas/TRK7H1Gkqj/qbSP9kKqqP1T+zUgK5qk/\",\"dtype\":\"float64\",\"shape\":[132]},\"df\":{\"__ndarray__\":\"AAAAAAAA+H+fXhKvQ5ZVQCDhNvtt4VFAMMFb7L0KVUANMBTbAINhQJmQCu/9sVVAAAAAAAAA+H8q1UdqapxqQDWeNPHjd3lA8bKee9hBhEBCK158tQhTQDctZlz3w2lAGGPUlwQwUECHRvUfr+leQMsQhXAP2oNA8IJBWlLDUkDk5VLYYKxeQCImPAOv7mxAqtyK3LeQfUBNxKt2jgpgQMsV2d7Tj1FA9B4o2NFSYkBa0on0wgReQCZx/GIlonNAQDC4uk3KY0Bj5z/AxF10QKyCqZ3avFJALCNdmLr3fEDtgZLN9TBXQDedvyz4DV1AIuYdGKXXTkDI8/t73RVdQExa4WbIJXFAmybNA+CZXEAAAAAAAAD4f85IyTxhIH9AAAAAAAAA+H/nIvq8PU9dQM0q/1kHSVBAAAAAAAAA+H+jL21Z08dsQMNk1WvLzG1A1F3KXEZyVkDQwXpBPs1UQEAHm3TlmF1Ar6v4SdzQYEA+4dV8YfuBQAAAAAAAAPh/AAAAAAAA+H8FCqcueDlQQAAAAAAAAPh/iRfRc5lHVkCs3V8IjqtVQDSVQTng3lNA/C7/yQTGX0DCmv0wTc1bQLL34zFoEltArUuP3IWGYEDsQ2gEnW5eQFAQ4PUJf1FA6tbjFUy9bUA+xxZORY9dQNXA6rjuUnJA/2jcC9MmgUBEbcldkeBmQPqFIOQbZVFAia+jPdVFT0DfCcHA0EhsQCgHbJb9W1FAEXGeCBlKbUDo+YNXNLVYQIkI9ObKNF9AMFcrkzDOXUA2cmsyLyJeQE8WFy7Ut1VAdygBeVr2XEB+IC7r0chWQJ7rBhLXOXNAx+dFoZwMekA/ERBrTvl7QGa9Wf8FXINAJN1t7/9MWUDA8ckdO9lRQOzC47gy03RA6ji3PotQWkBVbWSyibeDQMxMv20kmF1AcMBEpFh7UEAFik+G9OJPQNIK06sVD3BAxBc7EFiGV0AAAAAAAAD4f1630/pIgGxAYDMa9AogYkDHiy7wQDh/QIc0BxZhhoBAjeWmyAgPXkBOPmmr3IBhQPWwIRg8wVpAuyjAKYcGUEAsW0pHVWlmQIsNCtoYi4JAAAAAAAAA+H+fQRZdrEFkQL4jPp4bs19AAAAAAAAA+H/UJiaYuJ6BQKBHfmQZSFBAOFplRzJAW0DJ+uVa/h5eQBmBC/uYDVVAmg7nNNX+WkASIlUG1TGAQAAAAAAAAPh/R2rQucGgZkDMiTwhc3VeQO16lkmaeV9AV2dRHzLMUUAdx/kt8w1dQDkLSHKjWF9Ah2+/mHoLWUDlJamd0K5dQKpI8MG1qHNAhlc6UE0uX0BSSE+kxhldQEEtN3eC72BAsrPKk/22ekBZBsmBFKVfQIMyL59gnGFA3ULq+edbYkBoNPzKS3h1QIgtsVMpnGlA\",\"dtype\":\"float64\",\"shape\":[132]},\"f\":{\"__ndarray__\":\"AAAAAAAA+H+o+nTMZX2NwLT+HPJsAFnAv64qJaCIhMBcbJigb4qEwGus0y8+JoVAAAAAAAAA+H9XZYHbCkWVQNxwUhL6X9dAsWQdTaoUJUFU2pqxSPd8wBmU4aEx53TAtvm6EjoSgsCq7oVqEveEwMdFUXxKMyVBgm1Jl8mSiUDWA0kc8EyFQMdobbpF0ldA+54gllfk7EA2hUwilauEQCPmqXQhgXdAb84jzpf7hsC+45nzDCWDQKpoE+U3/pvAxw718ftPiUBoe/nyVrWAQFeQAKuP65TAcTlkI+aX60Ca5uNhMkCLQCOJCzWwpolA+P0BMqr8iMArJ4NDpnmDwLbFMbo9yAhBfN5rmZrqhEAAAAAAAAD4f97viI4yjPJAAAAAAAAA+H9WRQXEu9eBwPXZdUxo+XVAAAAAAAAA+H/sqtxwWwTHwH/Pjmtdf5fAQ3kOWBCDe0AakIf5GMd+wHtkzRUlPFDAo4scZiaXeECNIuQRVYr9QAAAAAAAAPh/AAAAAAAA+H93HqWUgJ52wAAAAAAAAPh/8qqkjx22B0Bx3qmgzfZ5wI8/tQmRloPA9I6LWEBPhsBq0SNJLCCLwKpPTk5VRYLAPWl9wtLTgEDXv9IrHLGDwDVtpyPZX4JAqMi403f1jkCUiMZw/U+DwN5xwO5ESwxBbysb7H0z+UDRpX92F/VwwHvc/CYDunlAXnbj/LTmgkAYTBNO5QeWQI3Mmip7cYVADR6vVjnqmsBIXy5DauBJwFR4gm68/jlAJFD8NebugkCQ4DwE9nWFwLPmdl4NT4DA2/yLOEc2g8AKO9ULCoN7wGk1/F9c/o9AhxzIqX+35UAOUVmNEOHnQG2yrI1IKhtB9ieapbaigUDCsULwoU52QDv22sRYWYxAoF/HDVO1gcBx3iXcaZURQYgRH8ZlT4VAZHQAaOq6fMCfuPgvk1+KQJ/x1Gv2hXBAtb69ctaXccAAAAAAAAD4fxr/KdyvtonAW9lEVP/0XEDPWSgx8fvRQCquJpPQ8/dAvfcxlAFahEBIBEms/N11QFq6a26CU4RANQivpdhcdcCRuBVYKH+0QI+ZyteuFCVBAAAAAAAA+H/gvHn+9yiDQBuNNipO84RAAAAAAAAA+H8KmeJx59IlQRiMPpeqRXXA3U6hGAARW8BGzNpr/CGDQOLOOm9lAH/A7QPrT/OBjEAeRpO0V5snQQAAAAAAAPh/IvPXuQ3YdEDmAnWQrnGDwKf6XJ45U4dAoff5WwS1j8DWDjkG/daDQLUNkuHet4RA+l5LIrGpqMBA+5YupjOHQLS5ULrLF0nAieeAeYZwh0CwLQArxOiDQIcWLoaOAIdAD37VJpRh4EAfH0F22w6IQFRopNuk3IVAa0RVhcj0h0BQkVX/3Y6jQPZGBtQuymNA\",\"dtype\":\"float64\",\"shape\":[132]},\"ra\":{\"__ndarray__\":\"v8mHSoD9BEAQIVYIi/0EQBgJD6iZ/QRAJWQ1hJr9BEAcGmJwu/0EQCXjUTfH/QRAmLkFasn9BEAyqRlB2f0EQP0247Tx/QRAqPZuKf39BECPYeTNQP4EQEy29IlW/gRASBBoCWv+BEC5LwVyfv4EQNIMjVHw/gRAP9iOsRH/BEDfWB05Qf8EQAoNG5ph/wRAGg/V2mT/BEBHev3bcP8EQHeRIql5/wRABjuRR4j/BED437XviP8EQMzAB+Xf/wRAMzrOB97/BEABu24p5/8EQLBTzqby/wRAk587rwEABUB0aNcfFwAFQFzHRDwZAAVAq6Fq2x0ABUA2dlXBHgAFQF/TV8s8AAVAQc60QTwABUCIoXwXTQAFQNyaFZN1AAVAL8j18nMABUAEnGE2fQAFQJnyXGiLAAVARII8HJEABUDLpB8zogAFQByoC1G0AAVA4WJN18UABUDxJc3LzQAFQBgFDgPQAAVAnHd3kPQABUBckrXOBwEFQMd2EuMHAQVAYQKnZyYBBUCZtiIVLgEFQJ5H0wJYAQVAW/xT+FEBBUA83NrJgwEFQPYilBCKAQVAtc4X0poBBUD2Wq0rqAEFQHCdmOzbAQVAjnXeTvEBBUBgDBgG9AEFQLgsVYgQAgVAE5hcIhkCBUBtzwAHPAIFQIk5+qBaAgVA4YhAtn8CBUDiK/LSpQIFQBv2rX2xAgVA7/cLyLMCBUCRJnrLtQIFQCFEuXbCAgVAht+yw8YCBUBE15pg4wIFQBy1PDznAgVABYXcwfsCBUAH9+dqDgMFQM2VCrgcAwVAS3gFbjkDBUDY+/B/agMFQOacMd9yAwVAmOmY9IMDBUDxFY4OlwMFQEHr2767AwVA4nf558UDBUC+8P+VxgMFQPF6fOz5AwVATVsz2loEBUBamtAyZQQFQPAUNDppBAVAV5HPpXIEBUBQAuwSfAQFQJKcr1/BBAVAR5xFyugEBUAek6sK6AQFQPXxCXkaBQVAsJhXQyEFBUBSqo7YOAUFQNjb7dA2BQVAHKp+RzgFBUDxy4jebQUFQML/9AtzBQVAMd+ElHUFBUAKs9I8kwUFQD5ZsUjFBQVAD8OcB+YFBUAv0wZl7wUFQBNd/IYbBgVARbRXECsGBUD1/ISxZgYFQM3WIzNyBgVApojjz3gGBUAFbYo7fgYFQI7fLvOJBgVAMn/7Gq8GBUDcrAmd3wYFQKB68ZLmBgVA+lmwSAYHBUBY06TCDAcFQAlCcnUUBwVAeCCgti4HBUB6tJRnOQcFQEyW3L5MBwVA23UAQ1YHBUBFMp3zYgcFQM4i+LhnBwVA1vKSeHkHBUA+37twkAcFQDWBR7aoBwVA/MghtLYHBUCrr2YD1QcFQHBiJTXYBwVAquzT9OEHBUBLXXPr4QcFQJhJOFL9BwVA\",\"dtype\":\"float64\",\"shape\":[132]},\"sn\":{\"__ndarray__\":\"AAAAAAAA+H//IaGThdslwK6YDFJDX/a/tnvwdR86H8BJHrD4fcQSwE27ranfMR9AAAAAAAAA+H8CoDI1uJMZQO2M9P+kXk1AdxiVpIOmkEDiQrL9SVkYwFKQBlEH9vm/2nzVFJ/cIcD/tH2B07MVwJoY3RA/FpFA/b6qhrrOJUBOB3sqyDgWQG16F0TcWNo/Zd0nxm1FX0ClcYzS+p0UQOeZNksCahVAgHjtCYYRFMBT1F1RjGgUQLvqAAAH0BbAiZm6Ve52FECfe/H8qED6PwkmcYET3THAyGNIRFd7XkC0KME9/MwiQIH0L1pkQBxA5CfV2MHsKcA0l8xKQG0VwGSlhl6oH4dAVenyrPBmF0AAAAAAAAD4f51IscByEWNAAAAAAAAA+H9JeNofB3sTwBHC7gvelhVAAAAAAAAA+H9d9rfbe5dJwB7MjPJ0OxnAg09iGV2cE0COBqYBV6wXwAE24/+LjeG/G41407llB0DGBSx90UhqQAAAAAAAAPh/AAAAAAAA+H8DA1nLYU4WwAAAAAAAAPh/+gvc/zUHoT/5TXRqnysTwNj7jT2Nix/A6NFYavZ3FsCLGKK5ujgfwKpjW1nImBXAtOO5pddKEEC13llW1rQUwJpC34KVzSBAxSoiJ/OnEECqZO1VJugUwO7FZUmitIhAY6v2g02CZ0A7Dkv1Mbj3vyVp9OvbqRdAOfz91DlXI0DtSIHPxuwYQAgodFufwyNAzoTYCt9nHcBkULlcwsHgv4uBVXkCqMo/AuACrMZTFEA9NEObQcoWwKjJxRuiBxjAgui+aCA6FcADpbot21ETwLIydbQXoApAA0S08IStWkBjgY/H41BbQEOTtAKAc4ZAY3ajJyJOFkCfUA4RMP8TQJoETubfxwVAr97COcSIFcBK/0UlqIl8QJzLD6LcChdAVvG03efjG8AdbHIQmXcqQGpPkRVxdvA/0JiKx2zuB8AAAAAAAAD4f+Jg9V7M3gzABpcyttOP6T9+NZ6SAW9CQHeJFy0JMWdAWz7JbnuqFUCg2wrKLP0DQHb3LQmjTxhAYvQ36iRUFcBt6TR0G0Q9QOyf1p99MJJAAAAAAAAA+H8PydaDj0QOQIkNnaUfJhVAAAAAAAAA+H9X+0LKPNGTQDqPI8935xTATw7yJZTI779XDGfchFMUQHZuFMGFjxfANHmNF3HlIED3gGjns1KXQAAAAAAAAPh/WUn5viN6/T+z0FxajW0UwLbgT5DSthdAJ5FxoymBLMAQUBjP49kVQP1nyOl8JhVA4Kk/iQ6DP8A/f+imUAMZQBeagrwrbMS/vHAUSikOGEB704Qfj+QVQAZw8EJAuxVA+fws7DmfU0A9i/2v+lMYQOUs0Ua53BNA8AhrGcPgFEBn5hnThiYdQCrByCdBuug/\",\"dtype\":\"float64\",\"shape\":[132]},\"srcidx\":[176486674413387962,176486674413387963,176486674413387964,176486674413387965,176486674413387966,176486674413387967,176486674413387968,176486674413387969,176486674413387970,176486674413387971,176486674413387972,176486674413387973,176486674413387974,176486674413387975,176486674413387976,176486674413387977,176486674413387978,176486674413387979,176486674413387980,176486674413387981,176486674413387982,176486674413387983,176486674413387984,176486674413387985,176486674413387986,176486674413387987,176486674413387988,176486674413387989,176486674413387990,176486674413387991,176486674413387992,176486674413387993,176486674413387994,176486674413387995,176486674413387996,176486674413387997,176486674413387998,176486674413387999,176486674413388000,176486674413388001,176486674413388002,176486674413388003,176486674413388004,176486674413388005,176486674413388006,176486674413388007,176486674413388008,176486674413388009,176486674413388010,176486674413388011,176486674413388012,176486674413388013,176486674413388014,176486674413388015,176486674413388016,176486674413388017,176486674413388018,176486674413388019,176486674413388020,176486674413388021,176486674413388022,176486674413388023,176486674413388024,176486674413388025,176486674413388026,176486674413388027,176486674413388028,176486674413388029,176486674413388030,176486674413388031,176486674413388032,176486674413388033,176486674413388034,176486674413388035,176486674413388036,176486674413388037,176486674413388038,176486674413388039,176486674413388040,176486674413388041,176486674413388042,176486674413388043,176486674413388044,176486674413388045,176486674413388046,176486674413388047,176486674413388048,176486674413388049,176486674413388050,176486674413388051,176486674413388052,176486674413388053,176486674413388054,176486674413388055,176486674413388056,176486674413388057,176486674413388058,176486674413388059,176486674413388060,176486674413388061,176486674413388062,176486674413388063,176486674413388064,176486674413388065,176486674413388066,176486674413388067,176486674413388068,176486674413388069,176486674413388070,176486674413388071,176486674413388072,176486674413388073,176486674413388074,176486674413388075,176486674413388076,176486674413388077,176486674413388078,176486674413388079,176486674413388080,176486674413388081,176486674413388082,176486674413388083,176486674413388084,176486674413388085,176486674413388086,176486674413388087,176486674413388088,176486674413388089,176486674413388090,176486674413388091,176486674413388092,176486674413388093]},\"selected\":{\"id\":\"3641\",\"type\":\"Selection\"},\"selection_policy\":{\"id\":\"3642\",\"type\":\"UnionRenderers\"}},\"id\":\"3554\",\"type\":\"ColumnDataSource\"},{\"attributes\":{\"overlay\":{\"id\":\"3649\",\"type\":\"BoxAnnotation\"}},\"id\":\"3615\",\"type\":\"BoxZoomTool\"},{\"attributes\":{\"axis_label\":\"R.A.\",\"formatter\":{\"id\":\"3634\",\"type\":\"BasicTickFormatter\"},\"ticker\":{\"id\":\"3568\",\"type\":\"BasicTicker\"}},\"id\":\"3567\",\"type\":\"LinearAxis\"},{\"attributes\":{\"callback\":null},\"id\":\"3597\",\"type\":\"DataRange1d\"},{\"attributes\":{\"source\":{\"id\":\"3554\",\"type\":\"ColumnDataSource\"}},\"id\":\"3632\",\"type\":\"CDSView\"},{\"attributes\":{\"callback\":null,\"tooltips\":[[\"(RA,DEC)\",\"(@ra, @dec)\"],[\"srcidx\",\"@srcidx\"]]},\"id\":\"3555\",\"type\":\"HoverTool\"},{\"attributes\":{\"callback\":null,\"overlay\":{\"id\":\"3650\",\"type\":\"BoxAnnotation\"}},\"id\":\"3616\",\"type\":\"BoxSelectTool\"},{\"attributes\":{},\"id\":\"3601\",\"type\":\"LinearScale\"},{\"attributes\":{},\"id\":\"3568\",\"type\":\"BasicTicker\"},{\"attributes\":{\"fill_color\":{\"value\":\"#1f77b4\"},\"line_color\":{\"value\":\"#1f77b4\"},\"x\":{\"field\":\"f\"},\"y\":{\"field\":\"df\"}},\"id\":\"3628\",\"type\":\"Circle\"},{\"attributes\":{},\"id\":\"3642\",\"type\":\"UnionRenderers\"},{\"attributes\":{\"callback\":null,\"overlay\":{\"id\":\"3651\",\"type\":\"PolyAnnotation\"}},\"id\":\"3617\",\"type\":\"LassoSelectTool\"},{\"attributes\":{\"ticker\":{\"id\":\"3568\",\"type\":\"BasicTicker\"}},\"id\":\"3571\",\"type\":\"Grid\"},{\"attributes\":{\"tools\":[{\"id\":\"3555\",\"type\":\"HoverTool\"},{\"id\":\"3577\",\"type\":\"BoxZoomTool\"},{\"id\":\"3578\",\"type\":\"BoxSelectTool\"},{\"id\":\"3579\",\"type\":\"LassoSelectTool\"},{\"id\":\"3580\",\"type\":\"ResetTool\"},{\"id\":\"3581\",\"type\":\"HelpTool\"},{\"id\":\"3556\",\"type\":\"HoverTool\"},{\"id\":\"3615\",\"type\":\"BoxZoomTool\"},{\"id\":\"3616\",\"type\":\"BoxSelectTool\"},{\"id\":\"3617\",\"type\":\"LassoSelectTool\"},{\"id\":\"3618\",\"type\":\"ResetTool\"},{\"id\":\"3619\",\"type\":\"HelpTool\"}]},\"id\":\"3656\",\"type\":\"ProxyToolbar\"},{\"attributes\":{},\"id\":\"3573\",\"type\":\"BasicTicker\"},{\"attributes\":{\"source\":{\"id\":\"3554\",\"type\":\"ColumnDataSource\"}},\"id\":\"3594\",\"type\":\"CDSView\"},{\"attributes\":{},\"id\":\"3618\",\"type\":\"ResetTool\"},{\"attributes\":{\"fill_alpha\":{\"value\":0.1},\"fill_color\":{\"value\":\"silver\"},\"line_alpha\":{\"value\":0.1},\"line_color\":{\"value\":\"silver\"},\"x\":{\"field\":\"f\"},\"y\":{\"field\":\"df\"}},\"id\":\"3629\",\"type\":\"Circle\"},{\"attributes\":{},\"id\":\"3641\",\"type\":\"Selection\"},{\"attributes\":{\"callback\":null},\"id\":\"3599\",\"type\":\"DataRange1d\"},{\"attributes\":{\"bottom_units\":\"screen\",\"fill_alpha\":{\"value\":0.5},\"fill_color\":{\"value\":\"lightgrey\"},\"left_units\":\"screen\",\"level\":\"overlay\",\"line_alpha\":{\"value\":1.0},\"line_color\":{\"value\":\"black\"},\"line_dash\":[4,4],\"line_width\":{\"value\":2},\"render_mode\":\"css\",\"right_units\":\"screen\",\"top_units\":\"screen\"},\"id\":\"3639\",\"type\":\"BoxAnnotation\"},{\"attributes\":{\"fill_alpha\":{\"value\":0.5},\"fill_color\":{\"value\":\"lightgrey\"},\"level\":\"overlay\",\"line_alpha\":{\"value\":1.0},\"line_color\":{\"value\":\"black\"},\"line_dash\":[4,4],\"line_width\":{\"value\":2},\"xs_units\":\"screen\",\"ys_units\":\"screen\"},\"id\":\"3651\",\"type\":\"PolyAnnotation\"},{\"attributes\":{},\"id\":\"3634\",\"type\":\"BasicTickFormatter\"},{\"attributes\":{\"fill_alpha\":{\"value\":0.5},\"fill_color\":{\"value\":\"lightgrey\"},\"level\":\"overlay\",\"line_alpha\":{\"value\":1.0},\"line_color\":{\"value\":\"black\"},\"line_dash\":[4,4],\"line_width\":{\"value\":2},\"xs_units\":\"screen\",\"ys_units\":\"screen\"},\"id\":\"3640\",\"type\":\"PolyAnnotation\"},{\"attributes\":{},\"id\":\"3645\",\"type\":\"BasicTickFormatter\"},{\"attributes\":{\"toolbar\":{\"id\":\"3656\",\"type\":\"ProxyToolbar\"},\"toolbar_location\":\"above\"},\"id\":\"3657\",\"type\":\"ToolbarBox\"},{\"attributes\":{},\"id\":\"3619\",\"type\":\"HelpTool\"},{\"attributes\":{\"fill_color\":{\"value\":\"steelblue\"},\"line_color\":{\"value\":\"steelblue\"},\"x\":{\"field\":\"f\"},\"y\":{\"field\":\"df\"}},\"id\":\"3630\",\"type\":\"Circle\"},{\"attributes\":{\"dimension\":1,\"ticker\":{\"id\":\"3573\",\"type\":\"BasicTicker\"}},\"id\":\"3576\",\"type\":\"Grid\"},{\"attributes\":{\"below\":[{\"id\":\"3605\",\"type\":\"LinearAxis\"}],\"center\":[{\"id\":\"3609\",\"type\":\"Grid\"},{\"id\":\"3614\",\"type\":\"Grid\"}],\"left\":[{\"id\":\"3610\",\"type\":\"LinearAxis\"}],\"plot_height\":300,\"plot_width\":300,\"renderers\":[{\"id\":\"3631\",\"type\":\"GlyphRenderer\"}],\"title\":null,\"toolbar\":{\"id\":\"3620\",\"type\":\"Toolbar\"},\"toolbar_location\":null,\"x_range\":{\"id\":\"3597\",\"type\":\"DataRange1d\"},\"x_scale\":{\"id\":\"3601\",\"type\":\"LinearScale\"},\"y_range\":{\"id\":\"3599\",\"type\":\"DataRange1d\"},\"y_scale\":{\"id\":\"3603\",\"type\":\"LinearScale\"}},\"id\":\"3595\",\"subtype\":\"Figure\",\"type\":\"Plot\"},{\"attributes\":{\"axis_label\":\"Dec.\",\"formatter\":{\"id\":\"3636\",\"type\":\"BasicTickFormatter\"},\"ticker\":{\"id\":\"3573\",\"type\":\"BasicTicker\"}},\"id\":\"3572\",\"type\":\"LinearAxis\"},{\"attributes\":{},\"id\":\"3603\",\"type\":\"LinearScale\"},{\"attributes\":{\"bottom_units\":\"screen\",\"fill_alpha\":{\"value\":0.5},\"fill_color\":{\"value\":\"lightgrey\"},\"left_units\":\"screen\",\"level\":\"overlay\",\"line_alpha\":{\"value\":1.0},\"line_color\":{\"value\":\"black\"},\"line_dash\":[4,4],\"line_width\":{\"value\":2},\"render_mode\":\"css\",\"right_units\":\"screen\",\"top_units\":\"screen\"},\"id\":\"3650\",\"type\":\"BoxAnnotation\"},{\"attributes\":{\"axis_label\":\"flux\",\"formatter\":{\"id\":\"3645\",\"type\":\"BasicTickFormatter\"},\"ticker\":{\"id\":\"3606\",\"type\":\"BasicTicker\"}},\"id\":\"3605\",\"type\":\"LinearAxis\"},{\"attributes\":{\"fill_color\":{\"value\":\"#1f77b4\"},\"line_color\":{\"value\":\"#1f77b4\"},\"x\":{\"field\":\"ra\"},\"y\":{\"field\":\"dec\"}},\"id\":\"3590\",\"type\":\"Circle\"},{\"attributes\":{\"fill_color\":{\"value\":\"steelblue\"},\"line_color\":{\"value\":\"steelblue\"},\"x\":{\"field\":\"ra\"},\"y\":{\"field\":\"dec\"}},\"id\":\"3592\",\"type\":\"Circle\"},{\"attributes\":{\"below\":[{\"id\":\"3567\",\"type\":\"LinearAxis\"}],\"center\":[{\"id\":\"3571\",\"type\":\"Grid\"},{\"id\":\"3576\",\"type\":\"Grid\"}],\"left\":[{\"id\":\"3572\",\"type\":\"LinearAxis\"}],\"plot_height\":300,\"plot_width\":300,\"renderers\":[{\"id\":\"3593\",\"type\":\"GlyphRenderer\"}],\"title\":null,\"toolbar\":{\"id\":\"3582\",\"type\":\"Toolbar\"},\"toolbar_location\":null,\"x_range\":{\"id\":\"3559\",\"type\":\"DataRange1d\"},\"x_scale\":{\"id\":\"3563\",\"type\":\"LinearScale\"},\"y_range\":{\"id\":\"3561\",\"type\":\"DataRange1d\"},\"y_scale\":{\"id\":\"3565\",\"type\":\"LinearScale\"}},\"id\":\"3557\",\"subtype\":\"Figure\",\"type\":\"Plot\"},{\"attributes\":{\"overlay\":{\"id\":\"3638\",\"type\":\"BoxAnnotation\"}},\"id\":\"3577\",\"type\":\"BoxZoomTool\"},{\"attributes\":{},\"id\":\"3636\",\"type\":\"BasicTickFormatter\"},{\"attributes\":{},\"id\":\"3611\",\"type\":\"BasicTicker\"},{\"attributes\":{\"fill_alpha\":{\"value\":0.1},\"fill_color\":{\"value\":\"silver\"},\"line_alpha\":{\"value\":0.1},\"line_color\":{\"value\":\"silver\"},\"x\":{\"field\":\"ra\"},\"y\":{\"field\":\"dec\"}},\"id\":\"3591\",\"type\":\"Circle\"},{\"attributes\":{},\"id\":\"3606\",\"type\":\"BasicTicker\"},{\"attributes\":{\"callback\":null,\"overlay\":{\"id\":\"3639\",\"type\":\"BoxAnnotation\"}},\"id\":\"3578\",\"type\":\"BoxSelectTool\"},{\"attributes\":{\"ticker\":{\"id\":\"3606\",\"type\":\"BasicTicker\"}},\"id\":\"3609\",\"type\":\"Grid\"},{\"attributes\":{\"callback\":null,\"overlay\":{\"id\":\"3640\",\"type\":\"PolyAnnotation\"}},\"id\":\"3579\",\"type\":\"LassoSelectTool\"},{\"attributes\":{\"callback\":null},\"id\":\"3559\",\"type\":\"DataRange1d\"},{\"attributes\":{},\"id\":\"3563\",\"type\":\"LinearScale\"},{\"attributes\":{\"dimension\":1,\"ticker\":{\"id\":\"3611\",\"type\":\"BasicTicker\"}},\"id\":\"3614\",\"type\":\"Grid\"},{\"attributes\":{},\"id\":\"3580\",\"type\":\"ResetTool\"},{\"attributes\":{\"callback\":null},\"id\":\"3561\",\"type\":\"DataRange1d\"},{\"attributes\":{\"axis_label\":\"fluxerr\",\"formatter\":{\"id\":\"3647\",\"type\":\"BasicTickFormatter\"},\"ticker\":{\"id\":\"3611\",\"type\":\"BasicTicker\"}},\"id\":\"3610\",\"type\":\"LinearAxis\"},{\"attributes\":{\"callback\":null,\"tooltips\":[[\"S/N\",\"@sn\"],[\"srcidx\",\"@srcidx\"]]},\"id\":\"3556\",\"type\":\"HoverTool\"},{\"attributes\":{\"bottom_units\":\"screen\",\"fill_alpha\":{\"value\":0.5},\"fill_color\":{\"value\":\"lightgrey\"},\"left_units\":\"screen\",\"level\":\"overlay\",\"line_alpha\":{\"value\":1.0},\"line_color\":{\"value\":\"black\"},\"line_dash\":[4,4],\"line_width\":{\"value\":2},\"render_mode\":\"css\",\"right_units\":\"screen\",\"top_units\":\"screen\"},\"id\":\"3649\",\"type\":\"BoxAnnotation\"},{\"attributes\":{},\"id\":\"3647\",\"type\":\"BasicTickFormatter\"},{\"attributes\":{\"data_source\":{\"id\":\"3554\",\"type\":\"ColumnDataSource\"},\"glyph\":{\"id\":\"3590\",\"type\":\"Circle\"},\"hover_glyph\":null,\"muted_glyph\":null,\"nonselection_glyph\":{\"id\":\"3591\",\"type\":\"Circle\"},\"selection_glyph\":{\"id\":\"3592\",\"type\":\"Circle\"},\"view\":{\"id\":\"3594\",\"type\":\"CDSView\"}},\"id\":\"3593\",\"type\":\"GlyphRenderer\"},{\"attributes\":{},\"id\":\"3581\",\"type\":\"HelpTool\"},{\"attributes\":{\"children\":[[{\"id\":\"3557\",\"subtype\":\"Figure\",\"type\":\"Plot\"},0,0],[{\"id\":\"3595\",\"subtype\":\"Figure\",\"type\":\"Plot\"},0,1]]},\"id\":\"3655\",\"type\":\"GridBox\"}],\"root_ids\":[\"3658\"]},\"title\":\"Bokeh Application\",\"version\":\"1.4.0\"}};\n",
       "  var render_items = [{\"docid\":\"e4a4c968-a86d-4ee6-b527-c74a00b72d06\",\"roots\":{\"3658\":\"1b59bdac-5459-49d2-b7e8-e06ba6d10947\"}}];\n",
       "  root.Bokeh.embed.embed_items_notebook(docs_json, render_items);\n",
       "\n",
       "  }\n",
       "  if (root.Bokeh !== undefined) {\n",
       "    embed_document(root);\n",
       "  } else {\n",
       "    var attempts = 0;\n",
       "    var timer = setInterval(function(root) {\n",
       "      if (root.Bokeh !== undefined) {\n",
       "        clearInterval(timer);\n",
       "        embed_document(root);\n",
       "      } else {\n",
       "        attempts++;\n",
       "        if (attempts > 100) {\n",
       "          clearInterval(timer);\n",
       "          console.log(\"Bokeh: ERROR: Unable to run BokehJS code because BokehJS library is missing\");\n",
       "        }\n",
       "      }\n",
       "    }, 10, root)\n",
       "  }\n",
       "})(window);"
      ],
      "application/vnd.bokehjs_exec.v0+json": ""
     },
     "metadata": {
      "application/vnd.bokehjs_exec.v0+json": {
       "id": "3658"
      }
     },
     "output_type": "display_data"
    }
   ],
   "source": [
    "TOOLS = \"box_zoom,box_select,lasso_select,reset\"\n",
    "\n",
    "# More attractive colors\n",
    "kwargs = {'selection_fill_color':'steelblue', \n",
    "          'selection_line_color': 'steelblue',\n",
    "          'nonselection_fill_color': 'silver', \n",
    "          'nonselection_line_color': 'silver'}\n",
    "\n",
    "# RA vs Dec\n",
    "left = figure(tools=TOOLS_LEFT, plot_width=300, plot_height=300, title=None)\n",
    "left.circle('ra', 'dec', source=plotdata, **kwargs)\n",
    "left.xaxis.axis_label = 'R.A.'\n",
    "left.yaxis.axis_label = 'Dec.'\n",
    "\n",
    "# Flux vs Fluxerr\n",
    "right = figure(tools=TOOLS_RIGHT, plot_width=300, plot_height=300, title=None)\n",
    "right.circle('f', 'df', source=plotdata, **kwargs)\n",
    "right.xaxis.axis_label = 'flux'\n",
    "right.yaxis.axis_label = 'fluxerr'\n",
    "#right.x_range= Range1d(-50, 2000)\n",
    "#right.y_range= Range1d(-50, 600)\n",
    "\n",
    "p = gridplot([[left, right]])\n",
    "\n",
    "show(p)"
   ]
  },
  {
   "cell_type": "code",
   "execution_count": 36,
   "metadata": {},
   "outputs": [
    {
     "data": {
      "text/plain": [
       "(array([  8,   9,  14,  15,  18,  27,  32,  35,  46,  62,  63,  78,  79,\n",
       "         80,  85,  88,  94,  95, 100, 101, 106, 112, 126]),)"
      ]
     },
     "execution_count": 36,
     "metadata": {},
     "output_type": "execute_result"
    }
   ],
   "source": [
    "# For now, just choose a random index, requiring that it has S/N > 10 (nice and bright, we hope?)\n",
    "ibright = np.where(sig2noise>10)[0]\n",
    "\n",
    "# pick the first source in the list of bright sources\n",
    "idx = ibright[0]"
   ]
  },
  {
   "cell_type": "markdown",
   "metadata": {},
   "source": [
    "## END OF SINGLE-EPOCH WORK\n",
    "\n",
    "Below here is where we work across epochs to make a light curve"
   ]
  },
  {
   "cell_type": "markdown",
   "metadata": {},
   "source": [
    "### TODO : figure out the RA,Dec of this object"
   ]
  },
  {
   "cell_type": "markdown",
   "metadata": {},
   "source": [
    "### TODO : find matching objects in the other diff images \n",
    " Actually, what we really want to do here is to force the construction of a new DIAObject catalog, using the diff images that now have fake PSFs planted into them.   This should be possible, but will require some digging to figure out exactly how.   Good extension of this StackClub project!!"
   ]
  },
  {
   "cell_type": "markdown",
   "metadata": {},
   "source": [
    "tip from Bryce Kalmbach: \n",
    "\n",
    "https://pipelines.lsst.io/py-api/lsst.afw.table.MultiMatch.html#lsst.afw.table.MultiMatch"
   ]
  },
  {
   "cell_type": "markdown",
   "metadata": {},
   "source": [
    "### TODO : Plot the light curves of objects from the DIAObject catalog"
   ]
  },
  {
   "cell_type": "code",
   "execution_count": null,
   "metadata": {},
   "outputs": [],
   "source": []
  }
 ],
 "metadata": {
  "kernelspec": {
   "display_name": "LSST",
   "language": "python",
   "name": "lsst"
  },
  "language_info": {
   "codemirror_mode": {
    "name": "ipython",
    "version": 3
   },
   "file_extension": ".py",
   "mimetype": "text/x-python",
   "name": "python",
   "nbconvert_exporter": "python",
   "pygments_lexer": "ipython3",
   "version": "3.7.6"
  }
 },
 "nbformat": 4,
 "nbformat_minor": 4
}
