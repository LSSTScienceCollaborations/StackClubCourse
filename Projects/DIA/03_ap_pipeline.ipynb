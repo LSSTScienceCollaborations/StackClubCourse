{
 "cells": [
  {
   "cell_type": "markdown",
   "metadata": {},
   "source": [
    "## Run difference imaging on HiTS 2015 dataset\n",
    "\n",
    "<br>Owner(s): **Weixiang Yu**\n",
    "<br>Last Verified to Run: **2020-06-26**\n",
    "<br>Verified Stack Release: **w_2020_24**\n",
    "\n",
    "This notebook assumes that the raw images, coadd template, reference catalogs are in place. Creating template/coadd images will be another topic which is not shown here. This notebook follows instructions proivded in the __ap.pipe__ [documentation](https://pipelines.lsst.io/modules/lsst.ap.pipe/index.html), LSST Stack [tutorial](https://pipelines.lsst.io/getting-started/index.html), and take uses of the __obs_decam__ [repo](https://github.com/lsst/obs_decam/blob/master/README.md) "
   ]
  },
  {
   "cell_type": "markdown",
   "metadata": {
    "slideshow": {
     "slide_type": "slide"
    }
   },
   "source": [
    "## Set-up\n",
    "\n",
    "You can find the Stack version that this notebook is running by using eups list -s on the terminal command line:"
   ]
  },
  {
   "cell_type": "code",
   "execution_count": 1,
   "metadata": {},
   "outputs": [
    {
     "name": "stdout",
     "output_type": "stream",
     "text": [
      "nb-wy73-w-2020-24\n",
      "   19.0.0-1-gc154f85+75 \tcurrent w_2020_24 setup\n"
     ]
    }
   ],
   "source": [
    "# What version of the Stack am I using?\n",
    "! echo $HOSTNAME\n",
    "! eups list lsst_distrib -s"
   ]
  },
  {
   "cell_type": "markdown",
   "metadata": {},
   "source": [
    "We will need the following packages"
   ]
  },
  {
   "cell_type": "code",
   "execution_count": 2,
   "metadata": {},
   "outputs": [],
   "source": [
    "import lsst.daf.persistence as dafPersist\n",
    "import lsst.afw.image as afwImage\n",
    "\n",
    "import numpy as np\n",
    "import pandas as pd\n",
    "import os\n",
    "import matplotlib.pyplot as plt\n",
    "import lsst.geom\n",
    "\n",
    "from astropy.coordinates import SkyCoord\n",
    "from astropy import units as u\n",
    "from astropy.time import Time\n",
    "\n",
    "#%matplotlib widget\n",
    "%matplotlib ipympl\n",
    "#%matplotlib inline"
   ]
  },
  {
   "cell_type": "code",
   "execution_count": 3,
   "metadata": {},
   "outputs": [],
   "source": [
    "import lsst.afw.display as afw_display\n",
    "afw_display.setDefaultBackend('matplotlib')"
   ]
  },
  {
   "cell_type": "markdown",
   "metadata": {},
   "source": [
    "## Create repo folder, injest/link data"
   ]
  },
  {
   "cell_type": "code",
   "execution_count": 4,
   "metadata": {},
   "outputs": [],
   "source": [
    "repo_dir = '/project/stack-club/course_data/DIA/repo'"
   ]
  },
  {
   "cell_type": "code",
   "execution_count": 14,
   "metadata": {},
   "outputs": [],
   "source": [
    "# create repo folder + specify the mapper\n",
    "!mkdir /project/stack-club/course_data/DIA/repo\n",
    "!echo \"lsst.obs.decam.DecamMapper\" > /project/stack-club/course_data/DIA/repo/_mapper"
   ]
  },
  {
   "cell_type": "code",
   "execution_count": 5,
   "metadata": {},
   "outputs": [
    {
     "name": "stdout",
     "output_type": "stream",
     "text": [
      "2015-02-17\n",
      "2015-02-18\n",
      "2015-02-19\n",
      "2015-02-20\n",
      "2015-02-21\n",
      "2015-02-22\n",
      "2015-02-24\n",
      "2015-02-27\n",
      "2015-03-08\n",
      "2015-03-09\n",
      "2015-03-14\n"
     ]
    }
   ],
   "source": [
    "# explore avaiable raw data\n",
    "!ls /project/mrawls/hits2015/ | grep \"2015-\""
   ]
  },
  {
   "cell_type": "code",
   "execution_count": 6,
   "metadata": {
    "scrolled": true
   },
   "outputs": [
    {
     "name": "stdout",
     "output_type": "stream",
     "text": [
      "root INFO: Loading config overrride file '/opt/lsst/software/stack/stack/miniconda3-4.7.12-1a1d771/Linux64/obs_decam/19.0.0-33-g3d323b8/config/ingest.py'\n",
      "CameraMapper INFO: Loading exposure registry from /project/stack-club/course_data/DIA/repo/registry.sqlite3\n",
      "ingest.register INFO: Table \"raw\" exists.  Skipping creation\n",
      "ingest INFO: /project/mrawls/hits2015/2015-02-17/g/decam0410915.fits.fz --<link>--> /project/stack-club/course_data/DIA/repo/2015-02-17/g/decam0410915.fits.fz\n",
      "ingest INFO: /project/mrawls/hits2015/2015-02-17/g/decam0410929.fits.fz --<link>--> /project/stack-club/course_data/DIA/repo/2015-02-17/g/decam0410929.fits.fz\n",
      "ingest INFO: /project/mrawls/hits2015/2015-02-17/g/decam0410931.fits.fz --<link>--> /project/stack-club/course_data/DIA/repo/2015-02-17/g/decam0410931.fits.fz\n",
      "ingest INFO: /project/mrawls/hits2015/2015-02-17/g/decam0410971.fits.fz --<link>--> /project/stack-club/course_data/DIA/repo/2015-02-17/g/decam0410971.fits.fz\n",
      "ingest INFO: /project/mrawls/hits2015/2015-02-17/g/decam0410985.fits.fz --<link>--> /project/stack-club/course_data/DIA/repo/2015-02-17/g/decam0410985.fits.fz\n",
      "ingest INFO: /project/mrawls/hits2015/2015-02-17/g/decam0410987.fits.fz --<link>--> /project/stack-club/course_data/DIA/repo/2015-02-17/g/decam0410987.fits.fz\n",
      "ingest INFO: /project/mrawls/hits2015/2015-02-17/g/decam0411021.fits.fz --<link>--> /project/stack-club/course_data/DIA/repo/2015-02-17/g/decam0411021.fits.fz\n",
      "ingest INFO: /project/mrawls/hits2015/2015-02-17/g/decam0411035.fits.fz --<link>--> /project/stack-club/course_data/DIA/repo/2015-02-17/g/decam0411035.fits.fz\n",
      "ingest INFO: /project/mrawls/hits2015/2015-02-17/g/decam0411037.fits.fz --<link>--> /project/stack-club/course_data/DIA/repo/2015-02-17/g/decam0411037.fits.fz\n",
      "ingest INFO: /project/mrawls/hits2015/2015-02-17/g/decam0411055.fits.fz --<link>--> /project/stack-club/course_data/DIA/repo/2015-02-17/g/decam0411055.fits.fz\n",
      "ingest INFO: /project/mrawls/hits2015/2015-02-17/g/decam0411069.fits.fz --<link>--> /project/stack-club/course_data/DIA/repo/2015-02-17/g/decam0411069.fits.fz\n",
      "ingest INFO: /project/mrawls/hits2015/2015-02-17/g/decam0411071.fits.fz --<link>--> /project/stack-club/course_data/DIA/repo/2015-02-17/g/decam0411071.fits.fz\n",
      "ingest INFO: /project/mrawls/hits2015/2015-02-18/g/decam0411255.fits.fz --<link>--> /project/stack-club/course_data/DIA/repo/2015-02-18/g/decam0411255.fits.fz\n",
      "ingest INFO: /project/mrawls/hits2015/2015-02-18/g/decam0411269.fits.fz --<link>--> /project/stack-club/course_data/DIA/repo/2015-02-18/g/decam0411269.fits.fz\n",
      "ingest INFO: /project/mrawls/hits2015/2015-02-18/g/decam0411271.fits.fz --<link>--> /project/stack-club/course_data/DIA/repo/2015-02-18/g/decam0411271.fits.fz\n",
      "ingest INFO: /project/mrawls/hits2015/2015-02-18/g/decam0411305.fits.fz --<link>--> /project/stack-club/course_data/DIA/repo/2015-02-18/g/decam0411305.fits.fz\n",
      "ingest INFO: /project/mrawls/hits2015/2015-02-18/g/decam0411319.fits.fz --<link>--> /project/stack-club/course_data/DIA/repo/2015-02-18/g/decam0411319.fits.fz\n",
      "ingest INFO: /project/mrawls/hits2015/2015-02-18/g/decam0411321.fits.fz --<link>--> /project/stack-club/course_data/DIA/repo/2015-02-18/g/decam0411321.fits.fz\n",
      "ingest INFO: /project/mrawls/hits2015/2015-02-18/g/decam0411355.fits.fz --<link>--> /project/stack-club/course_data/DIA/repo/2015-02-18/g/decam0411355.fits.fz\n",
      "ingest INFO: /project/mrawls/hits2015/2015-02-18/g/decam0411369.fits.fz --<link>--> /project/stack-club/course_data/DIA/repo/2015-02-18/g/decam0411369.fits.fz\n",
      "ingest INFO: /project/mrawls/hits2015/2015-02-18/g/decam0411371.fits.fz --<link>--> /project/stack-club/course_data/DIA/repo/2015-02-18/g/decam0411371.fits.fz\n",
      "ingest INFO: /project/mrawls/hits2015/2015-02-18/g/decam0411406.fits.fz --<link>--> /project/stack-club/course_data/DIA/repo/2015-02-18/g/decam0411406.fits.fz\n",
      "ingest INFO: /project/mrawls/hits2015/2015-02-18/g/decam0411420.fits.fz --<link>--> /project/stack-club/course_data/DIA/repo/2015-02-18/g/decam0411420.fits.fz\n",
      "ingest INFO: /project/mrawls/hits2015/2015-02-18/g/decam0411422.fits.fz --<link>--> /project/stack-club/course_data/DIA/repo/2015-02-18/g/decam0411422.fits.fz\n",
      "ingest INFO: /project/mrawls/hits2015/2015-02-18/g/decam0411456.fits.fz --<link>--> /project/stack-club/course_data/DIA/repo/2015-02-18/g/decam0411456.fits.fz\n",
      "ingest INFO: /project/mrawls/hits2015/2015-02-18/g/decam0411470.fits.fz --<link>--> /project/stack-club/course_data/DIA/repo/2015-02-18/g/decam0411470.fits.fz\n",
      "ingest INFO: /project/mrawls/hits2015/2015-02-18/g/decam0411472.fits.fz --<link>--> /project/stack-club/course_data/DIA/repo/2015-02-18/g/decam0411472.fits.fz\n",
      "ingest INFO: /project/mrawls/hits2015/2015-02-19/g/decam0411657.fits.fz --<link>--> /project/stack-club/course_data/DIA/repo/2015-02-19/g/decam0411657.fits.fz\n",
      "ingest INFO: /project/mrawls/hits2015/2015-02-19/g/decam0411671.fits.fz --<link>--> /project/stack-club/course_data/DIA/repo/2015-02-19/g/decam0411671.fits.fz\n",
      "ingest INFO: /project/mrawls/hits2015/2015-02-19/g/decam0411673.fits.fz --<link>--> /project/stack-club/course_data/DIA/repo/2015-02-19/g/decam0411673.fits.fz\n",
      "ingest INFO: /project/mrawls/hits2015/2015-02-19/g/decam0411707.fits.fz --<link>--> /project/stack-club/course_data/DIA/repo/2015-02-19/g/decam0411707.fits.fz\n",
      "ingest INFO: /project/mrawls/hits2015/2015-02-19/g/decam0411721.fits.fz --<link>--> /project/stack-club/course_data/DIA/repo/2015-02-19/g/decam0411721.fits.fz\n",
      "ingest INFO: /project/mrawls/hits2015/2015-02-19/g/decam0411724.fits.fz --<link>--> /project/stack-club/course_data/DIA/repo/2015-02-19/g/decam0411724.fits.fz\n",
      "ingest INFO: /project/mrawls/hits2015/2015-02-19/g/decam0411758.fits.fz --<link>--> /project/stack-club/course_data/DIA/repo/2015-02-19/g/decam0411758.fits.fz\n",
      "ingest INFO: /project/mrawls/hits2015/2015-02-19/g/decam0411772.fits.fz --<link>--> /project/stack-club/course_data/DIA/repo/2015-02-19/g/decam0411772.fits.fz\n",
      "ingest INFO: /project/mrawls/hits2015/2015-02-19/g/decam0411774.fits.fz --<link>--> /project/stack-club/course_data/DIA/repo/2015-02-19/g/decam0411774.fits.fz\n",
      "ingest INFO: /project/mrawls/hits2015/2015-02-19/g/decam0411808.fits.fz --<link>--> /project/stack-club/course_data/DIA/repo/2015-02-19/g/decam0411808.fits.fz\n",
      "ingest INFO: /project/mrawls/hits2015/2015-02-19/g/decam0411822.fits.fz --<link>--> /project/stack-club/course_data/DIA/repo/2015-02-19/g/decam0411822.fits.fz\n",
      "ingest INFO: /project/mrawls/hits2015/2015-02-19/g/decam0411824.fits.fz --<link>--> /project/stack-club/course_data/DIA/repo/2015-02-19/g/decam0411824.fits.fz\n",
      "ingest INFO: /project/mrawls/hits2015/2015-02-19/g/decam0411858.fits.fz --<link>--> /project/stack-club/course_data/DIA/repo/2015-02-19/g/decam0411858.fits.fz\n",
      "ingest INFO: /project/mrawls/hits2015/2015-02-19/g/decam0411872.fits.fz --<link>--> /project/stack-club/course_data/DIA/repo/2015-02-19/g/decam0411872.fits.fz\n",
      "ingest INFO: /project/mrawls/hits2015/2015-02-19/g/decam0411874.fits.fz --<link>--> /project/stack-club/course_data/DIA/repo/2015-02-19/g/decam0411874.fits.fz\n",
      "ingest INFO: /project/mrawls/hits2015/2015-02-20/g/decam0412060.fits.fz --<link>--> /project/stack-club/course_data/DIA/repo/2015-02-20/g/decam0412060.fits.fz\n",
      "ingest INFO: /project/mrawls/hits2015/2015-02-20/g/decam0412074.fits.fz --<link>--> /project/stack-club/course_data/DIA/repo/2015-02-20/g/decam0412074.fits.fz\n",
      "ingest INFO: /project/mrawls/hits2015/2015-02-20/g/decam0412076.fits.fz --<link>--> /project/stack-club/course_data/DIA/repo/2015-02-20/g/decam0412076.fits.fz\n",
      "ingest INFO: /project/mrawls/hits2015/2015-02-21/g/decam0412250.fits.fz --<link>--> /project/stack-club/course_data/DIA/repo/2015-02-21/g/decam0412250.fits.fz\n",
      "ingest INFO: /project/mrawls/hits2015/2015-02-21/g/decam0412264.fits.fz --<link>--> /project/stack-club/course_data/DIA/repo/2015-02-21/g/decam0412264.fits.fz\n",
      "ingest INFO: /project/mrawls/hits2015/2015-02-21/g/decam0412266.fits.fz --<link>--> /project/stack-club/course_data/DIA/repo/2015-02-21/g/decam0412266.fits.fz\n",
      "ingest INFO: /project/mrawls/hits2015/2015-02-21/g/decam0412307.fits.fz --<link>--> /project/stack-club/course_data/DIA/repo/2015-02-21/g/decam0412307.fits.fz\n",
      "ingest INFO: /project/mrawls/hits2015/2015-02-21/g/decam0412321.fits.fz --<link>--> /project/stack-club/course_data/DIA/repo/2015-02-21/g/decam0412321.fits.fz\n",
      "ingest INFO: /project/mrawls/hits2015/2015-02-21/g/decam0412324.fits.fz --<link>--> /project/stack-club/course_data/DIA/repo/2015-02-21/g/decam0412324.fits.fz\n",
      "ingest INFO: /project/mrawls/hits2015/2015-02-22/g/decam0412504.fits.fz --<link>--> /project/stack-club/course_data/DIA/repo/2015-02-22/g/decam0412504.fits.fz\n",
      "ingest INFO: /project/mrawls/hits2015/2015-02-22/g/decam0412518.fits.fz --<link>--> /project/stack-club/course_data/DIA/repo/2015-02-22/g/decam0412518.fits.fz\n",
      "ingest INFO: /project/mrawls/hits2015/2015-02-22/g/decam0412520.fits.fz --<link>--> /project/stack-club/course_data/DIA/repo/2015-02-22/g/decam0412520.fits.fz\n",
      "ingest INFO: /project/mrawls/hits2015/2015-02-22/g/decam0412554.fits.fz --<link>--> /project/stack-club/course_data/DIA/repo/2015-02-22/g/decam0412554.fits.fz\n",
      "ingest INFO: /project/mrawls/hits2015/2015-02-22/g/decam0412568.fits.fz --<link>--> /project/stack-club/course_data/DIA/repo/2015-02-22/g/decam0412568.fits.fz\n",
      "ingest INFO: /project/mrawls/hits2015/2015-02-22/g/decam0412570.fits.fz --<link>--> /project/stack-club/course_data/DIA/repo/2015-02-22/g/decam0412570.fits.fz\n",
      "ingest INFO: /project/mrawls/hits2015/2015-02-22/g/decam0412604.fits.fz --<link>--> /project/stack-club/course_data/DIA/repo/2015-02-22/g/decam0412604.fits.fz\n",
      "ingest INFO: /project/mrawls/hits2015/2015-02-22/g/decam0412618.fits.fz --<link>--> /project/stack-club/course_data/DIA/repo/2015-02-22/g/decam0412618.fits.fz\n",
      "ingest INFO: /project/mrawls/hits2015/2015-02-22/g/decam0412620.fits.fz --<link>--> /project/stack-club/course_data/DIA/repo/2015-02-22/g/decam0412620.fits.fz\n",
      "ingest INFO: /project/mrawls/hits2015/2015-02-22/g/decam0412654.fits.fz --<link>--> /project/stack-club/course_data/DIA/repo/2015-02-22/g/decam0412654.fits.fz\n",
      "ingest INFO: /project/mrawls/hits2015/2015-02-22/g/decam0412668.fits.fz --<link>--> /project/stack-club/course_data/DIA/repo/2015-02-22/g/decam0412668.fits.fz\n",
      "ingest INFO: /project/mrawls/hits2015/2015-02-22/g/decam0412670.fits.fz --<link>--> /project/stack-club/course_data/DIA/repo/2015-02-22/g/decam0412670.fits.fz\n",
      "ingest INFO: /project/mrawls/hits2015/2015-02-22/g/decam0412704.fits.fz --<link>--> /project/stack-club/course_data/DIA/repo/2015-02-22/g/decam0412704.fits.fz\n",
      "ingest INFO: /project/mrawls/hits2015/2015-02-22/g/decam0412718.fits.fz --<link>--> /project/stack-club/course_data/DIA/repo/2015-02-22/g/decam0412718.fits.fz\n",
      "ingest INFO: /project/mrawls/hits2015/2015-02-22/g/decam0412720.fits.fz --<link>--> /project/stack-club/course_data/DIA/repo/2015-02-22/g/decam0412720.fits.fz\n",
      "ingest INFO: /project/mrawls/hits2015/2015-02-24/g/decam0413635.fits.fz --<link>--> /project/stack-club/course_data/DIA/repo/2015-02-24/g/decam0413635.fits.fz\n",
      "ingest INFO: /project/mrawls/hits2015/2015-02-24/g/decam0413649.fits.fz --<link>--> /project/stack-club/course_data/DIA/repo/2015-02-24/g/decam0413649.fits.fz\n",
      "ingest INFO: /project/mrawls/hits2015/2015-02-24/g/decam0413651.fits.fz --<link>--> /project/stack-club/course_data/DIA/repo/2015-02-24/g/decam0413651.fits.fz\n",
      "ingest INFO: /project/mrawls/hits2015/2015-02-24/g/decam0413680.fits.fz --<link>--> /project/stack-club/course_data/DIA/repo/2015-02-24/g/decam0413680.fits.fz\n",
      "ingest INFO: /project/mrawls/hits2015/2015-02-24/g/decam0413694.fits.fz --<link>--> /project/stack-club/course_data/DIA/repo/2015-02-24/g/decam0413694.fits.fz\n",
      "ingest INFO: /project/mrawls/hits2015/2015-02-24/g/decam0413696.fits.fz --<link>--> /project/stack-club/course_data/DIA/repo/2015-02-24/g/decam0413696.fits.fz\n",
      "ingest INFO: /project/mrawls/hits2015/2015-02-27/g/decam0415314.fits.fz --<link>--> /project/stack-club/course_data/DIA/repo/2015-02-27/g/decam0415314.fits.fz\n",
      "ingest INFO: /project/mrawls/hits2015/2015-02-27/g/decam0415328.fits.fz --<link>--> /project/stack-club/course_data/DIA/repo/2015-02-27/g/decam0415328.fits.fz\n",
      "ingest INFO: /project/mrawls/hits2015/2015-02-27/g/decam0415330.fits.fz --<link>--> /project/stack-club/course_data/DIA/repo/2015-02-27/g/decam0415330.fits.fz\n",
      "ingest INFO: /project/mrawls/hits2015/2015-02-27/g/decam0415364.fits.fz --<link>--> /project/stack-club/course_data/DIA/repo/2015-02-27/g/decam0415364.fits.fz\n",
      "ingest INFO: /project/mrawls/hits2015/2015-02-27/g/decam0415378.fits.fz --<link>--> /project/stack-club/course_data/DIA/repo/2015-02-27/g/decam0415378.fits.fz\n",
      "ingest INFO: /project/mrawls/hits2015/2015-02-27/g/decam0415380.fits.fz --<link>--> /project/stack-club/course_data/DIA/repo/2015-02-27/g/decam0415380.fits.fz\n",
      "ingest INFO: /project/mrawls/hits2015/2015-03-09/g/decam0419791.fits.fz --<link>--> /project/stack-club/course_data/DIA/repo/2015-03-09/g/decam0419791.fits.fz\n",
      "ingest INFO: /project/mrawls/hits2015/2015-03-09/g/decam0419802.fits.fz --<link>--> /project/stack-club/course_data/DIA/repo/2015-03-09/g/decam0419802.fits.fz\n",
      "ingest INFO: /project/mrawls/hits2015/2015-03-09/g/decam0419804.fits.fz --<link>--> /project/stack-club/course_data/DIA/repo/2015-03-09/g/decam0419804.fits.fz\n",
      "ingest INFO: /project/mrawls/hits2015/2015-03-14/g/decam0421590.fits.fz --<link>--> /project/stack-club/course_data/DIA/repo/2015-03-14/g/decam0421590.fits.fz\n",
      "ingest INFO: /project/mrawls/hits2015/2015-03-14/g/decam0421604.fits.fz --<link>--> /project/stack-club/course_data/DIA/repo/2015-03-14/g/decam0421604.fits.fz\n",
      "ingest INFO: /project/mrawls/hits2015/2015-03-14/g/decam0421606.fits.fz --<link>--> /project/stack-club/course_data/DIA/repo/2015-03-14/g/decam0421606.fits.fz\n"
     ]
    }
   ],
   "source": [
    "# ingest raw data\n",
    "raw_args = repo_dir + \" --filetype raw \"+\\\n",
    "            \"/project/mrawls/hits2015/2015*/g/*.fits.fz \"+\\\n",
    "            \"--mode=link\"\n",
    "!ingestImagesDecam.py {raw_args}"
   ]
  },
  {
   "cell_type": "code",
   "execution_count": 23,
   "metadata": {},
   "outputs": [],
   "source": [
    "# injest calibration info -> create dir\n",
    "calib_dir = os.path.join(repo_dir, 'calibs')\n",
    "os.mkdir(calib_dir)"
   ]
  },
  {
   "cell_type": "code",
   "execution_count": 28,
   "metadata": {
    "scrolled": true
   },
   "outputs": [
    {
     "name": "stdout",
     "output_type": "stream",
     "text": [
      "root INFO: Loading config overrride file '/opt/lsst/software/stack/stack/miniconda3-4.7.12-1a1d771/Linux64/obs_decam/19.0.0-33-g3d323b8/config/ingestCalibs.py'\n",
      "CameraMapper INFO: Loading exposure registry from /project/stack-club/course_data/DIA/repo/registry.sqlite3\n",
      "CameraMapper INFO: Loading calib registry from /project/stack-club/course_data/DIA/repo/calibs/calibRegistry.sqlite3\n",
      "ingestCalibs.register INFO: Table \"bias\" exists.  Skipping creation\n",
      "ingestCalibs.register INFO: Table \"flat\" exists.  Skipping creation\n",
      "ingestCalibs.register INFO: Table \"fringe\" exists.  Skipping creation\n",
      "ingestCalibs.register INFO: Table \"dark\" exists.  Skipping creation\n",
      "ingestCalibs.register INFO: Table \"illumcor\" exists.  Skipping creation\n",
      "ingestCalibs INFO: /project/mrawls/hits2015/calib6/cpBIAS/2015-02-16/BIAS-2015-02-16.fits --<link>--> /project/stack-club/course_data/DIA/repo/calibs/cpBIAS/2015-02-16/BIAS-2015-02-16.fits\n",
      "ingestCalibs INFO: /project/mrawls/hits2015/calib6/cpBIAS/2015-02-17/BIAS-2015-02-17.fits --<link>--> /project/stack-club/course_data/DIA/repo/calibs/cpBIAS/2015-02-17/BIAS-2015-02-17.fits\n",
      "ingestCalibs INFO: /project/mrawls/hits2015/calib6/cpBIAS/2015-02-18/BIAS-2015-02-18.fits --<link>--> /project/stack-club/course_data/DIA/repo/calibs/cpBIAS/2015-02-18/BIAS-2015-02-18.fits\n",
      "ingestCalibs INFO: /project/mrawls/hits2015/calib6/cpBIAS/2015-02-19/BIAS-2015-02-19.fits --<link>--> /project/stack-club/course_data/DIA/repo/calibs/cpBIAS/2015-02-19/BIAS-2015-02-19.fits\n",
      "ingestCalibs INFO: /project/mrawls/hits2015/calib6/cpBIAS/2015-02-20/BIAS-2015-02-20.fits --<link>--> /project/stack-club/course_data/DIA/repo/calibs/cpBIAS/2015-02-20/BIAS-2015-02-20.fits\n",
      "ingestCalibs INFO: /project/mrawls/hits2015/calib6/cpBIAS/2015-02-21/BIAS-2015-02-21.fits --<link>--> /project/stack-club/course_data/DIA/repo/calibs/cpBIAS/2015-02-21/BIAS-2015-02-21.fits\n",
      "ingestCalibs INFO: /project/mrawls/hits2015/calib6/cpBIAS/2015-02-23/BIAS-2015-02-23.fits --<link>--> /project/stack-club/course_data/DIA/repo/calibs/cpBIAS/2015-02-23/BIAS-2015-02-23.fits\n",
      "ingestCalibs INFO: /project/mrawls/hits2015/calib6/cpBIAS/2015-02-26/BIAS-2015-02-26.fits --<link>--> /project/stack-club/course_data/DIA/repo/calibs/cpBIAS/2015-02-26/BIAS-2015-02-26.fits\n",
      "ingestCalibs INFO: /project/mrawls/hits2015/calib6/cpBIAS/2015-03-13/BIAS-2015-03-13.fits --<link>--> /project/stack-club/course_data/DIA/repo/calibs/cpBIAS/2015-03-13/BIAS-2015-03-13.fits\n"
     ]
    }
   ],
   "source": [
    "calib_args1 = repo_dir + \" --calib \" + calib_dir + \" \"\\\n",
    "        \"/project/mrawls/hits2015/calib6/cpBIAS/*/BIAS*.fits \" + \\\n",
    "        \"--validity 999 --mode=link\"\n",
    "\n",
    "!ingestCalibs.py {calib_args1}"
   ]
  },
  {
   "cell_type": "code",
   "execution_count": 29,
   "metadata": {
    "scrolled": true
   },
   "outputs": [
    {
     "name": "stdout",
     "output_type": "stream",
     "text": [
      "root INFO: Loading config overrride file '/opt/lsst/software/stack/stack/miniconda3-4.7.12-1a1d771/Linux64/obs_decam/19.0.0-33-g3d323b8/config/ingestCalibs.py'\n",
      "CameraMapper INFO: Loading exposure registry from /project/stack-club/course_data/DIA/repo/registry.sqlite3\n",
      "CameraMapper INFO: Loading calib registry from /project/stack-club/course_data/DIA/repo/calibs/calibRegistry.sqlite3\n",
      "ingestCalibs.register INFO: Table \"bias\" exists.  Skipping creation\n",
      "ingestCalibs.register INFO: Table \"flat\" exists.  Skipping creation\n",
      "ingestCalibs.register INFO: Table \"fringe\" exists.  Skipping creation\n",
      "ingestCalibs.register INFO: Table \"dark\" exists.  Skipping creation\n",
      "ingestCalibs.register INFO: Table \"illumcor\" exists.  Skipping creation\n",
      "ingestCalibs INFO: /project/mrawls/hits2015/calib6/cpFLAT/2015-02-16/g/FLAT-2015-02-16.fits --<link>--> /project/stack-club/course_data/DIA/repo/calibs/cpFLAT/2015-02-16/g/FLAT-2015-02-16.fits\n",
      "ingestCalibs INFO: /project/mrawls/hits2015/calib6/cpFLAT/2015-02-16/i/FLAT-2015-02-16.fits --<link>--> /project/stack-club/course_data/DIA/repo/calibs/cpFLAT/2015-02-16/i/FLAT-2015-02-16.fits\n",
      "ingestCalibs INFO: /project/mrawls/hits2015/calib6/cpFLAT/2015-02-16/r/FLAT-2015-02-16.fits --<link>--> /project/stack-club/course_data/DIA/repo/calibs/cpFLAT/2015-02-16/r/FLAT-2015-02-16.fits\n",
      "ingestCalibs INFO: /project/mrawls/hits2015/calib6/cpFLAT/2015-02-16/u/FLAT-2015-02-16.fits --<link>--> /project/stack-club/course_data/DIA/repo/calibs/cpFLAT/2015-02-16/u/FLAT-2015-02-16.fits\n",
      "ingestCalibs INFO: /project/mrawls/hits2015/calib6/cpFLAT/2015-02-16/VR/FLAT-2015-02-16.fits --<link>--> /project/stack-club/course_data/DIA/repo/calibs/cpFLAT/2015-02-16/VR/FLAT-2015-02-16.fits\n",
      "ingestCalibs INFO: /project/mrawls/hits2015/calib6/cpFLAT/2015-02-16/Y/FLAT-2015-02-16.fits --<link>--> /project/stack-club/course_data/DIA/repo/calibs/cpFLAT/2015-02-16/Y/FLAT-2015-02-16.fits\n",
      "ingestCalibs INFO: /project/mrawls/hits2015/calib6/cpFLAT/2015-02-16/z/FLAT-2015-02-16.fits --<link>--> /project/stack-club/course_data/DIA/repo/calibs/cpFLAT/2015-02-16/z/FLAT-2015-02-16.fits\n",
      "ingestCalibs INFO: /project/mrawls/hits2015/calib6/cpFLAT/2015-02-17/g/FLAT-2015-02-17.fits --<link>--> /project/stack-club/course_data/DIA/repo/calibs/cpFLAT/2015-02-17/g/FLAT-2015-02-17.fits\n",
      "ingestCalibs INFO: /project/mrawls/hits2015/calib6/cpFLAT/2015-02-17/i/FLAT-2015-02-17.fits --<link>--> /project/stack-club/course_data/DIA/repo/calibs/cpFLAT/2015-02-17/i/FLAT-2015-02-17.fits\n",
      "ingestCalibs INFO: /project/mrawls/hits2015/calib6/cpFLAT/2015-02-17/r/FLAT-2015-02-17.fits --<link>--> /project/stack-club/course_data/DIA/repo/calibs/cpFLAT/2015-02-17/r/FLAT-2015-02-17.fits\n",
      "ingestCalibs INFO: /project/mrawls/hits2015/calib6/cpFLAT/2015-02-17/u/FLAT-2015-02-17.fits --<link>--> /project/stack-club/course_data/DIA/repo/calibs/cpFLAT/2015-02-17/u/FLAT-2015-02-17.fits\n",
      "ingestCalibs INFO: /project/mrawls/hits2015/calib6/cpFLAT/2015-02-17/VR/FLAT-2015-02-17.fits --<link>--> /project/stack-club/course_data/DIA/repo/calibs/cpFLAT/2015-02-17/VR/FLAT-2015-02-17.fits\n",
      "ingestCalibs INFO: /project/mrawls/hits2015/calib6/cpFLAT/2015-02-17/Y/FLAT-2015-02-17.fits --<link>--> /project/stack-club/course_data/DIA/repo/calibs/cpFLAT/2015-02-17/Y/FLAT-2015-02-17.fits\n",
      "ingestCalibs INFO: /project/mrawls/hits2015/calib6/cpFLAT/2015-02-17/z/FLAT-2015-02-17.fits --<link>--> /project/stack-club/course_data/DIA/repo/calibs/cpFLAT/2015-02-17/z/FLAT-2015-02-17.fits\n",
      "ingestCalibs INFO: /project/mrawls/hits2015/calib6/cpFLAT/2015-02-18/g/FLAT-2015-02-18.fits --<link>--> /project/stack-club/course_data/DIA/repo/calibs/cpFLAT/2015-02-18/g/FLAT-2015-02-18.fits\n",
      "ingestCalibs INFO: /project/mrawls/hits2015/calib6/cpFLAT/2015-02-18/i/FLAT-2015-02-18.fits --<link>--> /project/stack-club/course_data/DIA/repo/calibs/cpFLAT/2015-02-18/i/FLAT-2015-02-18.fits\n",
      "ingestCalibs INFO: /project/mrawls/hits2015/calib6/cpFLAT/2015-02-18/r/FLAT-2015-02-18.fits --<link>--> /project/stack-club/course_data/DIA/repo/calibs/cpFLAT/2015-02-18/r/FLAT-2015-02-18.fits\n",
      "ingestCalibs INFO: /project/mrawls/hits2015/calib6/cpFLAT/2015-02-18/u/FLAT-2015-02-18.fits --<link>--> /project/stack-club/course_data/DIA/repo/calibs/cpFLAT/2015-02-18/u/FLAT-2015-02-18.fits\n",
      "ingestCalibs INFO: /project/mrawls/hits2015/calib6/cpFLAT/2015-02-18/VR/FLAT-2015-02-18.fits --<link>--> /project/stack-club/course_data/DIA/repo/calibs/cpFLAT/2015-02-18/VR/FLAT-2015-02-18.fits\n",
      "ingestCalibs INFO: /project/mrawls/hits2015/calib6/cpFLAT/2015-02-18/Y/FLAT-2015-02-18.fits --<link>--> /project/stack-club/course_data/DIA/repo/calibs/cpFLAT/2015-02-18/Y/FLAT-2015-02-18.fits\n",
      "ingestCalibs INFO: /project/mrawls/hits2015/calib6/cpFLAT/2015-02-18/z/FLAT-2015-02-18.fits --<link>--> /project/stack-club/course_data/DIA/repo/calibs/cpFLAT/2015-02-18/z/FLAT-2015-02-18.fits\n",
      "ingestCalibs INFO: /project/mrawls/hits2015/calib6/cpFLAT/2015-02-19/g/FLAT-2015-02-19.fits --<link>--> /project/stack-club/course_data/DIA/repo/calibs/cpFLAT/2015-02-19/g/FLAT-2015-02-19.fits\n",
      "ingestCalibs INFO: /project/mrawls/hits2015/calib6/cpFLAT/2015-02-19/i/FLAT-2015-02-19.fits --<link>--> /project/stack-club/course_data/DIA/repo/calibs/cpFLAT/2015-02-19/i/FLAT-2015-02-19.fits\n",
      "ingestCalibs INFO: /project/mrawls/hits2015/calib6/cpFLAT/2015-02-19/r/FLAT-2015-02-19.fits --<link>--> /project/stack-club/course_data/DIA/repo/calibs/cpFLAT/2015-02-19/r/FLAT-2015-02-19.fits\n",
      "ingestCalibs INFO: /project/mrawls/hits2015/calib6/cpFLAT/2015-02-19/u/FLAT-2015-02-19.fits --<link>--> /project/stack-club/course_data/DIA/repo/calibs/cpFLAT/2015-02-19/u/FLAT-2015-02-19.fits\n",
      "ingestCalibs INFO: /project/mrawls/hits2015/calib6/cpFLAT/2015-02-19/VR/FLAT-2015-02-19.fits --<link>--> /project/stack-club/course_data/DIA/repo/calibs/cpFLAT/2015-02-19/VR/FLAT-2015-02-19.fits\n",
      "ingestCalibs INFO: /project/mrawls/hits2015/calib6/cpFLAT/2015-02-19/Y/FLAT-2015-02-19.fits --<link>--> /project/stack-club/course_data/DIA/repo/calibs/cpFLAT/2015-02-19/Y/FLAT-2015-02-19.fits\n",
      "ingestCalibs INFO: /project/mrawls/hits2015/calib6/cpFLAT/2015-02-19/z/FLAT-2015-02-19.fits --<link>--> /project/stack-club/course_data/DIA/repo/calibs/cpFLAT/2015-02-19/z/FLAT-2015-02-19.fits\n",
      "ingestCalibs INFO: /project/mrawls/hits2015/calib6/cpFLAT/2015-02-20/g/FLAT-2015-02-20.fits --<link>--> /project/stack-club/course_data/DIA/repo/calibs/cpFLAT/2015-02-20/g/FLAT-2015-02-20.fits\n",
      "ingestCalibs INFO: /project/mrawls/hits2015/calib6/cpFLAT/2015-02-20/i/FLAT-2015-02-20.fits --<link>--> /project/stack-club/course_data/DIA/repo/calibs/cpFLAT/2015-02-20/i/FLAT-2015-02-20.fits\n",
      "ingestCalibs INFO: /project/mrawls/hits2015/calib6/cpFLAT/2015-02-20/r/FLAT-2015-02-20.fits --<link>--> /project/stack-club/course_data/DIA/repo/calibs/cpFLAT/2015-02-20/r/FLAT-2015-02-20.fits\n",
      "ingestCalibs INFO: /project/mrawls/hits2015/calib6/cpFLAT/2015-02-20/u/FLAT-2015-02-20.fits --<link>--> /project/stack-club/course_data/DIA/repo/calibs/cpFLAT/2015-02-20/u/FLAT-2015-02-20.fits\n",
      "ingestCalibs INFO: /project/mrawls/hits2015/calib6/cpFLAT/2015-02-20/VR/FLAT-2015-02-20.fits --<link>--> /project/stack-club/course_data/DIA/repo/calibs/cpFLAT/2015-02-20/VR/FLAT-2015-02-20.fits\n",
      "ingestCalibs INFO: /project/mrawls/hits2015/calib6/cpFLAT/2015-02-20/Y/FLAT-2015-02-20.fits --<link>--> /project/stack-club/course_data/DIA/repo/calibs/cpFLAT/2015-02-20/Y/FLAT-2015-02-20.fits\n",
      "ingestCalibs INFO: /project/mrawls/hits2015/calib6/cpFLAT/2015-02-20/z/FLAT-2015-02-20.fits --<link>--> /project/stack-club/course_data/DIA/repo/calibs/cpFLAT/2015-02-20/z/FLAT-2015-02-20.fits\n",
      "ingestCalibs INFO: /project/mrawls/hits2015/calib6/cpFLAT/2015-02-21/g/FLAT-2015-02-21.fits --<link>--> /project/stack-club/course_data/DIA/repo/calibs/cpFLAT/2015-02-21/g/FLAT-2015-02-21.fits\n",
      "ingestCalibs INFO: /project/mrawls/hits2015/calib6/cpFLAT/2015-02-21/i/FLAT-2015-02-21.fits --<link>--> /project/stack-club/course_data/DIA/repo/calibs/cpFLAT/2015-02-21/i/FLAT-2015-02-21.fits\n",
      "ingestCalibs INFO: /project/mrawls/hits2015/calib6/cpFLAT/2015-02-21/r/FLAT-2015-02-21.fits --<link>--> /project/stack-club/course_data/DIA/repo/calibs/cpFLAT/2015-02-21/r/FLAT-2015-02-21.fits\n",
      "ingestCalibs INFO: /project/mrawls/hits2015/calib6/cpFLAT/2015-02-21/u/FLAT-2015-02-21.fits --<link>--> /project/stack-club/course_data/DIA/repo/calibs/cpFLAT/2015-02-21/u/FLAT-2015-02-21.fits\n",
      "ingestCalibs INFO: /project/mrawls/hits2015/calib6/cpFLAT/2015-02-21/VR/FLAT-2015-02-21.fits --<link>--> /project/stack-club/course_data/DIA/repo/calibs/cpFLAT/2015-02-21/VR/FLAT-2015-02-21.fits\n",
      "ingestCalibs INFO: /project/mrawls/hits2015/calib6/cpFLAT/2015-02-21/Y/FLAT-2015-02-21.fits --<link>--> /project/stack-club/course_data/DIA/repo/calibs/cpFLAT/2015-02-21/Y/FLAT-2015-02-21.fits\n",
      "ingestCalibs INFO: /project/mrawls/hits2015/calib6/cpFLAT/2015-02-21/z/FLAT-2015-02-21.fits --<link>--> /project/stack-club/course_data/DIA/repo/calibs/cpFLAT/2015-02-21/z/FLAT-2015-02-21.fits\n",
      "ingestCalibs INFO: /project/mrawls/hits2015/calib6/cpFLAT/2015-02-23/g/FLAT-2015-02-23.fits --<link>--> /project/stack-club/course_data/DIA/repo/calibs/cpFLAT/2015-02-23/g/FLAT-2015-02-23.fits\n",
      "ingestCalibs INFO: /project/mrawls/hits2015/calib6/cpFLAT/2015-02-23/i/FLAT-2015-02-23.fits --<link>--> /project/stack-club/course_data/DIA/repo/calibs/cpFLAT/2015-02-23/i/FLAT-2015-02-23.fits\n",
      "ingestCalibs INFO: /project/mrawls/hits2015/calib6/cpFLAT/2015-02-23/r/FLAT-2015-02-23.fits --<link>--> /project/stack-club/course_data/DIA/repo/calibs/cpFLAT/2015-02-23/r/FLAT-2015-02-23.fits\n",
      "ingestCalibs INFO: /project/mrawls/hits2015/calib6/cpFLAT/2015-02-23/u/FLAT-2015-02-23.fits --<link>--> /project/stack-club/course_data/DIA/repo/calibs/cpFLAT/2015-02-23/u/FLAT-2015-02-23.fits\n",
      "ingestCalibs INFO: /project/mrawls/hits2015/calib6/cpFLAT/2015-02-23/VR/FLAT-2015-02-23.fits --<link>--> /project/stack-club/course_data/DIA/repo/calibs/cpFLAT/2015-02-23/VR/FLAT-2015-02-23.fits\n",
      "ingestCalibs INFO: /project/mrawls/hits2015/calib6/cpFLAT/2015-02-23/Y/FLAT-2015-02-23.fits --<link>--> /project/stack-club/course_data/DIA/repo/calibs/cpFLAT/2015-02-23/Y/FLAT-2015-02-23.fits\n",
      "ingestCalibs INFO: /project/mrawls/hits2015/calib6/cpFLAT/2015-02-23/z/FLAT-2015-02-23.fits --<link>--> /project/stack-club/course_data/DIA/repo/calibs/cpFLAT/2015-02-23/z/FLAT-2015-02-23.fits\n",
      "ingestCalibs INFO: /project/mrawls/hits2015/calib6/cpFLAT/2015-02-26/g/FLAT-2015-02-26.fits --<link>--> /project/stack-club/course_data/DIA/repo/calibs/cpFLAT/2015-02-26/g/FLAT-2015-02-26.fits\n",
      "ingestCalibs INFO: /project/mrawls/hits2015/calib6/cpFLAT/2015-02-26/i/FLAT-2015-02-26.fits --<link>--> /project/stack-club/course_data/DIA/repo/calibs/cpFLAT/2015-02-26/i/FLAT-2015-02-26.fits\n",
      "ingestCalibs INFO: /project/mrawls/hits2015/calib6/cpFLAT/2015-02-26/r/FLAT-2015-02-26.fits --<link>--> /project/stack-club/course_data/DIA/repo/calibs/cpFLAT/2015-02-26/r/FLAT-2015-02-26.fits\n",
      "ingestCalibs INFO: /project/mrawls/hits2015/calib6/cpFLAT/2015-02-26/u/FLAT-2015-02-26.fits --<link>--> /project/stack-club/course_data/DIA/repo/calibs/cpFLAT/2015-02-26/u/FLAT-2015-02-26.fits\n",
      "ingestCalibs INFO: /project/mrawls/hits2015/calib6/cpFLAT/2015-02-26/VR/FLAT-2015-02-26.fits --<link>--> /project/stack-club/course_data/DIA/repo/calibs/cpFLAT/2015-02-26/VR/FLAT-2015-02-26.fits\n",
      "ingestCalibs INFO: /project/mrawls/hits2015/calib6/cpFLAT/2015-02-26/Y/FLAT-2015-02-26.fits --<link>--> /project/stack-club/course_data/DIA/repo/calibs/cpFLAT/2015-02-26/Y/FLAT-2015-02-26.fits\n",
      "ingestCalibs INFO: /project/mrawls/hits2015/calib6/cpFLAT/2015-02-26/z/FLAT-2015-02-26.fits --<link>--> /project/stack-club/course_data/DIA/repo/calibs/cpFLAT/2015-02-26/z/FLAT-2015-02-26.fits\n",
      "ingestCalibs INFO: /project/mrawls/hits2015/calib6/cpFLAT/2015-03-13/g/FLAT-2015-03-13.fits --<link>--> /project/stack-club/course_data/DIA/repo/calibs/cpFLAT/2015-03-13/g/FLAT-2015-03-13.fits\n",
      "ingestCalibs INFO: /project/mrawls/hits2015/calib6/cpFLAT/2015-03-13/i/FLAT-2015-03-13.fits --<link>--> /project/stack-club/course_data/DIA/repo/calibs/cpFLAT/2015-03-13/i/FLAT-2015-03-13.fits\n",
      "ingestCalibs INFO: /project/mrawls/hits2015/calib6/cpFLAT/2015-03-13/r/FLAT-2015-03-13.fits --<link>--> /project/stack-club/course_data/DIA/repo/calibs/cpFLAT/2015-03-13/r/FLAT-2015-03-13.fits\n",
      "ingestCalibs INFO: /project/mrawls/hits2015/calib6/cpFLAT/2015-03-13/u/FLAT-2015-03-13.fits --<link>--> /project/stack-club/course_data/DIA/repo/calibs/cpFLAT/2015-03-13/u/FLAT-2015-03-13.fits\n",
      "ingestCalibs INFO: /project/mrawls/hits2015/calib6/cpFLAT/2015-03-13/VR/FLAT-2015-03-13.fits --<link>--> /project/stack-club/course_data/DIA/repo/calibs/cpFLAT/2015-03-13/VR/FLAT-2015-03-13.fits\n",
      "ingestCalibs INFO: /project/mrawls/hits2015/calib6/cpFLAT/2015-03-13/Y/FLAT-2015-03-13.fits --<link>--> /project/stack-club/course_data/DIA/repo/calibs/cpFLAT/2015-03-13/Y/FLAT-2015-03-13.fits\n",
      "ingestCalibs INFO: /project/mrawls/hits2015/calib6/cpFLAT/2015-03-13/z/FLAT-2015-03-13.fits --<link>--> /project/stack-club/course_data/DIA/repo/calibs/cpFLAT/2015-03-13/z/FLAT-2015-03-13.fits\n"
     ]
    }
   ],
   "source": [
    "calib_args2 = repo_dir + \" --calib \" + calib_dir + \" \" +\\\n",
    "        \"/project/mrawls/hits2015/calib6/cpFLAT/*/*/FLAT*.fits \" + \\\n",
    "        \"--validity 999 --mode=link\"\n",
    "\n",
    "!ingestCalibs.py {calib_args2}"
   ]
  },
  {
   "cell_type": "code",
   "execution_count": 38,
   "metadata": {},
   "outputs": [
    {
     "name": "stdout",
     "output_type": "stream",
     "text": [
      "root INFO: Loading config overrride file '/opt/lsst/software/stack/stack/miniconda3-4.7.12-1a1d771/Linux64/obs_decam/19.0.0-33-g3d323b8/config/ingestCalibs.py'\n",
      "usage: ingestCalibs.py input [options]\n",
      "ingestCalibs.py: error: unrecognized arguments: --calibType\n"
     ]
    }
   ],
   "source": [
    "calib_args3 = repo_dir + \" --calib \" + calib_dir + \" \" +\\\n",
    "        \"--calibType defect \" +\\\n",
    "        \"/project/mrawls/hits2015/calib6/defects/*/*.fits \" + \\\n",
    "        \"--validity 0 --mode=skip\"\n",
    "\n",
    "!ingestCalibs.py {calib_args3}"
   ]
  },
  {
   "cell_type": "code",
   "execution_count": null,
   "metadata": {},
   "outputs": [],
   "source": []
  }
 ],
 "metadata": {
  "kernelspec": {
   "display_name": "LSST",
   "language": "python",
   "name": "lsst"
  },
  "language_info": {
   "codemirror_mode": {
    "name": "ipython",
    "version": 3
   },
   "file_extension": ".py",
   "mimetype": "text/x-python",
   "name": "python",
   "nbconvert_exporter": "python",
   "pygments_lexer": "ipython3",
   "version": "3.7.6"
  }
 },
 "nbformat": 4,
 "nbformat_minor": 4
}
