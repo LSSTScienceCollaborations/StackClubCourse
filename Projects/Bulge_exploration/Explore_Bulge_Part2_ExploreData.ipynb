{
 "cells": [
  {
   "cell_type": "markdown",
   "metadata": {},
   "source": [
    "# Bulge data exploration\n",
    "\n",
    "In Part A, we showed how to ingest raw DECam images and to process them. A processed data set is available at `/project/stack-club/course_data/DECAM_BULGE`. In this notebook we will use the Butler to explore the processed data. \n",
    "\n"
   ]
  },
  {
   "cell_type": "code",
   "execution_count": null,
   "metadata": {},
   "outputs": [],
   "source": [
    "# Make plots available to the notebook\n",
    "%matplotlib inline"
   ]
  },
  {
   "cell_type": "code",
   "execution_count": null,
   "metadata": {},
   "outputs": [],
   "source": [
    "import os\n",
    "import numpy as np\n",
    "import pandas as pd\n",
    "import matplotlib as mpl\n",
    "import matplotlib.pyplot as plt\n",
    "import lsst.daf.persistence as dafPersist\n",
    "import lsst.afw.table as afwTable\n",
    "import lsst.afw.display as afwDisplay\n",
    "from lsst.pipe.tasks.characterizeImage import CharacterizeImageTask, CharacterizeImageConfig\n",
    "from lsst.meas.algorithms import SourceDetectionTask, SourceDetectionConfig\n",
    "from lsst.meas.deblender               import SourceDeblendTask, SourceDeblendConfig\n",
    "from lsst.meas.base                    import SingleFrameMeasurementTask, SingleFrameMeasurementConfig\n",
    "from lsst.meas.base import NoiseReplacer, NoiseReplacerConfig\n",
    "import matplotlib\n",
    "import matplotlib.animation as animation\n",
    "from matplotlib.colors import LogNorm\n",
    "from IPython.display import IFrame, display, Markdown, HTML\n",
    "import lsst.meas.extensions.photometryKron\n",
    "import lsst.geom as lsstGeom\n",
    "\n",
    "afwDisplay.setDefaultBackend('matplotlib') \n",
    "\n",
    "matplotlib.rcParams[\"figure.figsize\"] = (8, 8)\n",
    "matplotlib.rcParams[\"font.size\"] = 12\n",
    "matplotlib.rcParams[\"figure.dpi\"] = 600\n"
   ]
  },
  {
   "cell_type": "code",
   "execution_count": null,
   "metadata": {},
   "outputs": [],
   "source": [
    "# Repo directory\n",
    "REPO_DIR = '/project/stack-club/course_data/DECAM_BULGE/' \n"
   ]
  },
  {
   "cell_type": "markdown",
   "metadata": {},
   "source": [
    "## After processing the images we can start with the butler and displaying images:"
   ]
  },
  {
   "cell_type": "code",
   "execution_count": null,
   "metadata": {},
   "outputs": [],
   "source": [
    "butler = dafPersist.Butler(RERUN_DIR)"
   ]
  },
  {
   "cell_type": "code",
   "execution_count": null,
   "metadata": {},
   "outputs": [],
   "source": [
    "rowData = []\n",
    "calexp_list = []\n",
    "exparray_list = []\n",
    "visit_data_list = []\n",
    "metadata = butler.queryMetadata('calexp',['visit','ccd','filter'])\n",
    "for dataset in metadata:\n",
    "    dataId = {'visit': int(dataset[0]), 'ccd': int(dataset[1]), 'filter':dataset[2]}\n",
    "    if butler.datasetExists('src', dataId=dataId):\n",
    "        srcCatalog = butler.get('src', dataId=dataId).asAstropy().to_pandas() # get the source catalog\n",
    "        raMax = 0#srcCatalog['coord_ra'].max()\n",
    "        raMin = 0#srcCatalog['coord_ra'].min()\n",
    "        decMax = 0#srcCatalog['coord_dec'].max()\n",
    "        decMin = 0#srcCatalog['coord_dec'].min()\n",
    "        raCenter = 0#0.5*(raMax + raMin)\n",
    "        decCenter = 0#0.5*(decMax + decMin)\n",
    "        rowData.append([int(dataset[0]), int(dataset[1]), dataset[2], raCenter, decCenter, \n",
    "                  raMin, raMax, decMin, decMax])\n",
    "        \n",
    "        if int(dataset[1]) == 1:\n",
    "            calexp = butler.get('calexp', visit=int(dataset[0]), ccd=1)\n",
    "            calexp_list.append( calexp )\n",
    "            exparray_list.append( calexp.maskedImage.image.getArray() )\n",
    "            exp_visit_info = calexp.getInfo().getVisitInfo()\n",
    "            visit_date = exp_visit_info.getDate()\n",
    "            visit_data_list.append( [int(dataset[0]), visit_date.toPython()] )\n",
    "            \n",
    "        \n",
    "df_valid_visists = pd.DataFrame(rowData, columns=['visit', 'ccd', 'DECAM_filter', 'ra_center', 'dec_center', \n",
    "                                        'ra_min', 'ra_max', 'dec_min', 'dec_max'])\n",
    "\n",
    "df_visit_data = pd.DataFrame(visit_data_list, columns=['visit', 'date'])"
   ]
  },
  {
   "cell_type": "code",
   "execution_count": null,
   "metadata": {},
   "outputs": [],
   "source": [
    "df_valid_visists.head()"
   ]
  },
  {
   "cell_type": "code",
   "execution_count": null,
   "metadata": {},
   "outputs": [],
   "source": [
    "df_visit_data"
   ]
  },
  {
   "cell_type": "code",
   "execution_count": null,
   "metadata": {},
   "outputs": [],
   "source": [
    "parquet_save_path = '/project/stack-club/course_data/DECAM_BULGE'\n",
    "df_valid_visists.to_parquet( os.path.join(parquet_save_path,'df_valid_visits.parquet.gzip'), compression='gzip')\n"
   ]
  },
  {
   "cell_type": "code",
   "execution_count": null,
   "metadata": {},
   "outputs": [],
   "source": [
    "df_valid_visists.visit.unique()"
   ]
  },
  {
   "cell_type": "code",
   "execution_count": null,
   "metadata": {},
   "outputs": [],
   "source": [
    "CCD = 1\n",
    "\n",
    "for ii,calexp in enumerate(calexp_list[:10]):\n",
    "\n",
    "    plt.figure(ii)\n",
    "    display = afwDisplay.Display(frame=ii, backend='matplotlib')\n",
    "    display.scale(\"linear\", \"zscale\")\n",
    "    display.mtv(calexp[500:1500,2500:3000])\n"
   ]
  },
  {
   "cell_type": "markdown",
   "metadata": {},
   "source": [
    "TODO:\n",
    "\n",
    "- Check astrometry\n",
    "- Make light curves\n",
    "- create co-add image\n",
    "- run ap-pipe\n",
    "\n"
   ]
  },
  {
   "cell_type": "code",
   "execution_count": null,
   "metadata": {},
   "outputs": [],
   "source": []
  },
  {
   "cell_type": "code",
   "execution_count": null,
   "metadata": {},
   "outputs": [],
   "source": []
  },
  {
   "cell_type": "code",
   "execution_count": null,
   "metadata": {},
   "outputs": [],
   "source": []
  },
  {
   "cell_type": "code",
   "execution_count": null,
   "metadata": {},
   "outputs": [],
   "source": []
  }
 ],
 "metadata": {
  "kernelspec": {
   "display_name": "LSST",
   "language": "python",
   "name": "lsst"
  },
  "language_info": {
   "codemirror_mode": {
    "name": "ipython",
    "version": 3
   },
   "file_extension": ".py",
   "mimetype": "text/x-python",
   "name": "python",
   "nbconvert_exporter": "python",
   "pygments_lexer": "ipython3",
   "version": "3.7.8"
  }
 },
 "nbformat": 4,
 "nbformat_minor": 4
}
