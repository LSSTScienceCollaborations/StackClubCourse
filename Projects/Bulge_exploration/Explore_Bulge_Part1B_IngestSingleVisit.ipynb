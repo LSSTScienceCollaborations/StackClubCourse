{
 "cells": [
  {
   "cell_type": "markdown",
   "metadata": {},
   "source": [
    "# Bulge data small ingestion\n",
    "\n",
    "In this notebook we show how to ingest the raw DECam images. We are using one of the five fields of the bulge data set from [Saha et al. (2019)](https://arxiv.org/abs/1902.05637). The field has been observed from Apr. 1 - 3, 2015, with 43 visits and 62 detectors. The raw data is available on `/project/stack-club/course_data/decam-bulge-rawdata`. Here we will ingest only one visit and one CCD per night. . \n",
    "\n",
    "The raw images occupy around 50 GB of disk space.\n",
    "\n",
    "\n",
    "\n",
    "\n"
   ]
  },
  {
   "cell_type": "code",
   "execution_count": null,
   "metadata": {},
   "outputs": [],
   "source": [
    "import os\n",
    "import numpy as np\n",
    "import sqlite3\n",
    "import matplotlib\n",
    "import matplotlib.pyplot as plt\n",
    "import lsst.daf.persistence as dafPersist\n",
    "import lsst.afw.table as afwTable\n",
    "import lsst.afw.display as afwDisplay\n",
    "\n",
    "afwDisplay.setDefaultBackend('matplotlib') \n",
    "\n"
   ]
  },
  {
   "cell_type": "markdown",
   "metadata": {},
   "source": [
    "## Setting up the directories."
   ]
  },
  {
   "cell_type": "code",
   "execution_count": null,
   "metadata": {},
   "outputs": [],
   "source": [
    "# Raw data directory\n",
    "DATA_DIR = '/project/stack-club/course_data/decam-bulge-rawdata/'\n",
    "\n",
    "# Repo directory, we will create a Butler repository in the home directory\n",
    "REPO_DIR = '/home/mrabus/DATA/DECAM_BULGE_SingleVisit/' \n",
    "CALIB_DIR = REPO_DIR + \"CALIB\"\n",
    "RERUN_DIR = REPO_DIR + \"rerun\""
   ]
  },
  {
   "cell_type": "code",
   "execution_count": null,
   "metadata": {},
   "outputs": [],
   "source": [
    "#if repo directory does not exist create it\n",
    "\n",
    "if not os.path.isdir(REPO_DIR):\n",
    "    # Create the REPO_DIR and add the mapper.\n",
    "    ! mkdir -p {REPO_DIR}\n",
    "    ! echo \"lsst.obs.decam.DecamMapper\" > {REPO_DIR+\"_mapper\"}\n",
    "    ! mkdir -p {CALIB_DIR}\n",
    "    \n"
   ]
  },
  {
   "cell_type": "markdown",
   "metadata": {},
   "source": [
    "## Following the standard procedure, we start by linking the reference catalogs to the respository directory.\n",
    "\n"
   ]
  },
  {
   "cell_type": "code",
   "execution_count": null,
   "metadata": {},
   "outputs": [],
   "source": [
    "#args = '/project/shared/decamBulge/saha2/ref_cats ' + REPO_DIR\n",
    "#! ln -s {args}\n",
    "\n",
    "args = REPO_DIR+'/ref_cats'\n",
    "!mkdir {args}\n",
    "\n",
    "args = '/datasets/refcats/htm/v1/sdss-dr9-fink-v5b/ '+REPO_DIR+'/ref_cats/sdss'\n",
    "! ln -s {args}\n",
    "\n",
    "args = '/datasets/refcats/htm/v1/ps1_pv3_3pi_20170110/ '+REPO_DIR+'/ref_cats/ps1_pv3_3pi_20170110'\n",
    "! ln -s {args}\n",
    "\n",
    "args = '/datasets/refcats/htm/v1/gaia_DR1_v1/ '+REPO_DIR+'/ref_cats/gaia'\n",
    "! ln -s {args}"
   ]
  },
  {
   "cell_type": "markdown",
   "metadata": {},
   "source": [
    "### We have to ingest several calibration images like crosstalk, defects, flats, biases and the images itself:"
   ]
  },
  {
   "cell_type": "code",
   "execution_count": null,
   "metadata": {},
   "outputs": [],
   "source": [
    "# ingesting crosstalk\n",
    "args = REPO_DIR + ' --calib ' + CALIB_DIR + ' ' + DATA_DIR + 'DECam/crosstalk/'\n",
    "! ingestCuratedCalibs.py {args}"
   ]
  },
  {
   "cell_type": "code",
   "execution_count": null,
   "metadata": {},
   "outputs": [],
   "source": [
    "# ingesting defects\n",
    "args = REPO_DIR + ' --calib ' + CALIB_DIR + ' ' + DATA_DIR + 'DECam/defects/'\n",
    "! ingestCuratedCalibs.py {args}"
   ]
  },
  {
   "cell_type": "code",
   "execution_count": null,
   "metadata": {},
   "outputs": [],
   "source": [
    "# ingesting raw DECam images\n",
    "args = REPO_DIR + ' ' + DATA_DIR + \"raw/c4d_*.fits.fz --mode=link\"\n",
    "! ingestImages.py {args} "
   ]
  },
  {
   "cell_type": "code",
   "execution_count": null,
   "metadata": {},
   "outputs": [],
   "source": [
    "#ingesting flat and bias images\n",
    "args = REPO_DIR + ' --calib ' + CALIB_DIR + ' ' + DATA_DIR + \\\n",
    "        \"cal/c4d_150403*.fits.fz --mode=link --validity 999 \"\n",
    "! ingestCalibs.py {args}\n",
    "\n",
    "#Works only if I ingest one night of cal data????"
   ]
  },
  {
   "cell_type": "markdown",
   "metadata": {},
   "source": [
    "### Processing single visit and one CCD for each night!\n",
    "\n",
    "Now we are processing a single visit on each night:\n",
    "\n",
    "night 150402, visit = 427320, CCD = 1\n",
    "\n",
    "night 150403, visit = 427940, CCD = 1\n",
    "\n",
    "night 150404, visit = 428626, CCD = 1\n",
    "\n"
   ]
  },
  {
   "cell_type": "code",
   "execution_count": null,
   "metadata": {},
   "outputs": [],
   "source": [
    "args = REPO_DIR + \" --calib \" + CALIB_DIR + \" --rerun \" + RERUN_DIR + \\\n",
    "        \" --id visit=427320 ccdnum=1 \" \n",
    "! processCcd.py {args}"
   ]
  },
  {
   "cell_type": "code",
   "execution_count": null,
   "metadata": {},
   "outputs": [],
   "source": [
    "args = REPO_DIR + \" --calib \" + CALIB_DIR + \" --rerun \" + RERUN_DIR + \\\n",
    "        \" --id visit=427940 ccdnum=1 \" \n",
    "! processCcd.py {args}"
   ]
  },
  {
   "cell_type": "code",
   "execution_count": null,
   "metadata": {},
   "outputs": [],
   "source": [
    "args = REPO_DIR + \" --calib \" + CALIB_DIR + \" --rerun \" + RERUN_DIR + \\\n",
    "        \" --id visit=428626 ccdnum=1 \" \n",
    "! processCcd.py {args}"
   ]
  },
  {
   "cell_type": "markdown",
   "metadata": {},
   "source": [
    "## After processing the images we can start with the butler and displaying images:"
   ]
  },
  {
   "cell_type": "code",
   "execution_count": null,
   "metadata": {},
   "outputs": [],
   "source": [
    "# point Butler to the current rerun directory\n",
    "butler = dafPersist.Butler(RERUN_DIR)"
   ]
  },
  {
   "cell_type": "code",
   "execution_count": null,
   "metadata": {},
   "outputs": [],
   "source": [
    "good_visits = []\n",
    "\n",
    "# show available data\n",
    "metadata = butler.queryMetadata('calexp',['visit','ccd','filter'])\n",
    "for dataset in metadata:\n",
    "    dataId = {'visit': int(dataset[0]), 'ccd': int(dataset[1]), 'filter':dataset[2]}\n",
    "    if butler.datasetExists('src', dataId=dataId):\n",
    "        print(dataId)\n",
    "        \n",
    "        good_visits.append(dataId['visit'])\n"
   ]
  },
  {
   "cell_type": "markdown",
   "metadata": {},
   "source": [
    "We have three visits on three different nights.\n",
    "Next, plot for each visit calexp."
   ]
  },
  {
   "cell_type": "code",
   "execution_count": null,
   "metadata": {},
   "outputs": [],
   "source": [
    "CCD = 1\n",
    "\n",
    "for ii,visit in enumerate(good_visits):\n",
    "\n",
    "    calexp = butler.get('calexp', visit=int(visit), ccd=CCD)\n",
    "\n",
    "    plt.figure(ii)\n",
    "    display = afwDisplay.Display(frame=ii, backend='matplotlib')\n",
    "    display.scale(\"linear\", \"zscale\")\n",
    "    display.mtv(calexp[500:1500,2500:3000])\n"
   ]
  },
  {
   "cell_type": "markdown",
   "metadata": {},
   "source": [
    "All three visits on the different nights correspond to the same pointing. We see from the images, that for the last night the seeing was not good."
   ]
  },
  {
   "cell_type": "code",
   "execution_count": null,
   "metadata": {},
   "outputs": [],
   "source": [
    "#Create a source catalog dictionary for the three visits and print for each visit number of detected sources\n",
    "\n",
    "srcCatalog = {}\n",
    "for visit in good_visits:\n",
    "\n",
    "    dataId={'visit': visit, 'ccd': 1} #This dataId exists\n",
    "    srcCatalog[visit] = butler.get('src', dataId=dataId)\n",
    "    print( 'visit {}, number of detections {}'.format(visit, len(srcCatalog[visit])) )\n",
    "    print( 'visit {}, median effective PSF area {}'.format(visit, np.median(srcCatalog[visit]['base_PsfFlux_area'])) )\n"
   ]
  },
  {
   "cell_type": "markdown",
   "metadata": {},
   "source": [
    "Because for the last night the seeing was not good, the number of detected objects is lower and the effective PSF area is larger.\n",
    "\n"
   ]
  },
  {
   "cell_type": "code",
   "execution_count": null,
   "metadata": {},
   "outputs": [],
   "source": [
    "srcCatalog[427320].asAstropy().to_pandas().head()"
   ]
  },
  {
   "cell_type": "markdown",
   "metadata": {},
   "source": [
    "Plot for each visit the detected source \n",
    "\n"
   ]
  },
  {
   "cell_type": "code",
   "execution_count": null,
   "metadata": {},
   "outputs": [],
   "source": [
    "markers = ['+', 'x', '2']\n",
    "\n",
    "plt.figure(figsize=(10,10))\n",
    "\n",
    "for ii, visit in enumerate(good_visits):\n",
    "\n",
    "    plt.scatter(srcCatalog[visit]['coord_ra'], srcCatalog[visit]['coord_dec'], marker=markers[ii], label='{}'.format(visit))\n",
    "\n",
    "plt.legend()\n",
    "plt.xlabel('RA')\n",
    "plt.ylabel('Dec')\n"
   ]
  },
  {
   "cell_type": "markdown",
   "metadata": {},
   "source": [
    "It looks very crowdy. "
   ]
  },
  {
   "cell_type": "code",
   "execution_count": null,
   "metadata": {},
   "outputs": [],
   "source": []
  },
  {
   "cell_type": "code",
   "execution_count": null,
   "metadata": {},
   "outputs": [],
   "source": []
  }
 ],
 "metadata": {
  "kernelspec": {
   "display_name": "LSST",
   "language": "python",
   "name": "lsst"
  },
  "language_info": {
   "codemirror_mode": {
    "name": "ipython",
    "version": 3
   },
   "file_extension": ".py",
   "mimetype": "text/x-python",
   "name": "python",
   "nbconvert_exporter": "python",
   "pygments_lexer": "ipython3",
   "version": "3.7.8"
  }
 },
 "nbformat": 4,
 "nbformat_minor": 4
}
