{
 "cells": [
  {
   "cell_type": "markdown",
   "metadata": {},
   "source": [
    "# Session 04: Single-image processing\n",
    "\n",
    "<br>Owner(s): **Andrew Bradshaw** ([@andrewkbradshaw](https://github.com/LSSTScienceCollaborations/StackClub/issues/new?body=@andrewkbradshaw))\n",
    "<br>Last Verified to Run: **2020-06-04**\n",
    "<br>Verified Stack Release: **w_2020_22**\n",
    "\n",
    "This notebook is a translation of Andrew's slides from Session 04. It performs single-image processing using real spot data from the BOT. Andrew's original slides can be found [here](https://docs.google.com/presentation/d/13kYEhKHXIOBYqgHr5JxjLgLflyExptDVyEf8xtOWp-s/edit#slide=id.p)."
   ]
  },
  {
   "cell_type": "code",
   "execution_count": null,
   "metadata": {},
   "outputs": [],
   "source": [
    "# What version of the Stack am I using?\n",
    "! echo $HOSTNAME\n",
    "! eups list -s lsst_distrib"
   ]
  },
  {
   "cell_type": "code",
   "execution_count": null,
   "metadata": {},
   "outputs": [],
   "source": [
    "%matplotlib inline"
   ]
  },
  {
   "cell_type": "markdown",
   "metadata": {},
   "source": [
    "## Creating a local repository\n",
    "\n",
    "In the Science Pipelines, you don’t directly manage data files. Instead, you access data through the Butler. This will hopefully give you flexibility to work with data from different observatories and non-local disks without significantly changing your workflow.\n",
    "\n",
    "The Butler manages data in repositories. Butler repositories can be remote (the data is on a server, across a network) or local (the data in on a local filesystem). Here you’ll create and use a local Butler repository, which is a simple directory.\n",
    "\n",
    "Below is how to create a local Butler repository in the DATA folder your home directory"
   ]
  },
  {
   "cell_type": "code",
   "execution_count": null,
   "metadata": {},
   "outputs": [],
   "source": [
    "# This is where all the data exists at NCSA\n",
    "DATA_DIR = '/project/shared/BOT/'\n",
    "\n",
    "# Where to store your stuff (change YOURNAME to your username)\n",
    "REPO_DIR = '/home/kadrlica/DATA/STACK_CLUB_BOT_TEST/' \n",
    "CALIB_DIR = REPO_DIR + \"CALIB\"\n",
    "RERUN_DIR = REPO_DIR + \"calib_construction\"\n",
    "\n",
    "# Create the REPO_DIR and add the mapper.\n",
    "\n",
    "#! rm -rf {REPO_DIR} # Uncomment to remove exisitng directory\n",
    "! mkdir -p {REPO_DIR}\n",
    "! echo \"lsst.obs.lsst.lsstCamMapper.LsstCamMapper\" > {REPO_DIR+\"_mapper\"}\n",
    "! mkdir -p {CALIB_DIR}"
   ]
  },
  {
   "cell_type": "markdown",
   "metadata": {},
   "source": [
    "## Making a master bias frame"
   ]
  },
  {
   "cell_type": "code",
   "execution_count": null,
   "metadata": {},
   "outputs": [],
   "source": [
    "# Now create a master bias for a detector \n",
    "RAFT, DETECTOR_NAME, DETECTOR= 'R22','S11',94\n",
    "\n",
    "# use only 5 bias frames with visit numbers\n",
    "start=3019103101866\n",
    "end  =3019103101870\n",
    "\n",
    "# compose the arguments for command line\n",
    "args = DATA_DIR + \" --calib \" + CALIB_DIR + \\\n",
    "   \t\" --rerun \" + RERUN_DIR + \\\n",
    "   \t\" --id visit=%d..%d detector=%d\"%(start,end,DETECTOR) + \\\n",
    "   \t\" --batch-type=None\" + \" -c isr.doCrosstalk=False\" + \\\n",
    "\" --clobber-config\"\n",
    "\n",
    "print(args)\n",
    "\n",
    "! constructBias.py {args}"
   ]
  },
  {
   "cell_type": "markdown",
   "metadata": {},
   "source": [
    "## Look at the new master bias"
   ]
  },
  {
   "cell_type": "code",
   "execution_count": null,
   "metadata": {},
   "outputs": [],
   "source": [
    "from astropy.io import fits\n",
    "import matplotlib.pyplot as plt\n",
    "import glob\n",
    "\n",
    "biasname=glob.glob(RERUN_DIR + \"/bias/*/*.fits\")[0]\n",
    "print(biasname)\n",
    "bias=fits.getdata(biasname)\n",
    "\n",
    "plt.figure(figsize=(10,10))\n",
    "plt.imshow(bias,vmin=-10,vmax=10)\n",
    "plt.colorbar()\n",
    "plt.title('master bias frame \\n  raft,sensor='+RAFT+','+DETECTOR_NAME)"
   ]
  },
  {
   "cell_type": "markdown",
   "metadata": {},
   "source": [
    "## Ingest the master bias frame\n",
    "\n",
    "You can now populate the repository with our first new data, the master bias frame we made. The Pipelines’ ingestImages.py command (called a command-line task) links raw images into a Butler repository, allowing the mapper to organize the data. ingestCalibs.py adds these as files specifically as calibration images for other data from that sensor and time (validity range)\n",
    "\n",
    "Notice that the first argument to most command-line tasks is the Butler repository. In this case it’s the `DATA` directory.\n",
    "\n",
    "You can learn about the arguments for command-line tasks with the `-h` flag. For example:\n",
    "```\n",
    "ingestImages.py -h\n",
    "```"
   ]
  },
  {
   "cell_type": "code",
   "execution_count": null,
   "metadata": {},
   "outputs": [],
   "source": [
    "# Now ingest the master bias image\n",
    "args = REPO_DIR + \" \" + RERUN_DIR + \"/bias/*/*.fits\" + \" --validity 9999\" + \" --calib \" + CALIB_DIR + \" --mode=link\"\n",
    "! ingestCalibs.py {args}"
   ]
  },
  {
   "cell_type": "markdown",
   "metadata": {},
   "source": [
    "## Now make a master dark"
   ]
  },
  {
   "cell_type": "code",
   "execution_count": null,
   "metadata": {},
   "outputs": [],
   "source": [
    "# Now create a master dark\n",
    "# first make a list of visits\n",
    "# Five 30 second darks\n",
    "visits = []\n",
    "starting_visit = 3019103101871\n",
    "ending_visit   = 3019103101875\n",
    "visit = starting_visit\n",
    "while visit < ending_visit + 1:\n",
    "    visits.append(visit)\n",
    "    visit += 1\n",
    "print(len(visits))"
   ]
  },
  {
   "cell_type": "code",
   "execution_count": null,
   "metadata": {},
   "outputs": [],
   "source": [
    "# create constructDark args string\n",
    "\n",
    "args = DATA_DIR + \" --calib \" + CALIB_DIR + \" --rerun \" + RERUN_DIR + \" --id visit=\"\n",
    "for visit in visits:\n",
    "    if visit != starting_visit:\n",
    "        args += \"^\"\n",
    "    args += str(visit)\n",
    "args += \" detector=%d\"%DETECTOR\n",
    "args += \" --batch-type=None\" + \" -c isr.doCrosstalk=False \" +  \"--clobber-config\"\n",
    "print(args)\n",
    "! constructDark.py {args}"
   ]
  },
  {
   "cell_type": "markdown",
   "metadata": {},
   "source": [
    "## Ingest the master dark frame"
   ]
  },
  {
   "cell_type": "code",
   "execution_count": null,
   "metadata": {},
   "outputs": [],
   "source": [
    "# Now ingest the master dark image\n",
    "args = REPO_DIR + \" \" + \\\n",
    "       RERUN_DIR + \"/dark/*/*.fits\" + \\\n",
    "       \" --validity 9999\" + \\\n",
    "       \" --calib \" + CALIB_DIR + \\\n",
    "       \" --mode=link\"\n",
    "\n",
    "! ingestCalibs.py {args}"
   ]
  },
  {
   "cell_type": "markdown",
   "metadata": {},
   "source": [
    "## Similarly, make a master flat"
   ]
  },
  {
   "cell_type": "code",
   "execution_count": null,
   "metadata": {},
   "outputs": [],
   "source": [
    "# Now create a master flat\n",
    "visits = []\n",
    "starting_visit = 3019110200307\n",
    "ending_visit = 3019110200308\n",
    "\n",
    "visit = starting_visit\n",
    "while visit < ending_visit + 1:\n",
    "    visits.append(visit)\n",
    "    visit += 1\n",
    "print(len(visits))"
   ]
  },
  {
   "cell_type": "code",
   "execution_count": null,
   "metadata": {},
   "outputs": [],
   "source": [
    "args = DATA_DIR + \" --calib \" + CALIB_DIR + \" --rerun \" + RERUN_DIR + \" --id visit=\"\n",
    "for visit in visits:\n",
    "    if visit != starting_visit:\n",
    "        args += \"^\"\n",
    "    args += str(visit)\n",
    "\n",
    "args += \" detector=%d\"%DETECTOR\n",
    "args += \" --batch-type=None\" + \" -c isr.doCrosstalk=False\" + \" --clobber-config\"\n",
    "\n",
    "print(args)\n",
    "\n",
    "! constructFlat.py {args}"
   ]
  },
  {
   "cell_type": "markdown",
   "metadata": {},
   "source": [
    "## Ingest the master flat frame"
   ]
  },
  {
   "cell_type": "code",
   "execution_count": null,
   "metadata": {},
   "outputs": [],
   "source": [
    "# Now ingest the master flat images\n",
    "args = REPO_DIR + \" \" + RERUN_DIR + \\\n",
    "       \"/flat/*/*/*.fits\" + \\\n",
    "       \" --validity 9999\" + \\\n",
    "       \" --calib \" + CALIB_DIR + \\\n",
    "       \" --mode=link\"\n",
    "\n",
    "! ingestCalibs.py {args}"
   ]
  },
  {
   "cell_type": "markdown",
   "metadata": {},
   "source": [
    "## Now get a spot image to run ISR on"
   ]
  },
  {
   "cell_type": "code",
   "execution_count": null,
   "metadata": {},
   "outputs": [],
   "source": [
    "from lsst.daf.persistence import Butler\n",
    "\n",
    "spot_visit = 3019103101985  \n",
    "#This is a medium exposure\n",
    "butler = Butler(DATA_DIR, calibRoot=CALIB_DIR)\n",
    "spotDataRef = butler.dataRef('raw', raftName=RAFT,\n",
    "                         \tdetectorName=DETECTOR_NAME,\n",
    "                         \tvisit=spot_visit)"
   ]
  },
  {
   "cell_type": "markdown",
   "metadata": {},
   "source": [
    "## Configure an IsrTask and run it inside of python"
   ]
  },
  {
   "cell_type": "code",
   "execution_count": null,
   "metadata": {},
   "outputs": [],
   "source": [
    "# configure an IsrTask\n",
    "from lsst.ip.isr.isrTask import IsrTask\n",
    "isrConfig = IsrTask.ConfigClass()\n",
    "isrConfig.doLinearize = False\n",
    "isrConfig.doBias = True     # use the calibs we made!\n",
    "isrConfig.doFlat = True\n",
    "isrConfig.doDark = True\n",
    "isrConfig.doFringe = False   # we did not do these, skip\n",
    "isrConfig.doDefect = False\n",
    "isrConfig.doWrite = False\n",
    "isrConfig.fallbackFilterName = 'SDSSi~empty'  #  Both of these are needed\n",
    "isrConfig.useFallbackDate = True          \t#  Both of these are needed\n",
    "isrTask = IsrTask(config=isrConfig)\n",
    "# run the task and take the exposure\n",
    "postIsrSpot = isrTask.run(spotDataRef).exposure"
   ]
  },
  {
   "cell_type": "markdown",
   "metadata": {},
   "source": [
    "## View the spot images after ISR"
   ]
  },
  {
   "cell_type": "code",
   "execution_count": null,
   "metadata": {},
   "outputs": [],
   "source": [
    "# Now just look at a portion of the images\n",
    "plt.figure(figsize=(16,16))    \n",
    "plt.subplot(1,2,1)\n",
    "plt.title(\"Post ISR Spot\")\n",
    "plt.imshow(postIsrSpot.image.array[2000:3000,2000:3000],vmin=0,vmax=1000)\n",
    "plt.subplot(1,2,2)\n",
    "plt.title(\"Post ISR Spot\")\n",
    "plt.imshow(postIsrSpot.image.array[2510:2550,2535:2575],vmin=0,vmax=1000)"
   ]
  },
  {
   "cell_type": "markdown",
   "metadata": {},
   "source": [
    "## Find the spots in the corrected image"
   ]
  },
  {
   "cell_type": "code",
   "execution_count": null,
   "metadata": {},
   "outputs": [],
   "source": [
    "# Now let's try finding the spots\n",
    "from lsst.pipe.tasks.characterizeImage import CharacterizeImageTask, CharacterizeImageConfig\n",
    "charConfig = CharacterizeImageConfig()\n",
    "\n",
    "charConfig.installSimplePsf.fwhm = 1.0   # save a step, start with a guess\n",
    "charConfig.doMeasurePsf = False          # but you could measure it\n",
    "charConfig.doApCorr = False              # a lot of nice steps we can skip\n",
    "charConfig.doDeblend = False\n",
    "charConfig.repair.doCosmicRay = True\n",
    "charConfig.repair.doInterpolate = False   \n",
    "charConfig.detection.background.binSize = 32    # what scale to est. bg\n",
    "charConfig.detection.minPixels = 20             # min number of pixels\n",
    "charTask = CharacterizeImageTask(config=charConfig)\n",
    "charResult = charTask.run(postIsrSpot)\n",
    "\n",
    "print(\"Detected \",len(charResult.sourceCat),\" objects \")"
   ]
  },
  {
   "cell_type": "markdown",
   "metadata": {},
   "source": [
    "## Display the spots found, using their centroid"
   ]
  },
  {
   "cell_type": "code",
   "execution_count": null,
   "metadata": {},
   "outputs": [],
   "source": [
    "plt.figure(figsize=(16,16))\n",
    "plt.title('X/Y locations of detections - E2V')\n",
    "plt.plot(charResult.sourceCat['base_SdssCentroid_x'],\n",
    "         charResult.sourceCat['base_SdssCentroid_y'],'r.')"
   ]
  },
  {
   "cell_type": "markdown",
   "metadata": {},
   "source": [
    "## Playground...\n",
    "\n",
    "Below is a place to play around with your spot image and catalog. For example, \n",
    "\n",
    "* Explore the catalog produced by the single fits image using data visualization tools\n",
    "* Turn off bias and dark correction, or cosmic ray interpolation and re-do detection\n",
    "* Try lowering the number of pixels for detection\n",
    "* Look at the regions around cosmic rays.\n",
    "* ...!\n",
    "\n",
    "Add your own playground example..."
   ]
  },
  {
   "cell_type": "markdown",
   "metadata": {},
   "source": [
    "## Playground: Investigating Cosmic Rays"
   ]
  },
  {
   "cell_type": "code",
   "execution_count": null,
   "metadata": {},
   "outputs": [],
   "source": [
    "import numpy as np\n",
    "\n",
    "# Figure out which pixels are identified as cosmic rays\n",
    "print(postIsrSpot.mask.getMaskPlaneDict())\n",
    "bit = 2**postIsrSpot.mask.getMaskPlaneDict()['CR']\n",
    "# Or even better\n",
    "bit = postIsrSpot.getMask().getPlaneBitMask('CR')\n",
    "\n",
    "# Select interpolated pixels\n",
    "sel = (postIsrSpot.mask.array & bit) > 0\n",
    "sel.sum()\n",
    "\n",
    "# Find a region to make cutouts around\n",
    "idx,idy = np.where(sel)\n",
    "print(idx)\n",
    "print(idy)\n",
    "print(postIsrSpot.mask.array[idx,idy])\n",
    "\n",
    "# Make a cutout\n",
    "fig,ax = plt.subplots(1,2,figsize=(8,4))\n",
    "ax[0].imshow(postIsrSpot.image.array[1710:1720,645:665])\n",
    "ax[1].imshow(postIsrSpot.mask.array[1710:1720,645:665])\n"
   ]
  }
 ],
 "metadata": {
  "kernelspec": {
   "display_name": "LSST",
   "language": "python",
   "name": "lsst"
  },
  "language_info": {
   "codemirror_mode": {
    "name": "ipython",
    "version": 3
   },
   "file_extension": ".py",
   "mimetype": "text/x-python",
   "name": "python",
   "nbconvert_exporter": "python",
   "pygments_lexer": "ipython3",
   "version": "3.7.6"
  }
 },
 "nbformat": 4,
 "nbformat_minor": 4
}
